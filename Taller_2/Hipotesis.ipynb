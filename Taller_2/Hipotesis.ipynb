{
 "cells": [
  {
   "cell_type": "markdown",
   "id": "4a05e0c9-9df8-48b5-b64d-805757d6ea8c",
   "metadata": {},
   "source": [
    "# > Hipotesis de investigacion"
   ]
  },
  {
   "cell_type": "markdown",
   "id": "819c7736-4f7c-4134-aede-5e58c08d0be1",
   "metadata": {},
   "source": [
    " **19. Selección de Características:** En problemas de clasificación con datos altamente dimensionales (al menos varias decenas de atributos), el método RELIEF es más efectivo y eficiente que el método denominado MRMR (Minimum-Redundancy-Maximum-Relevance)"
   ]
  },
  {
   "cell_type": "markdown",
   "id": "8930b2e6-0278-453e-bf87-d72a8148b0e7",
   "metadata": {},
   "source": [
    "Integrantes: \\\n",
    "                 -Hugo Rocha -- 201610531-K \\\n",
    "                 -Gabriel Vergara -- 201510519-7\n",
    "\n",
    "Equipo: RNG"
   ]
  },
  {
   "cell_type": "markdown",
   "id": "1959df4e-fd99-4cbd-9dc3-34697e3b1ae3",
   "metadata": {},
   "source": [
    "[Video de la defensa](https://youtu.be/Lo9bp2NuXZQ)"
   ]
  },
  {
   "cell_type": "markdown",
   "id": "0f1a20cd-818a-48cf-aa74-9c697c8bfaf5",
   "metadata": {},
   "source": [
    "El presente es un trabajo original, desarrollado por los autores en conformidad con todas reglas de codigo de honor y honestidad. Sumado a esto ultimo \n",
    "se deja en claro que la contribucion de ambos participantes en el presente trabajo fue la siguiente:\n",
    "\n",
    "Gabriel Vergara:\\\n",
    "-Recoleccion de data sets. \\\n",
    "-Testeo inicial 20 n_features. \n",
    "                 \n",
    "Hugo Rocha:      \n",
    "-Aplicacion de metodos ReliefF Y MRMR. \\\n",
    "-Cross Validation distintas N_features. \n",
    "\n",
    "Ambos trabajamos de manera colaborativa en la formulacion de las conclusiones obtenidas en el presente trabajo."
   ]
  },
  {
   "cell_type": "code",
   "execution_count": 1,
   "id": "b691d812-9660-4f17-8c26-3b10b483697c",
   "metadata": {},
   "outputs": [],
   "source": [
    "import pandas as pd\n",
    "import numpy as np\n",
    "import matplotlib.pyplot as plt\n",
    "import seaborn as sns\n",
    "import plotly.graph_objs as go\n",
    "\n",
    "from sklearn.preprocessing import LabelEncoder\n",
    "from sklearn.model_selection import train_test_split, cross_val_score\n",
    "from sklearn.metrics import roc_curve, auc, confusion_matrix\n",
    "from sklearn.metrics import accuracy_score\n",
    "from sklearn.metrics import precision_score\n",
    "from sklearn.metrics import confusion_matrix, ConfusionMatrixDisplay\n",
    "from sklearn.metrics import mean_squared_error\n",
    "\n",
    "\n",
    "from sklearn.linear_model import LogisticRegression\n",
    "from sklearn.discriminant_analysis import LinearDiscriminantAnalysis\n",
    "from sklearn.discriminant_analysis import QuadraticDiscriminantAnalysis\n",
    "\n",
    "import numpy as np\n",
    "import seaborn as sns\n",
    "import matplotlib.pyplot as plt\n",
    "import pandas as pd\n",
    "from scipy.stats import multivariate_t,multivariate_normal,t,uniform,skewnorm,norm,chi2,expon,erlang\n",
    "\n",
    "import warnings\n",
    "warnings.filterwarnings(\"ignore\")"
   ]
  },
  {
   "cell_type": "code",
   "execution_count": 2,
   "id": "f527f9db-496f-48a7-a008-7adc867000c0",
   "metadata": {},
   "outputs": [],
   "source": [
    "def mape(actual, pred): \n",
    "    actual, pred = np.array(actual), np.array(pred)\n",
    "    return np.mean(np.abs((actual - pred) / actual)) * 100"
   ]
  },
  {
   "cell_type": "markdown",
   "id": "9a313fe9-b4a5-40c0-a4f3-4b0a696f4992",
   "metadata": {},
   "source": [
    "## -Metodologia"
   ]
  },
  {
   "cell_type": "markdown",
   "id": "32838f66-0ec7-4bf0-a6e8-52c6b2100907",
   "metadata": {},
   "source": [
    " A continuacion pondremos a prueba esta hipotesis haciendo uso de 3 data sets de clasificacion con 57 , 170 y 49 columnas respectivamente. Para cada uno de ellos se hara uso de los metodos ReliefF y MRMR comparandolos simultaniamente para varios valores de N_features mediante la metrica precision_score y haciendo uso de un modelo a eleccion."
   ]
  },
  {
   "cell_type": "markdown",
   "id": "dfcd15d8-4ca7-43f2-b10c-610892e9805c",
   "metadata": {},
   "source": [
    "# * Data set Spam"
   ]
  },
  {
   "cell_type": "code",
   "execution_count": 3,
   "id": "881f51ec-1540-4d74-b96e-7a340a0f22d4",
   "metadata": {},
   "outputs": [],
   "source": [
    "data= pd.read_csv(\"spam.csv\")"
   ]
  },
  {
   "cell_type": "code",
   "execution_count": 4,
   "id": "a6fcb966-a32e-48e6-84a7-315d53d699d4",
   "metadata": {},
   "outputs": [
    {
     "data": {
      "text/html": [
       "<div>\n",
       "<style scoped>\n",
       "    .dataframe tbody tr th:only-of-type {\n",
       "        vertical-align: middle;\n",
       "    }\n",
       "\n",
       "    .dataframe tbody tr th {\n",
       "        vertical-align: top;\n",
       "    }\n",
       "\n",
       "    .dataframe thead th {\n",
       "        text-align: right;\n",
       "    }\n",
       "</style>\n",
       "<table border=\"1\" class=\"dataframe\">\n",
       "  <thead>\n",
       "    <tr style=\"text-align: right;\">\n",
       "      <th></th>\n",
       "      <th>make</th>\n",
       "      <th>address</th>\n",
       "      <th>all</th>\n",
       "      <th>num3d</th>\n",
       "      <th>our</th>\n",
       "      <th>over</th>\n",
       "      <th>remove</th>\n",
       "      <th>internet</th>\n",
       "      <th>order</th>\n",
       "      <th>mail</th>\n",
       "      <th>...</th>\n",
       "      <th>charSemicolon</th>\n",
       "      <th>charRoundbracket</th>\n",
       "      <th>charSquarebracket</th>\n",
       "      <th>charExclamation</th>\n",
       "      <th>charDollar</th>\n",
       "      <th>charHash</th>\n",
       "      <th>capitalAve</th>\n",
       "      <th>capitalLong</th>\n",
       "      <th>capitalTotal</th>\n",
       "      <th>type</th>\n",
       "    </tr>\n",
       "  </thead>\n",
       "  <tbody>\n",
       "    <tr>\n",
       "      <th>0</th>\n",
       "      <td>0.00</td>\n",
       "      <td>0.64</td>\n",
       "      <td>0.64</td>\n",
       "      <td>0.0</td>\n",
       "      <td>0.32</td>\n",
       "      <td>0.00</td>\n",
       "      <td>0.00</td>\n",
       "      <td>0.00</td>\n",
       "      <td>0.00</td>\n",
       "      <td>0.00</td>\n",
       "      <td>...</td>\n",
       "      <td>0.000</td>\n",
       "      <td>0.000</td>\n",
       "      <td>0.0</td>\n",
       "      <td>0.778</td>\n",
       "      <td>0.000</td>\n",
       "      <td>0.000</td>\n",
       "      <td>3.756</td>\n",
       "      <td>61</td>\n",
       "      <td>278</td>\n",
       "      <td>spam</td>\n",
       "    </tr>\n",
       "    <tr>\n",
       "      <th>1</th>\n",
       "      <td>0.21</td>\n",
       "      <td>0.28</td>\n",
       "      <td>0.50</td>\n",
       "      <td>0.0</td>\n",
       "      <td>0.14</td>\n",
       "      <td>0.28</td>\n",
       "      <td>0.21</td>\n",
       "      <td>0.07</td>\n",
       "      <td>0.00</td>\n",
       "      <td>0.94</td>\n",
       "      <td>...</td>\n",
       "      <td>0.000</td>\n",
       "      <td>0.132</td>\n",
       "      <td>0.0</td>\n",
       "      <td>0.372</td>\n",
       "      <td>0.180</td>\n",
       "      <td>0.048</td>\n",
       "      <td>5.114</td>\n",
       "      <td>101</td>\n",
       "      <td>1028</td>\n",
       "      <td>spam</td>\n",
       "    </tr>\n",
       "    <tr>\n",
       "      <th>2</th>\n",
       "      <td>0.06</td>\n",
       "      <td>0.00</td>\n",
       "      <td>0.71</td>\n",
       "      <td>0.0</td>\n",
       "      <td>1.23</td>\n",
       "      <td>0.19</td>\n",
       "      <td>0.19</td>\n",
       "      <td>0.12</td>\n",
       "      <td>0.64</td>\n",
       "      <td>0.25</td>\n",
       "      <td>...</td>\n",
       "      <td>0.010</td>\n",
       "      <td>0.143</td>\n",
       "      <td>0.0</td>\n",
       "      <td>0.276</td>\n",
       "      <td>0.184</td>\n",
       "      <td>0.010</td>\n",
       "      <td>9.821</td>\n",
       "      <td>485</td>\n",
       "      <td>2259</td>\n",
       "      <td>spam</td>\n",
       "    </tr>\n",
       "    <tr>\n",
       "      <th>3</th>\n",
       "      <td>0.00</td>\n",
       "      <td>0.00</td>\n",
       "      <td>0.00</td>\n",
       "      <td>0.0</td>\n",
       "      <td>0.63</td>\n",
       "      <td>0.00</td>\n",
       "      <td>0.31</td>\n",
       "      <td>0.63</td>\n",
       "      <td>0.31</td>\n",
       "      <td>0.63</td>\n",
       "      <td>...</td>\n",
       "      <td>0.000</td>\n",
       "      <td>0.137</td>\n",
       "      <td>0.0</td>\n",
       "      <td>0.137</td>\n",
       "      <td>0.000</td>\n",
       "      <td>0.000</td>\n",
       "      <td>3.537</td>\n",
       "      <td>40</td>\n",
       "      <td>191</td>\n",
       "      <td>spam</td>\n",
       "    </tr>\n",
       "    <tr>\n",
       "      <th>4</th>\n",
       "      <td>0.00</td>\n",
       "      <td>0.00</td>\n",
       "      <td>0.00</td>\n",
       "      <td>0.0</td>\n",
       "      <td>0.63</td>\n",
       "      <td>0.00</td>\n",
       "      <td>0.31</td>\n",
       "      <td>0.63</td>\n",
       "      <td>0.31</td>\n",
       "      <td>0.63</td>\n",
       "      <td>...</td>\n",
       "      <td>0.000</td>\n",
       "      <td>0.135</td>\n",
       "      <td>0.0</td>\n",
       "      <td>0.135</td>\n",
       "      <td>0.000</td>\n",
       "      <td>0.000</td>\n",
       "      <td>3.537</td>\n",
       "      <td>40</td>\n",
       "      <td>191</td>\n",
       "      <td>spam</td>\n",
       "    </tr>\n",
       "    <tr>\n",
       "      <th>...</th>\n",
       "      <td>...</td>\n",
       "      <td>...</td>\n",
       "      <td>...</td>\n",
       "      <td>...</td>\n",
       "      <td>...</td>\n",
       "      <td>...</td>\n",
       "      <td>...</td>\n",
       "      <td>...</td>\n",
       "      <td>...</td>\n",
       "      <td>...</td>\n",
       "      <td>...</td>\n",
       "      <td>...</td>\n",
       "      <td>...</td>\n",
       "      <td>...</td>\n",
       "      <td>...</td>\n",
       "      <td>...</td>\n",
       "      <td>...</td>\n",
       "      <td>...</td>\n",
       "      <td>...</td>\n",
       "      <td>...</td>\n",
       "      <td>...</td>\n",
       "    </tr>\n",
       "    <tr>\n",
       "      <th>4596</th>\n",
       "      <td>0.31</td>\n",
       "      <td>0.00</td>\n",
       "      <td>0.62</td>\n",
       "      <td>0.0</td>\n",
       "      <td>0.00</td>\n",
       "      <td>0.31</td>\n",
       "      <td>0.00</td>\n",
       "      <td>0.00</td>\n",
       "      <td>0.00</td>\n",
       "      <td>0.00</td>\n",
       "      <td>...</td>\n",
       "      <td>0.000</td>\n",
       "      <td>0.232</td>\n",
       "      <td>0.0</td>\n",
       "      <td>0.000</td>\n",
       "      <td>0.000</td>\n",
       "      <td>0.000</td>\n",
       "      <td>1.142</td>\n",
       "      <td>3</td>\n",
       "      <td>88</td>\n",
       "      <td>nonspam</td>\n",
       "    </tr>\n",
       "    <tr>\n",
       "      <th>4597</th>\n",
       "      <td>0.00</td>\n",
       "      <td>0.00</td>\n",
       "      <td>0.00</td>\n",
       "      <td>0.0</td>\n",
       "      <td>0.00</td>\n",
       "      <td>0.00</td>\n",
       "      <td>0.00</td>\n",
       "      <td>0.00</td>\n",
       "      <td>0.00</td>\n",
       "      <td>0.00</td>\n",
       "      <td>...</td>\n",
       "      <td>0.000</td>\n",
       "      <td>0.000</td>\n",
       "      <td>0.0</td>\n",
       "      <td>0.353</td>\n",
       "      <td>0.000</td>\n",
       "      <td>0.000</td>\n",
       "      <td>1.555</td>\n",
       "      <td>4</td>\n",
       "      <td>14</td>\n",
       "      <td>nonspam</td>\n",
       "    </tr>\n",
       "    <tr>\n",
       "      <th>4598</th>\n",
       "      <td>0.30</td>\n",
       "      <td>0.00</td>\n",
       "      <td>0.30</td>\n",
       "      <td>0.0</td>\n",
       "      <td>0.00</td>\n",
       "      <td>0.00</td>\n",
       "      <td>0.00</td>\n",
       "      <td>0.00</td>\n",
       "      <td>0.00</td>\n",
       "      <td>0.00</td>\n",
       "      <td>...</td>\n",
       "      <td>0.102</td>\n",
       "      <td>0.718</td>\n",
       "      <td>0.0</td>\n",
       "      <td>0.000</td>\n",
       "      <td>0.000</td>\n",
       "      <td>0.000</td>\n",
       "      <td>1.404</td>\n",
       "      <td>6</td>\n",
       "      <td>118</td>\n",
       "      <td>nonspam</td>\n",
       "    </tr>\n",
       "    <tr>\n",
       "      <th>4599</th>\n",
       "      <td>0.96</td>\n",
       "      <td>0.00</td>\n",
       "      <td>0.00</td>\n",
       "      <td>0.0</td>\n",
       "      <td>0.32</td>\n",
       "      <td>0.00</td>\n",
       "      <td>0.00</td>\n",
       "      <td>0.00</td>\n",
       "      <td>0.00</td>\n",
       "      <td>0.00</td>\n",
       "      <td>...</td>\n",
       "      <td>0.000</td>\n",
       "      <td>0.057</td>\n",
       "      <td>0.0</td>\n",
       "      <td>0.000</td>\n",
       "      <td>0.000</td>\n",
       "      <td>0.000</td>\n",
       "      <td>1.147</td>\n",
       "      <td>5</td>\n",
       "      <td>78</td>\n",
       "      <td>nonspam</td>\n",
       "    </tr>\n",
       "    <tr>\n",
       "      <th>4600</th>\n",
       "      <td>0.00</td>\n",
       "      <td>0.00</td>\n",
       "      <td>0.65</td>\n",
       "      <td>0.0</td>\n",
       "      <td>0.00</td>\n",
       "      <td>0.00</td>\n",
       "      <td>0.00</td>\n",
       "      <td>0.00</td>\n",
       "      <td>0.00</td>\n",
       "      <td>0.00</td>\n",
       "      <td>...</td>\n",
       "      <td>0.000</td>\n",
       "      <td>0.000</td>\n",
       "      <td>0.0</td>\n",
       "      <td>0.125</td>\n",
       "      <td>0.000</td>\n",
       "      <td>0.000</td>\n",
       "      <td>1.250</td>\n",
       "      <td>5</td>\n",
       "      <td>40</td>\n",
       "      <td>nonspam</td>\n",
       "    </tr>\n",
       "  </tbody>\n",
       "</table>\n",
       "<p>4601 rows × 58 columns</p>\n",
       "</div>"
      ],
      "text/plain": [
       "      make  address   all  num3d   our  over  remove  internet  order  mail  \\\n",
       "0     0.00     0.64  0.64    0.0  0.32  0.00    0.00      0.00   0.00  0.00   \n",
       "1     0.21     0.28  0.50    0.0  0.14  0.28    0.21      0.07   0.00  0.94   \n",
       "2     0.06     0.00  0.71    0.0  1.23  0.19    0.19      0.12   0.64  0.25   \n",
       "3     0.00     0.00  0.00    0.0  0.63  0.00    0.31      0.63   0.31  0.63   \n",
       "4     0.00     0.00  0.00    0.0  0.63  0.00    0.31      0.63   0.31  0.63   \n",
       "...    ...      ...   ...    ...   ...   ...     ...       ...    ...   ...   \n",
       "4596  0.31     0.00  0.62    0.0  0.00  0.31    0.00      0.00   0.00  0.00   \n",
       "4597  0.00     0.00  0.00    0.0  0.00  0.00    0.00      0.00   0.00  0.00   \n",
       "4598  0.30     0.00  0.30    0.0  0.00  0.00    0.00      0.00   0.00  0.00   \n",
       "4599  0.96     0.00  0.00    0.0  0.32  0.00    0.00      0.00   0.00  0.00   \n",
       "4600  0.00     0.00  0.65    0.0  0.00  0.00    0.00      0.00   0.00  0.00   \n",
       "\n",
       "      ...  charSemicolon  charRoundbracket  charSquarebracket  \\\n",
       "0     ...          0.000             0.000                0.0   \n",
       "1     ...          0.000             0.132                0.0   \n",
       "2     ...          0.010             0.143                0.0   \n",
       "3     ...          0.000             0.137                0.0   \n",
       "4     ...          0.000             0.135                0.0   \n",
       "...   ...            ...               ...                ...   \n",
       "4596  ...          0.000             0.232                0.0   \n",
       "4597  ...          0.000             0.000                0.0   \n",
       "4598  ...          0.102             0.718                0.0   \n",
       "4599  ...          0.000             0.057                0.0   \n",
       "4600  ...          0.000             0.000                0.0   \n",
       "\n",
       "      charExclamation  charDollar  charHash  capitalAve  capitalLong  \\\n",
       "0               0.778       0.000     0.000       3.756           61   \n",
       "1               0.372       0.180     0.048       5.114          101   \n",
       "2               0.276       0.184     0.010       9.821          485   \n",
       "3               0.137       0.000     0.000       3.537           40   \n",
       "4               0.135       0.000     0.000       3.537           40   \n",
       "...               ...         ...       ...         ...          ...   \n",
       "4596            0.000       0.000     0.000       1.142            3   \n",
       "4597            0.353       0.000     0.000       1.555            4   \n",
       "4598            0.000       0.000     0.000       1.404            6   \n",
       "4599            0.000       0.000     0.000       1.147            5   \n",
       "4600            0.125       0.000     0.000       1.250            5   \n",
       "\n",
       "      capitalTotal     type  \n",
       "0              278     spam  \n",
       "1             1028     spam  \n",
       "2             2259     spam  \n",
       "3              191     spam  \n",
       "4              191     spam  \n",
       "...            ...      ...  \n",
       "4596            88  nonspam  \n",
       "4597            14  nonspam  \n",
       "4598           118  nonspam  \n",
       "4599            78  nonspam  \n",
       "4600            40  nonspam  \n",
       "\n",
       "[4601 rows x 58 columns]"
      ]
     },
     "execution_count": 4,
     "metadata": {},
     "output_type": "execute_result"
    }
   ],
   "source": [
    "data"
   ]
  },
  {
   "cell_type": "code",
   "execution_count": 5,
   "id": "4199e60c-7427-4715-916d-bf859f422169",
   "metadata": {},
   "outputs": [],
   "source": [
    "y = pd.get_dummies(data[\"type\"])['spam']\n",
    "X = data.drop([\"type\"], axis=1)\n",
    "X_train, X_val, y_train, y_val = train_test_split(X,y,test_size=0.2, random_state=44, stratify = y)"
   ]
  },
  {
   "cell_type": "markdown",
   "id": "b24b349d-2a8c-4c7a-9260-07e1718bc1f0",
   "metadata": {},
   "source": [
    "## -Testeo sin reduccion con 3 clasificadores"
   ]
  },
  {
   "cell_type": "markdown",
   "id": "eb4ef7cb-5613-4cad-a3fb-4b25056e1980",
   "metadata": {},
   "source": [
    "### -QDA"
   ]
  },
  {
   "cell_type": "code",
   "execution_count": 6,
   "id": "84adfa47-2673-42b4-a308-96adda15502a",
   "metadata": {},
   "outputs": [
    {
     "data": {
      "text/plain": [
       "QuadraticDiscriminantAnalysis(store_covariance=True)"
      ]
     },
     "execution_count": 6,
     "metadata": {},
     "output_type": "execute_result"
    }
   ],
   "source": [
    "qda = QuadraticDiscriminantAnalysis(store_covariance=True) #Guardamos la matriz de covarianzas para hace mas adelante el metodo mixto \n",
    "qda.fit(X_train, y_train.ravel()) #Entrenamos"
   ]
  },
  {
   "cell_type": "code",
   "execution_count": 7,
   "id": "76e4f16a-d60c-4818-9288-417cf1b46388",
   "metadata": {},
   "outputs": [],
   "source": [
    "y_pred_qda = qda.predict(X_val)"
   ]
  },
  {
   "cell_type": "code",
   "execution_count": 8,
   "id": "3371bf2b-83b4-4298-99e0-b399aa77e22d",
   "metadata": {},
   "outputs": [],
   "source": [
    "# Matriz de confusion\n",
    "cm = confusion_matrix(y_val,y_pred_qda)"
   ]
  },
  {
   "cell_type": "code",
   "execution_count": 9,
   "id": "9d947881-6100-48c4-80e3-980b4279dd72",
   "metadata": {},
   "outputs": [
    {
     "data": {
      "image/png": "[encoded data removed]",
      "text/plain": [
       "<Figure size 504x504 with 2 Axes>"
      ]
     },
     "metadata": {
      "needs_background": "light"
     },
     "output_type": "display_data"
    }
   ],
   "source": [
    "fig, ax = plt.subplots(figsize=(7, 7))\n",
    "disp = ConfusionMatrixDisplay(confusion_matrix=cm, display_labels=['0','1'])\n",
    "disp.plot(cmap=plt.cm.Blues,ax=ax)\n",
    "ax.set_title('Matriz de Confusión')\n",
    "ax.grid(False) \n",
    "plt.show()"
   ]
  },
  {
   "cell_type": "code",
   "execution_count": 10,
   "id": "f177d20c-1c21-46e1-8272-01f7ee3039c6",
   "metadata": {},
   "outputs": [
    {
     "data": {
      "text/plain": [
       "0.8251900108577633"
      ]
     },
     "execution_count": 10,
     "metadata": {},
     "output_type": "execute_result"
    }
   ],
   "source": [
    "accuracy_score(y_val,y_pred_qda)"
   ]
  },
  {
   "cell_type": "code",
   "execution_count": 11,
   "id": "bc5fd6e6-cdf6-4703-822e-dc6fec6ef868",
   "metadata": {},
   "outputs": [
    {
     "data": {
      "text/plain": [
       "0.832070384560806"
      ]
     },
     "execution_count": 11,
     "metadata": {},
     "output_type": "execute_result"
    }
   ],
   "source": [
    "#precision_score\n",
    "precision_score(y_val,y_pred_qda,average='macro')"
   ]
  },
  {
   "cell_type": "markdown",
   "id": "aea9691a-ab07-4921-abf2-fd785b52a294",
   "metadata": {},
   "source": [
    "### LDA"
   ]
  },
  {
   "cell_type": "code",
   "execution_count": 12,
   "id": "13fd6929-bf7f-4b79-86fa-0ae0d880d9d2",
   "metadata": {},
   "outputs": [
    {
     "data": {
      "text/plain": [
       "LinearDiscriminantAnalysis(store_covariance=True)"
      ]
     },
     "execution_count": 12,
     "metadata": {},
     "output_type": "execute_result"
    }
   ],
   "source": [
    "lda = LinearDiscriminantAnalysis(store_covariance=True)\n",
    "lda.fit(X_train, y_train.ravel())"
   ]
  },
  {
   "cell_type": "code",
   "execution_count": 13,
   "id": "14b13eb5-7133-4f37-9a49-cfa98e14087b",
   "metadata": {},
   "outputs": [],
   "source": [
    "y_pred_lda=lda.predict(X_val)"
   ]
  },
  {
   "cell_type": "code",
   "execution_count": 14,
   "id": "bacb913e-d9e3-42bc-88ba-6188753cd763",
   "metadata": {},
   "outputs": [],
   "source": [
    "# Matriz de confusion\n",
    "cm = confusion_matrix(y_val,y_pred_lda)"
   ]
  },
  {
   "cell_type": "code",
   "execution_count": 15,
   "id": "4b25cbb0-a258-4715-88dc-8bede58d4f4d",
   "metadata": {},
   "outputs": [
    {
     "data": {
      "image/png": "[encoded data removed]",
      "text/plain": [
       "<Figure size 504x504 with 2 Axes>"
      ]
     },
     "metadata": {
      "needs_background": "light"
     },
     "output_type": "display_data"
    }
   ],
   "source": [
    "fig, ax = plt.subplots(figsize=(7, 7))\n",
    "disp = ConfusionMatrixDisplay(confusion_matrix=cm, display_labels=['0','1'])\n",
    "disp.plot(cmap=plt.cm.Blues,ax=ax)\n",
    "ax.set_title('Matriz de Confusión')\n",
    "ax.grid(False) \n",
    "plt.show()"
   ]
  },
  {
   "cell_type": "code",
   "execution_count": 16,
   "id": "d64e0ab1-8633-49d6-be48-c3326c137b6b",
   "metadata": {},
   "outputs": [
    {
     "data": {
      "text/plain": [
       "0.8783930510314875"
      ]
     },
     "execution_count": 16,
     "metadata": {},
     "output_type": "execute_result"
    }
   ],
   "source": [
    "accuracy_score(y_val,y_pred_lda)"
   ]
  },
  {
   "cell_type": "code",
   "execution_count": 17,
   "id": "1bcfa616-c79e-463f-8dac-51c6ca12161f",
   "metadata": {},
   "outputs": [
    {
     "data": {
      "text/plain": [
       "0.8891266708965577"
      ]
     },
     "execution_count": 17,
     "metadata": {},
     "output_type": "execute_result"
    }
   ],
   "source": [
    "#precision_score\n",
    "precision_score(y_val,y_pred_lda,average='macro')"
   ]
  },
  {
   "cell_type": "markdown",
   "id": "5900c5db-ba58-4037-8072-032d1a74c567",
   "metadata": {},
   "source": [
    "### Clasificador Logistico"
   ]
  },
  {
   "cell_type": "code",
   "execution_count": 18,
   "id": "af147545-4d61-457b-9e2d-c445ba0a3a02",
   "metadata": {},
   "outputs": [
    {
     "data": {
      "text/plain": [
       "LogisticRegression()"
      ]
     },
     "execution_count": 18,
     "metadata": {},
     "output_type": "execute_result"
    }
   ],
   "source": [
    "logistic_reg = LogisticRegression()\n",
    "logistic_reg.fit(X_train,y_train)"
   ]
  },
  {
   "cell_type": "code",
   "execution_count": 19,
   "id": "76d964b8-0ab0-423c-8624-d720773652ae",
   "metadata": {},
   "outputs": [],
   "source": [
    "y_pred=logistic_reg.predict(X_val)"
   ]
  },
  {
   "cell_type": "code",
   "execution_count": 20,
   "id": "c4f83462-df3e-4ea0-ab09-b4abf94c7c1b",
   "metadata": {},
   "outputs": [
    {
     "data": {
      "image/png": "[encoded data removed]",
      "text/plain": [
       "<Figure size 504x504 with 2 Axes>"
      ]
     },
     "metadata": {
      "needs_background": "light"
     },
     "output_type": "display_data"
    }
   ],
   "source": [
    "cm=confusion_matrix(y_val,y_pred)\n",
    "fig, ax = plt.subplots(figsize=(7, 7))\n",
    "disp = ConfusionMatrixDisplay(confusion_matrix=cm, display_labels=[0,1])\n",
    "disp.plot(cmap=plt.cm.Blues,ax=ax)\n",
    "ax.set_title('Matriz de Confusión')\n",
    "ax.grid(False) \n",
    "plt.show()"
   ]
  },
  {
   "cell_type": "code",
   "execution_count": 21,
   "id": "7f51624e-83cc-477a-885e-5c1b3383d4f5",
   "metadata": {},
   "outputs": [
    {
     "data": {
      "text/plain": [
       "0.9153094462540716"
      ]
     },
     "execution_count": 21,
     "metadata": {},
     "output_type": "execute_result"
    }
   ],
   "source": [
    "accuracy_score(y_val,y_pred)"
   ]
  },
  {
   "cell_type": "code",
   "execution_count": 22,
   "id": "fd477253-4afc-4d9e-bcb3-13796e163bf7",
   "metadata": {},
   "outputs": [
    {
     "data": {
      "text/plain": [
       "0.9158408332490646"
      ]
     },
     "execution_count": 22,
     "metadata": {},
     "output_type": "execute_result"
    }
   ],
   "source": [
    "precision_score(y_val,y_pred,average='macro')"
   ]
  },
  {
   "cell_type": "markdown",
   "id": "6500d015-eb68-4156-9a20-9ad86904b43e",
   "metadata": {},
   "source": [
    "## MRMR"
   ]
  },
  {
   "cell_type": "markdown",
   "id": "083fc11f-e610-46f1-b9ad-131addc261b1",
   "metadata": {},
   "source": [
    " Como prueba inicial procedemos por MRMR a elejir las 20 columnas mas importantes para el Data frame de spam"
   ]
  },
  {
   "cell_type": "code",
   "execution_count": 2,
   "id": "b3a20b68-e2b4-46c0-92d7-f58551e899f9",
   "metadata": {},
   "outputs": [],
   "source": [
    "from mrmr import mrmr_classif"
   ]
  },
  {
   "cell_type": "code",
   "execution_count": 24,
   "id": "5b8a3458-73b7-45ad-8e29-b0e2c7e7b1f6",
   "metadata": {},
   "outputs": [
    {
     "name": "stderr",
     "output_type": "stream",
     "text": [
      "100%|██████████| 20/20 [00:00<00:00, 39.35it/s]\n"
     ]
    }
   ],
   "source": [
    "selected_features = mrmr_classif(X, y, K = 20)"
   ]
  },
  {
   "cell_type": "code",
   "execution_count": 25,
   "id": "3abfe22f-a6f1-4391-8b39-aeb138730fc7",
   "metadata": {},
   "outputs": [
    {
     "data": {
      "text/plain": [
       "['your',\n",
       " 'capitalTotal',\n",
       " 'remove',\n",
       " 'num000',\n",
       " 'free',\n",
       " 'charExclamation',\n",
       " 'our',\n",
       " 'charDollar',\n",
       " 'hp',\n",
       " 'internet',\n",
       " 'money',\n",
       " 'over',\n",
       " 'business',\n",
       " 'you',\n",
       " 'email',\n",
       " 'credit',\n",
       " 'order',\n",
       " 'hpl',\n",
       " 'george',\n",
       " 'receive']"
      ]
     },
     "execution_count": 25,
     "metadata": {},
     "output_type": "execute_result"
    }
   ],
   "source": [
    "selected_features"
   ]
  },
  {
   "cell_type": "code",
   "execution_count": 26,
   "id": "995ddd14-79d9-403e-b2b6-b30cece309eb",
   "metadata": {},
   "outputs": [],
   "source": [
    "X_train_mr=X_train.drop(list(set(list(X_train.columns))-set(selected_features)),axis=1)\n",
    "X_val_mr=X_val.drop(list(set(list(X_train.columns))-set(selected_features)),axis=1)"
   ]
  },
  {
   "cell_type": "markdown",
   "id": "d123a431-c879-4977-b16c-94148f6a6ab7",
   "metadata": {},
   "source": [
    "### Clasificador logistico"
   ]
  },
  {
   "cell_type": "code",
   "execution_count": 27,
   "id": "ab3fa6fe-a7fc-477d-9a53-f18ec00e55c6",
   "metadata": {},
   "outputs": [
    {
     "data": {
      "text/plain": [
       "LogisticRegression()"
      ]
     },
     "execution_count": 27,
     "metadata": {},
     "output_type": "execute_result"
    }
   ],
   "source": [
    "logistic_reg = LogisticRegression()\n",
    "logistic_reg.fit(X_train_mr,y_train)"
   ]
  },
  {
   "cell_type": "code",
   "execution_count": 28,
   "id": "ca6ff644-bba2-4984-8ec6-4e9a6a35bd28",
   "metadata": {},
   "outputs": [],
   "source": [
    "y_pred=logistic_reg.predict(X_val_mr)"
   ]
  },
  {
   "cell_type": "code",
   "execution_count": 29,
   "id": "34931b1f-e91e-4a01-84e9-d6875e0f135b",
   "metadata": {},
   "outputs": [
    {
     "data": {
      "image/png": "[encoded data removed]",
      "text/plain": [
       "<Figure size 504x504 with 2 Axes>"
      ]
     },
     "metadata": {
      "needs_background": "light"
     },
     "output_type": "display_data"
    }
   ],
   "source": [
    "cm=confusion_matrix(y_val,y_pred)\n",
    "fig, ax = plt.subplots(figsize=(7, 7))\n",
    "disp = ConfusionMatrixDisplay(confusion_matrix=cm, display_labels=[0,1])\n",
    "disp.plot(cmap=plt.cm.Blues,ax=ax)\n",
    "ax.set_title('Matriz de Confusión')\n",
    "ax.grid(False) \n",
    "plt.show()"
   ]
  },
  {
   "cell_type": "code",
   "execution_count": 30,
   "id": "4ba96fbd-d5df-49d8-a15f-4e77c7a0503a",
   "metadata": {},
   "outputs": [
    {
     "data": {
      "text/plain": [
       "0.8903365906623235"
      ]
     },
     "execution_count": 30,
     "metadata": {},
     "output_type": "execute_result"
    }
   ],
   "source": [
    "accuracy_score(y_val,y_pred)"
   ]
  },
  {
   "cell_type": "code",
   "execution_count": 31,
   "id": "5a47a71d-e7c1-4327-956c-b4572e5de28a",
   "metadata": {},
   "outputs": [
    {
     "data": {
      "text/plain": [
       "0.8902396214896214"
      ]
     },
     "execution_count": 31,
     "metadata": {},
     "output_type": "execute_result"
    }
   ],
   "source": [
    "precision_score(y_val,y_pred,average='macro')"
   ]
  },
  {
   "cell_type": "markdown",
   "id": "63922089-d1d8-4760-a8e0-052c04dd9bbf",
   "metadata": {},
   "source": [
    "## ReliefF"
   ]
  },
  {
   "cell_type": "code",
   "execution_count": 3,
   "id": "364a98a3-743b-40d8-818a-d1b515ee4eb0",
   "metadata": {},
   "outputs": [],
   "source": [
    "from ReliefF import ReliefF"
   ]
  },
  {
   "cell_type": "code",
   "execution_count": 33,
   "id": "7e36cf96-7bf9-4ac8-b2a1-d0c6ca3394a3",
   "metadata": {},
   "outputs": [],
   "source": [
    "fs = ReliefF(n_neighbors=3, n_features_to_keep=20)"
   ]
  },
  {
   "cell_type": "code",
   "execution_count": 34,
   "id": "ece1a621-b692-4ee1-a730-62b6ea7f61c1",
   "metadata": {},
   "outputs": [],
   "source": [
    "X_rf=fs.fit_transform(np.array(X), np.array(y))"
   ]
  },
  {
   "cell_type": "code",
   "execution_count": 35,
   "id": "4041c46a-2deb-426b-8e7d-bade5634565c",
   "metadata": {},
   "outputs": [],
   "source": [
    "X_train_rf, X_val_rf, y_train, y_val = train_test_split(X_rf,y,test_size=0.2, random_state=44, stratify = y)"
   ]
  },
  {
   "cell_type": "markdown",
   "id": "e92fae37-bd4c-4138-9c25-0fd2b9c9d337",
   "metadata": {},
   "source": [
    "### Clasificador logistico"
   ]
  },
  {
   "cell_type": "code",
   "execution_count": 36,
   "id": "7bea8468-b967-4c2a-b6f6-0d1aa87e6ec1",
   "metadata": {},
   "outputs": [
    {
     "data": {
      "text/plain": [
       "LogisticRegression()"
      ]
     },
     "execution_count": 36,
     "metadata": {},
     "output_type": "execute_result"
    }
   ],
   "source": [
    "logistic_reg = LogisticRegression()\n",
    "logistic_reg.fit(X_train_rf,y_train)"
   ]
  },
  {
   "cell_type": "code",
   "execution_count": 37,
   "id": "5cb128d4-2544-40a3-8f07-b5387ab345ab",
   "metadata": {},
   "outputs": [],
   "source": [
    "y_pred=logistic_reg.predict(X_val_rf)"
   ]
  },
  {
   "cell_type": "code",
   "execution_count": 38,
   "id": "00066313-c2d8-46c4-9ccb-7d8f116007b9",
   "metadata": {},
   "outputs": [
    {
     "data": {
      "image/png": "[encoded data removed]",
      "text/plain": [
       "<Figure size 504x504 with 2 Axes>"
      ]
     },
     "metadata": {
      "needs_background": "light"
     },
     "output_type": "display_data"
    }
   ],
   "source": [
    "cm=confusion_matrix(y_val,y_pred)\n",
    "fig, ax = plt.subplots(figsize=(7, 7))\n",
    "disp = ConfusionMatrixDisplay(confusion_matrix=cm, display_labels=[0,1])\n",
    "disp.plot(cmap=plt.cm.Blues,ax=ax)\n",
    "ax.set_title('Matriz de Confusión')\n",
    "ax.grid(False) \n",
    "plt.show()"
   ]
  },
  {
   "cell_type": "code",
   "execution_count": 39,
   "id": "c85671a8-9baf-4548-8869-320d1557663f",
   "metadata": {},
   "outputs": [
    {
     "data": {
      "text/plain": [
       "0.8523344191096635"
      ]
     },
     "execution_count": 39,
     "metadata": {},
     "output_type": "execute_result"
    }
   ],
   "source": [
    "accuracy_score(y_val,y_pred)"
   ]
  },
  {
   "cell_type": "code",
   "execution_count": 40,
   "id": "c1dbf4d3-5451-4cee-afd6-965109bec3b8",
   "metadata": {},
   "outputs": [
    {
     "data": {
      "text/plain": [
       "0.8727763587018496"
      ]
     },
     "execution_count": 40,
     "metadata": {},
     "output_type": "execute_result"
    }
   ],
   "source": [
    "precision_score(y_val,y_pred,average='macro')"
   ]
  },
  {
   "cell_type": "markdown",
   "id": "474e313e-5b6b-48fa-bec3-8b32ee1f4bf7",
   "metadata": {},
   "source": [
    "Como primera conclucion podemos ver que contrario a lo que afirma la hipotesis MRMR esta entregando mejores resultados que Relief para un de reduccion de 57 a 20 columnas."
   ]
  },
  {
   "cell_type": "markdown",
   "id": "3d6da6eb-b3c8-458c-af8c-071136b2cfdd",
   "metadata": {},
   "source": [
    "## Prueba para varias semillas y cantidades de columnas"
   ]
  },
  {
   "cell_type": "markdown",
   "id": "4d6d16da-d772-4c73-aaa3-4ebef5b1aa6b",
   "metadata": {},
   "source": [
    "A continuacion validaremos nuestra hipotesis de manera mas robusta repitiendo para cada valor de N_features el experiemento una cantidad considerable de veces."
   ]
  },
  {
   "cell_type": "code",
   "execution_count": 4,
   "id": "6850563d-6859-4682-abc3-b46071cbcadc",
   "metadata": {},
   "outputs": [],
   "source": [
    "import sklearn"
   ]
  },
  {
   "cell_type": "code",
   "execution_count": 5,
   "id": "b69186f7-05ed-4c6a-9d93-ba26e5206e43",
   "metadata": {},
   "outputs": [],
   "source": [
    "from sklearn.model_selection import cross_validate"
   ]
  },
  {
   "cell_type": "code",
   "execution_count": 43,
   "id": "1a3b2128-c7c5-43a9-ace1-c014f7c2e0d3",
   "metadata": {},
   "outputs": [
    {
     "name": "stderr",
     "output_type": "stream",
     "text": [
      "100%|██████████| 1/1 [00:00<00:00, 1003.66it/s]\n",
      "100%|██████████| 2/2 [00:00<00:00, 61.79it/s]\n",
      "100%|██████████| 3/3 [00:00<00:00, 47.00it/s]\n",
      "100%|██████████| 4/4 [00:00<00:00, 44.07it/s]\n",
      "100%|██████████| 5/5 [00:00<00:00, 36.07it/s]\n",
      "100%|██████████| 6/6 [00:00<00:00, 40.64it/s]\n",
      "100%|██████████| 7/7 [00:00<00:00, 40.57it/s]\n",
      "100%|██████████| 8/8 [00:00<00:00, 40.85it/s]\n",
      "100%|██████████| 9/9 [00:00<00:00, 42.57it/s]\n",
      "100%|██████████| 10/10 [00:00<00:00, 35.35it/s]\n",
      "100%|██████████| 11/11 [00:00<00:00, 43.42it/s]\n",
      "100%|██████████| 12/12 [00:00<00:00, 40.45it/s]\n",
      "100%|██████████| 13/13 [00:00<00:00, 41.55it/s]\n",
      "100%|██████████| 14/14 [00:00<00:00, 37.38it/s]\n",
      "100%|██████████| 15/15 [00:00<00:00, 27.24it/s]\n",
      "100%|██████████| 16/16 [00:00<00:00, 32.31it/s]\n",
      "100%|██████████| 17/17 [00:00<00:00, 42.61it/s]\n",
      "100%|██████████| 18/18 [00:00<00:00, 29.34it/s]\n",
      "100%|██████████| 19/19 [00:00<00:00, 41.87it/s]\n",
      "100%|██████████| 20/20 [00:00<00:00, 37.71it/s]\n",
      "100%|██████████| 21/21 [00:00<00:00, 32.34it/s]\n",
      "100%|██████████| 22/22 [00:00<00:00, 39.97it/s]\n",
      "100%|██████████| 23/23 [00:00<00:00, 41.17it/s]\n",
      "100%|██████████| 24/24 [00:00<00:00, 40.22it/s]\n",
      "100%|██████████| 25/25 [00:00<00:00, 41.77it/s]\n",
      "100%|██████████| 26/26 [00:00<00:00, 40.51it/s]\n",
      "100%|██████████| 27/27 [00:00<00:00, 40.31it/s]\n",
      "100%|██████████| 28/28 [00:00<00:00, 37.82it/s]\n",
      "100%|██████████| 29/29 [00:00<00:00, 42.89it/s]\n",
      "100%|██████████| 30/30 [00:00<00:00, 42.34it/s]\n",
      "100%|██████████| 31/31 [00:00<00:00, 43.95it/s]\n",
      "100%|██████████| 32/32 [00:00<00:00, 43.33it/s]\n",
      "100%|██████████| 33/33 [00:00<00:00, 43.91it/s]\n",
      "100%|██████████| 34/34 [00:00<00:00, 44.04it/s]\n",
      "100%|██████████| 35/35 [00:00<00:00, 40.73it/s]\n",
      "100%|██████████| 36/36 [00:00<00:00, 43.29it/s]\n",
      "100%|██████████| 37/37 [00:00<00:00, 44.72it/s]\n",
      "100%|██████████| 38/38 [00:00<00:00, 44.64it/s]\n",
      "100%|██████████| 39/39 [00:00<00:00, 44.28it/s]\n",
      "100%|██████████| 40/40 [00:00<00:00, 44.72it/s]\n",
      "100%|██████████| 41/41 [00:00<00:00, 45.28it/s]\n",
      "100%|██████████| 42/42 [00:01<00:00, 33.55it/s]\n",
      "100%|██████████| 43/43 [00:01<00:00, 38.81it/s]\n",
      "100%|██████████| 44/44 [00:01<00:00, 43.50it/s]\n",
      "100%|██████████| 45/45 [00:01<00:00, 44.08it/s]\n",
      "100%|██████████| 46/46 [00:00<00:00, 46.25it/s]\n",
      "100%|██████████| 47/47 [00:00<00:00, 47.27it/s]\n",
      "100%|██████████| 48/48 [00:00<00:00, 48.59it/s]\n",
      "100%|██████████| 49/49 [00:01<00:00, 33.64it/s]\n",
      "100%|██████████| 50/50 [00:01<00:00, 29.31it/s]\n",
      "100%|██████████| 51/51 [00:02<00:00, 23.06it/s]\n",
      "100%|██████████| 52/52 [00:03<00:00, 13.82it/s]\n",
      "100%|██████████| 53/53 [00:03<00:00, 16.12it/s]\n",
      "100%|██████████| 54/54 [00:05<00:00,  9.88it/s]\n",
      "100%|██████████| 55/55 [00:05<00:00, 10.03it/s]\n",
      "100%|██████████| 56/56 [00:05<00:00, 10.20it/s]\n"
     ]
    }
   ],
   "source": [
    "lista_scores_mr=[]\n",
    "lista_scores_rf=[]\n",
    "for i in range(1,57):\n",
    "    selected_features = mrmr_classif(X, y, K = i)\n",
    "    X_mr=X.drop(list(set(list(X.columns))-set(selected_features)),axis=1)\n",
    "    scores_mr = cross_validate(LogisticRegression(), X_mr, y,scoring='precision_macro', cv=32)\n",
    "    lista_scores_mr.append((float(scores_mr['test_score'].mean()),float(scores_mr['test_score'].std())))\n",
    "    fs = ReliefF(n_neighbors=3, n_features_to_keep=i)\n",
    "    X_rf=fs.fit_transform(np.array(X), np.array(y))\n",
    "    scores_rf = cross_validate(LogisticRegression(), X_rf, y,scoring='precision_macro', cv=32)\n",
    "    lista_scores_rf.append((float(scores_rf['test_score'].mean()),float(scores_rf['test_score'].std() ) ))"
   ]
  },
  {
   "cell_type": "code",
   "execution_count": 44,
   "id": "a3c772b8-2b20-452a-a818-cdbaad606562",
   "metadata": {},
   "outputs": [],
   "source": [
    "Rendimiento_mr=pd.DataFrame(lista_scores_mr)\n",
    "Rendimiento_rf=pd.DataFrame(lista_scores_rf)"
   ]
  },
  {
   "cell_type": "code",
   "execution_count": 45,
   "id": "ff35e095-d7cf-4432-9981-09f17e507775",
   "metadata": {},
   "outputs": [],
   "source": [
    "Rendimiento_mr.columns=['Promedio','Desviacion']\n",
    "Rendimiento_rf.columns=['Promedio','Desviacion']"
   ]
  },
  {
   "cell_type": "code",
   "execution_count": 46,
   "id": "77f07e11-b7bf-4616-81dd-7ad27cd7d1dc",
   "metadata": {},
   "outputs": [
    {
     "data": {
      "image/png": "[encoded data removed]",
      "text/plain": [
       "<Figure size 432x288 with 1 Axes>"
      ]
     },
     "metadata": {
      "needs_background": "light"
     },
     "output_type": "display_data"
    }
   ],
   "source": [
    "plt.plot( Rendimiento_mr.index  ,Rendimiento_mr['Promedio'],label=\"MRMR\")\n",
    "plt.plot( Rendimiento_rf.index ,Rendimiento_rf['Promedio'],label=\"ReliefF\")\n",
    "\n",
    "plt.title(\"MRMR vs ReliefF\",fontsize=15)\n",
    "plt.xlabel(\"N_features\",fontsize=13)\n",
    "plt.ylabel(\"Promedio precision_macro\",fontsize=13)\n",
    "plt.legend()\n",
    "plt.show()"
   ]
  },
  {
   "cell_type": "markdown",
   "id": "1bc9d5fb-5380-485d-94ff-059ee6eb7747",
   "metadata": {},
   "source": [
    "Este ultimo grafico nos muestra que  el rendimiento de MRMR supera al de ReliefF a lo largo de practicamente todas la posibles N_features."
   ]
  },
  {
   "cell_type": "markdown",
   "id": "1251eb74-2280-4d6e-a0f3-04b817f5ae26",
   "metadata": {},
   "source": [
    "# * MUSK cell's"
   ]
  },
  {
   "cell_type": "code",
   "execution_count": 9,
   "id": "b6eb7735-ea16-432b-8de7-af6f3866ceb6",
   "metadata": {},
   "outputs": [],
   "source": [
    "df= pd.read_csv(\"musk_csv.csv\")"
   ]
  },
  {
   "cell_type": "code",
   "execution_count": 10,
   "id": "5785d1b8-1c7f-4126-a2f7-70ad49576c1c",
   "metadata": {},
   "outputs": [
    {
     "data": {
      "text/html": [
       "<div>\n",
       "<style scoped>\n",
       "    .dataframe tbody tr th:only-of-type {\n",
       "        vertical-align: middle;\n",
       "    }\n",
       "\n",
       "    .dataframe tbody tr th {\n",
       "        vertical-align: top;\n",
       "    }\n",
       "\n",
       "    .dataframe thead th {\n",
       "        text-align: right;\n",
       "    }\n",
       "</style>\n",
       "<table border=\"1\" class=\"dataframe\">\n",
       "  <thead>\n",
       "    <tr style=\"text-align: right;\">\n",
       "      <th></th>\n",
       "      <th>ID</th>\n",
       "      <th>molecule_name</th>\n",
       "      <th>conformation_name</th>\n",
       "      <th>f1</th>\n",
       "      <th>f2</th>\n",
       "      <th>f3</th>\n",
       "      <th>f4</th>\n",
       "      <th>f5</th>\n",
       "      <th>f6</th>\n",
       "      <th>f7</th>\n",
       "      <th>...</th>\n",
       "      <th>f158</th>\n",
       "      <th>f159</th>\n",
       "      <th>f160</th>\n",
       "      <th>f161</th>\n",
       "      <th>f162</th>\n",
       "      <th>f163</th>\n",
       "      <th>f164</th>\n",
       "      <th>f165</th>\n",
       "      <th>f166</th>\n",
       "      <th>class</th>\n",
       "    </tr>\n",
       "  </thead>\n",
       "  <tbody>\n",
       "    <tr>\n",
       "      <th>0</th>\n",
       "      <td>1</td>\n",
       "      <td>MUSK-211</td>\n",
       "      <td>211_1+1</td>\n",
       "      <td>46</td>\n",
       "      <td>-108</td>\n",
       "      <td>-60</td>\n",
       "      <td>-69</td>\n",
       "      <td>-117</td>\n",
       "      <td>49</td>\n",
       "      <td>38</td>\n",
       "      <td>...</td>\n",
       "      <td>-308</td>\n",
       "      <td>52</td>\n",
       "      <td>-7</td>\n",
       "      <td>39</td>\n",
       "      <td>126</td>\n",
       "      <td>156</td>\n",
       "      <td>-50</td>\n",
       "      <td>-112</td>\n",
       "      <td>96</td>\n",
       "      <td>1</td>\n",
       "    </tr>\n",
       "    <tr>\n",
       "      <th>1</th>\n",
       "      <td>2</td>\n",
       "      <td>MUSK-211</td>\n",
       "      <td>211_1+10</td>\n",
       "      <td>41</td>\n",
       "      <td>-188</td>\n",
       "      <td>-145</td>\n",
       "      <td>22</td>\n",
       "      <td>-117</td>\n",
       "      <td>-6</td>\n",
       "      <td>57</td>\n",
       "      <td>...</td>\n",
       "      <td>-59</td>\n",
       "      <td>-2</td>\n",
       "      <td>52</td>\n",
       "      <td>103</td>\n",
       "      <td>136</td>\n",
       "      <td>169</td>\n",
       "      <td>-61</td>\n",
       "      <td>-136</td>\n",
       "      <td>79</td>\n",
       "      <td>1</td>\n",
       "    </tr>\n",
       "    <tr>\n",
       "      <th>2</th>\n",
       "      <td>3</td>\n",
       "      <td>MUSK-211</td>\n",
       "      <td>211_1+11</td>\n",
       "      <td>46</td>\n",
       "      <td>-194</td>\n",
       "      <td>-145</td>\n",
       "      <td>28</td>\n",
       "      <td>-117</td>\n",
       "      <td>73</td>\n",
       "      <td>57</td>\n",
       "      <td>...</td>\n",
       "      <td>-134</td>\n",
       "      <td>-154</td>\n",
       "      <td>57</td>\n",
       "      <td>143</td>\n",
       "      <td>142</td>\n",
       "      <td>165</td>\n",
       "      <td>-67</td>\n",
       "      <td>-145</td>\n",
       "      <td>39</td>\n",
       "      <td>1</td>\n",
       "    </tr>\n",
       "    <tr>\n",
       "      <th>3</th>\n",
       "      <td>4</td>\n",
       "      <td>MUSK-211</td>\n",
       "      <td>211_1+12</td>\n",
       "      <td>41</td>\n",
       "      <td>-188</td>\n",
       "      <td>-145</td>\n",
       "      <td>22</td>\n",
       "      <td>-117</td>\n",
       "      <td>-7</td>\n",
       "      <td>57</td>\n",
       "      <td>...</td>\n",
       "      <td>-60</td>\n",
       "      <td>-4</td>\n",
       "      <td>52</td>\n",
       "      <td>104</td>\n",
       "      <td>136</td>\n",
       "      <td>168</td>\n",
       "      <td>-60</td>\n",
       "      <td>-135</td>\n",
       "      <td>80</td>\n",
       "      <td>1</td>\n",
       "    </tr>\n",
       "    <tr>\n",
       "      <th>4</th>\n",
       "      <td>5</td>\n",
       "      <td>MUSK-211</td>\n",
       "      <td>211_1+13</td>\n",
       "      <td>41</td>\n",
       "      <td>-188</td>\n",
       "      <td>-145</td>\n",
       "      <td>22</td>\n",
       "      <td>-117</td>\n",
       "      <td>-7</td>\n",
       "      <td>57</td>\n",
       "      <td>...</td>\n",
       "      <td>-60</td>\n",
       "      <td>-4</td>\n",
       "      <td>52</td>\n",
       "      <td>104</td>\n",
       "      <td>137</td>\n",
       "      <td>168</td>\n",
       "      <td>-60</td>\n",
       "      <td>-135</td>\n",
       "      <td>80</td>\n",
       "      <td>1</td>\n",
       "    </tr>\n",
       "    <tr>\n",
       "      <th>...</th>\n",
       "      <td>...</td>\n",
       "      <td>...</td>\n",
       "      <td>...</td>\n",
       "      <td>...</td>\n",
       "      <td>...</td>\n",
       "      <td>...</td>\n",
       "      <td>...</td>\n",
       "      <td>...</td>\n",
       "      <td>...</td>\n",
       "      <td>...</td>\n",
       "      <td>...</td>\n",
       "      <td>...</td>\n",
       "      <td>...</td>\n",
       "      <td>...</td>\n",
       "      <td>...</td>\n",
       "      <td>...</td>\n",
       "      <td>...</td>\n",
       "      <td>...</td>\n",
       "      <td>...</td>\n",
       "      <td>...</td>\n",
       "      <td>...</td>\n",
       "    </tr>\n",
       "    <tr>\n",
       "      <th>6593</th>\n",
       "      <td>6594</td>\n",
       "      <td>NON-MUSK-jp13</td>\n",
       "      <td>jp13_2+5</td>\n",
       "      <td>51</td>\n",
       "      <td>-123</td>\n",
       "      <td>-23</td>\n",
       "      <td>-108</td>\n",
       "      <td>-117</td>\n",
       "      <td>134</td>\n",
       "      <td>-160</td>\n",
       "      <td>...</td>\n",
       "      <td>-66</td>\n",
       "      <td>164</td>\n",
       "      <td>-14</td>\n",
       "      <td>-29</td>\n",
       "      <td>107</td>\n",
       "      <td>171</td>\n",
       "      <td>-44</td>\n",
       "      <td>-115</td>\n",
       "      <td>118</td>\n",
       "      <td>0</td>\n",
       "    </tr>\n",
       "    <tr>\n",
       "      <th>6594</th>\n",
       "      <td>6595</td>\n",
       "      <td>NON-MUSK-jp13</td>\n",
       "      <td>jp13_2+6</td>\n",
       "      <td>44</td>\n",
       "      <td>-104</td>\n",
       "      <td>-19</td>\n",
       "      <td>-105</td>\n",
       "      <td>-117</td>\n",
       "      <td>142</td>\n",
       "      <td>-165</td>\n",
       "      <td>...</td>\n",
       "      <td>-51</td>\n",
       "      <td>166</td>\n",
       "      <td>-9</td>\n",
       "      <td>150</td>\n",
       "      <td>129</td>\n",
       "      <td>158</td>\n",
       "      <td>-66</td>\n",
       "      <td>-144</td>\n",
       "      <td>-5</td>\n",
       "      <td>0</td>\n",
       "    </tr>\n",
       "    <tr>\n",
       "      <th>6595</th>\n",
       "      <td>6596</td>\n",
       "      <td>NON-MUSK-jp13</td>\n",
       "      <td>jp13_2+7</td>\n",
       "      <td>44</td>\n",
       "      <td>-102</td>\n",
       "      <td>-19</td>\n",
       "      <td>-104</td>\n",
       "      <td>-117</td>\n",
       "      <td>72</td>\n",
       "      <td>-165</td>\n",
       "      <td>...</td>\n",
       "      <td>90</td>\n",
       "      <td>117</td>\n",
       "      <td>-8</td>\n",
       "      <td>150</td>\n",
       "      <td>130</td>\n",
       "      <td>159</td>\n",
       "      <td>-66</td>\n",
       "      <td>-144</td>\n",
       "      <td>-6</td>\n",
       "      <td>0</td>\n",
       "    </tr>\n",
       "    <tr>\n",
       "      <th>6596</th>\n",
       "      <td>6597</td>\n",
       "      <td>NON-MUSK-jp13</td>\n",
       "      <td>jp13_2+8</td>\n",
       "      <td>51</td>\n",
       "      <td>-121</td>\n",
       "      <td>-23</td>\n",
       "      <td>-106</td>\n",
       "      <td>-117</td>\n",
       "      <td>63</td>\n",
       "      <td>-161</td>\n",
       "      <td>...</td>\n",
       "      <td>86</td>\n",
       "      <td>99</td>\n",
       "      <td>-14</td>\n",
       "      <td>-31</td>\n",
       "      <td>106</td>\n",
       "      <td>171</td>\n",
       "      <td>-44</td>\n",
       "      <td>-116</td>\n",
       "      <td>117</td>\n",
       "      <td>0</td>\n",
       "    </tr>\n",
       "    <tr>\n",
       "      <th>6597</th>\n",
       "      <td>6598</td>\n",
       "      <td>NON-MUSK-jp13</td>\n",
       "      <td>jp13_2+9</td>\n",
       "      <td>51</td>\n",
       "      <td>-122</td>\n",
       "      <td>-23</td>\n",
       "      <td>-106</td>\n",
       "      <td>-117</td>\n",
       "      <td>190</td>\n",
       "      <td>-161</td>\n",
       "      <td>...</td>\n",
       "      <td>40</td>\n",
       "      <td>124</td>\n",
       "      <td>-14</td>\n",
       "      <td>-30</td>\n",
       "      <td>107</td>\n",
       "      <td>171</td>\n",
       "      <td>-44</td>\n",
       "      <td>-115</td>\n",
       "      <td>118</td>\n",
       "      <td>0</td>\n",
       "    </tr>\n",
       "  </tbody>\n",
       "</table>\n",
       "<p>6598 rows × 170 columns</p>\n",
       "</div>"
      ],
      "text/plain": [
       "        ID  molecule_name conformation_name  f1   f2   f3   f4   f5   f6   f7  \\\n",
       "0        1       MUSK-211           211_1+1  46 -108  -60  -69 -117   49   38   \n",
       "1        2       MUSK-211          211_1+10  41 -188 -145   22 -117   -6   57   \n",
       "2        3       MUSK-211          211_1+11  46 -194 -145   28 -117   73   57   \n",
       "3        4       MUSK-211          211_1+12  41 -188 -145   22 -117   -7   57   \n",
       "4        5       MUSK-211          211_1+13  41 -188 -145   22 -117   -7   57   \n",
       "...    ...            ...               ...  ..  ...  ...  ...  ...  ...  ...   \n",
       "6593  6594  NON-MUSK-jp13          jp13_2+5  51 -123  -23 -108 -117  134 -160   \n",
       "6594  6595  NON-MUSK-jp13          jp13_2+6  44 -104  -19 -105 -117  142 -165   \n",
       "6595  6596  NON-MUSK-jp13          jp13_2+7  44 -102  -19 -104 -117   72 -165   \n",
       "6596  6597  NON-MUSK-jp13          jp13_2+8  51 -121  -23 -106 -117   63 -161   \n",
       "6597  6598  NON-MUSK-jp13          jp13_2+9  51 -122  -23 -106 -117  190 -161   \n",
       "\n",
       "      ...  f158  f159  f160  f161  f162  f163  f164  f165  f166  class  \n",
       "0     ...  -308    52    -7    39   126   156   -50  -112    96      1  \n",
       "1     ...   -59    -2    52   103   136   169   -61  -136    79      1  \n",
       "2     ...  -134  -154    57   143   142   165   -67  -145    39      1  \n",
       "3     ...   -60    -4    52   104   136   168   -60  -135    80      1  \n",
       "4     ...   -60    -4    52   104   137   168   -60  -135    80      1  \n",
       "...   ...   ...   ...   ...   ...   ...   ...   ...   ...   ...    ...  \n",
       "6593  ...   -66   164   -14   -29   107   171   -44  -115   118      0  \n",
       "6594  ...   -51   166    -9   150   129   158   -66  -144    -5      0  \n",
       "6595  ...    90   117    -8   150   130   159   -66  -144    -6      0  \n",
       "6596  ...    86    99   -14   -31   106   171   -44  -116   117      0  \n",
       "6597  ...    40   124   -14   -30   107   171   -44  -115   118      0  \n",
       "\n",
       "[6598 rows x 170 columns]"
      ]
     },
     "execution_count": 10,
     "metadata": {},
     "output_type": "execute_result"
    }
   ],
   "source": [
    "df"
   ]
  },
  {
   "cell_type": "code",
   "execution_count": 11,
   "id": "87041860-41ce-43e1-8420-c4bf0bd0c761",
   "metadata": {},
   "outputs": [],
   "source": [
    "y = df[\"class\"]\n",
    "X = df.drop([\"class\",'conformation_name','ID','molecule_name'], axis=1)\n",
    "X_train, X_val, y_train, y_val = train_test_split(X,y,test_size=0.2, random_state=44, stratify = y)"
   ]
  },
  {
   "cell_type": "markdown",
   "id": "5de307fc-d7df-4e2b-b635-b5489bf672a4",
   "metadata": {},
   "source": [
    "## -Testeo sin reduccion con 3 clasificadores"
   ]
  },
  {
   "cell_type": "markdown",
   "id": "8809fa10-3ee4-442a-baf3-1f7b544d1694",
   "metadata": {},
   "source": [
    "### QDA"
   ]
  },
  {
   "cell_type": "code",
   "execution_count": 50,
   "id": "df47cc0e-bb16-495b-a992-00e90bafda87",
   "metadata": {},
   "outputs": [
    {
     "data": {
      "text/plain": [
       "QuadraticDiscriminantAnalysis(store_covariance=True)"
      ]
     },
     "execution_count": 50,
     "metadata": {},
     "output_type": "execute_result"
    }
   ],
   "source": [
    "qda = QuadraticDiscriminantAnalysis(store_covariance=True) #Guardamos la matriz de covarianzas para hace mas adelante el metodo mixto \n",
    "qda.fit(X_train, y_train.ravel()) #Entrenamos"
   ]
  },
  {
   "cell_type": "code",
   "execution_count": 51,
   "id": "c05ba635-076d-4385-8a01-8ad4e7a8d8de",
   "metadata": {},
   "outputs": [],
   "source": [
    "y_pred_qda = qda.predict(X_val)"
   ]
  },
  {
   "cell_type": "code",
   "execution_count": 52,
   "id": "40b99e9f-2be8-466e-819f-b611c78f5867",
   "metadata": {},
   "outputs": [],
   "source": [
    "# Matriz de confusion\n",
    "cm = confusion_matrix(y_val,y_pred_qda)"
   ]
  },
  {
   "cell_type": "code",
   "execution_count": 53,
   "id": "15ce23b6-0605-4c17-acdb-d45d0282d40a",
   "metadata": {},
   "outputs": [
    {
     "data": {
      "image/png": "[encoded data removed]",
      "text/plain": [
       "<Figure size 504x504 with 2 Axes>"
      ]
     },
     "metadata": {
      "needs_background": "light"
     },
     "output_type": "display_data"
    }
   ],
   "source": [
    "fig, ax = plt.subplots(figsize=(7, 7))\n",
    "disp = ConfusionMatrixDisplay(confusion_matrix=cm, display_labels=['0','1'])\n",
    "disp.plot(cmap=plt.cm.Blues,ax=ax)\n",
    "ax.set_title('Matriz de Confusión')\n",
    "ax.grid(False) \n",
    "plt.show()"
   ]
  },
  {
   "cell_type": "code",
   "execution_count": 54,
   "id": "e1c478f2-3a0c-4f1c-b14a-869c808e849b",
   "metadata": {},
   "outputs": [
    {
     "data": {
      "text/plain": [
       "0.9765151515151516"
      ]
     },
     "execution_count": 54,
     "metadata": {},
     "output_type": "execute_result"
    }
   ],
   "source": [
    "accuracy_score(y_val,y_pred_qda)"
   ]
  },
  {
   "cell_type": "code",
   "execution_count": 55,
   "id": "f8c85613-3d51-46b5-a2dd-96dd03e0c77a",
   "metadata": {},
   "outputs": [
    {
     "data": {
      "text/plain": [
       "0.9793138393120683"
      ]
     },
     "execution_count": 55,
     "metadata": {},
     "output_type": "execute_result"
    }
   ],
   "source": [
    "precision_score(y_val,y_pred_qda,average='macro')"
   ]
  },
  {
   "cell_type": "markdown",
   "id": "18585dd1-d77d-4c3d-89ff-df589ba7aa9d",
   "metadata": {},
   "source": [
    "### LDA"
   ]
  },
  {
   "cell_type": "code",
   "execution_count": 56,
   "id": "31b5add8-2be4-4191-adb4-0558ed45e5ee",
   "metadata": {},
   "outputs": [
    {
     "data": {
      "text/plain": [
       "LinearDiscriminantAnalysis(store_covariance=True)"
      ]
     },
     "execution_count": 56,
     "metadata": {},
     "output_type": "execute_result"
    }
   ],
   "source": [
    "lda = LinearDiscriminantAnalysis(store_covariance=True)\n",
    "lda.fit(X_train, y_train.ravel())"
   ]
  },
  {
   "cell_type": "code",
   "execution_count": 57,
   "id": "ce298b04-e3e5-404a-ac0b-6c7fd1cddd7d",
   "metadata": {},
   "outputs": [],
   "source": [
    "y_pred_lda=lda.predict(X_val)"
   ]
  },
  {
   "cell_type": "code",
   "execution_count": 58,
   "id": "08a20436-14c4-4fe1-ab32-c1f54ab12630",
   "metadata": {},
   "outputs": [],
   "source": [
    "# Matriz de confusion\n",
    "cm = confusion_matrix(y_val,y_pred_lda)"
   ]
  },
  {
   "cell_type": "code",
   "execution_count": 59,
   "id": "3805b379-d11f-478a-a873-cccde4856059",
   "metadata": {},
   "outputs": [
    {
     "data": {
      "image/png": "[encoded data removed]",
      "text/plain": [
       "<Figure size 504x504 with 2 Axes>"
      ]
     },
     "metadata": {
      "needs_background": "light"
     },
     "output_type": "display_data"
    }
   ],
   "source": [
    "fig, ax = plt.subplots(figsize=(7, 7))\n",
    "disp = ConfusionMatrixDisplay(confusion_matrix=cm, display_labels=['0','1'])\n",
    "disp.plot(cmap=plt.cm.Blues,ax=ax)\n",
    "ax.set_title('Matriz de Confusión')\n",
    "ax.grid(False) \n",
    "plt.show()"
   ]
  },
  {
   "cell_type": "code",
   "execution_count": 60,
   "id": "4237b517-36d1-46f9-a26b-8b52af7f1b87",
   "metadata": {},
   "outputs": [
    {
     "data": {
      "text/plain": [
       "0.9446969696969697"
      ]
     },
     "execution_count": 60,
     "metadata": {},
     "output_type": "execute_result"
    }
   ],
   "source": [
    "accuracy_score(y_val,y_pred_lda)"
   ]
  },
  {
   "cell_type": "code",
   "execution_count": 61,
   "id": "0570f903-1238-4f1d-93e8-a4b60c382015",
   "metadata": {},
   "outputs": [
    {
     "data": {
      "text/plain": [
       "0.9219529765509177"
      ]
     },
     "execution_count": 61,
     "metadata": {},
     "output_type": "execute_result"
    }
   ],
   "source": [
    "precision_score(y_val,y_pred_lda,average='macro')"
   ]
  },
  {
   "cell_type": "markdown",
   "id": "f3f73496-e773-4ac4-b3c2-c7d90f182dc4",
   "metadata": {},
   "source": [
    "### Clasificador logistico"
   ]
  },
  {
   "cell_type": "code",
   "execution_count": 62,
   "id": "d63d5ac3-61c5-4da1-b1d8-a6f2074a6008",
   "metadata": {},
   "outputs": [
    {
     "data": {
      "text/plain": [
       "LogisticRegression()"
      ]
     },
     "execution_count": 62,
     "metadata": {},
     "output_type": "execute_result"
    }
   ],
   "source": [
    "logistic_reg = LogisticRegression()\n",
    "logistic_reg.fit(X_train,y_train)"
   ]
  },
  {
   "cell_type": "code",
   "execution_count": 63,
   "id": "66ab0287-f3f3-4606-bd99-31f5878382d9",
   "metadata": {},
   "outputs": [],
   "source": [
    "y_pred=logistic_reg.predict(X_val)"
   ]
  },
  {
   "cell_type": "code",
   "execution_count": 64,
   "id": "1eb77f67-0ef4-4dec-bcbc-29ba9a38d85f",
   "metadata": {},
   "outputs": [
    {
     "data": {
      "image/png": "[encoded data removed]",
      "text/plain": [
       "<Figure size 504x504 with 2 Axes>"
      ]
     },
     "metadata": {
      "needs_background": "light"
     },
     "output_type": "display_data"
    }
   ],
   "source": [
    "cm=confusion_matrix(y_val,y_pred)\n",
    "fig, ax = plt.subplots(figsize=(7, 7))\n",
    "disp = ConfusionMatrixDisplay(confusion_matrix=cm, display_labels=[0,1])\n",
    "disp.plot(cmap=plt.cm.Blues,ax=ax)\n",
    "ax.set_title('Matriz de Confusión')\n",
    "ax.grid(False) \n",
    "plt.show()"
   ]
  },
  {
   "cell_type": "code",
   "execution_count": 65,
   "id": "ade8a852-2188-456c-acf9-e521f1b67da0",
   "metadata": {},
   "outputs": [
    {
     "data": {
      "text/plain": [
       "0.9507575757575758"
      ]
     },
     "execution_count": 65,
     "metadata": {},
     "output_type": "execute_result"
    }
   ],
   "source": [
    "accuracy_score(y_val,y_pred)"
   ]
  },
  {
   "cell_type": "code",
   "execution_count": 66,
   "id": "0fbb1afc-8742-43ff-9cab-d1b40a7b7d12",
   "metadata": {},
   "outputs": [
    {
     "data": {
      "text/plain": [
       "0.9158427937749041"
      ]
     },
     "execution_count": 66,
     "metadata": {},
     "output_type": "execute_result"
    }
   ],
   "source": [
    "precision_score(y_val,y_pred,average='macro')"
   ]
  },
  {
   "cell_type": "markdown",
   "id": "7ce15c26-1dcf-4ee0-9fb8-0f157f09affc",
   "metadata": {},
   "source": [
    "Como QDA es el modelo que mostro mejor rendimiento, es el que usaremos para validar nuestra hipotesis."
   ]
  },
  {
   "cell_type": "markdown",
   "id": "1d026d8e-c9e1-4197-b272-a85b68414e76",
   "metadata": {},
   "source": [
    "## -MRMR"
   ]
  },
  {
   "cell_type": "code",
   "execution_count": 67,
   "id": "10c92639-a0ac-4b46-9abf-6e85ee494b5f",
   "metadata": {},
   "outputs": [
    {
     "name": "stderr",
     "output_type": "stream",
     "text": [
      "100%|██████████| 20/20 [00:02<00:00,  7.04it/s]\n"
     ]
    }
   ],
   "source": [
    "selected_features = mrmr_classif(X, y, K = 20)"
   ]
  },
  {
   "cell_type": "code",
   "execution_count": 68,
   "id": "b47793ca-3114-4338-b861-dc2c86b0ba5a",
   "metadata": {},
   "outputs": [
    {
     "data": {
      "text/plain": [
       "['f132',\n",
       " 'f92',\n",
       " 'f68',\n",
       " 'f36',\n",
       " 'f126',\n",
       " 'f49',\n",
       " 'f163',\n",
       " 'f124',\n",
       " 'f58',\n",
       " 'f59',\n",
       " 'f135',\n",
       " 'f91',\n",
       " 'f109',\n",
       " 'f96',\n",
       " 'f14',\n",
       " 'f37',\n",
       " 'f125',\n",
       " 'f74',\n",
       " 'f70',\n",
       " 'f111']"
      ]
     },
     "execution_count": 68,
     "metadata": {},
     "output_type": "execute_result"
    }
   ],
   "source": [
    "selected_features"
   ]
  },
  {
   "cell_type": "code",
   "execution_count": 69,
   "id": "10ee1895-a2ee-4d6e-8187-e72d93ef8ce3",
   "metadata": {},
   "outputs": [],
   "source": [
    "X_train_mr=X_train.drop(list(set(list(X_train.columns))-set(selected_features)),axis=1)\n",
    "X_val_mr=X_val.drop(list(set(list(X_train.columns))-set(selected_features)),axis=1)"
   ]
  },
  {
   "cell_type": "markdown",
   "id": "a904e4f3-3f79-4e47-a09b-bcfca0d9c5a0",
   "metadata": {},
   "source": [
    "### QDA"
   ]
  },
  {
   "cell_type": "code",
   "execution_count": 70,
   "id": "784ca5ac-e7db-4ced-92fc-346f0c705b73",
   "metadata": {},
   "outputs": [
    {
     "data": {
      "text/plain": [
       "QuadraticDiscriminantAnalysis(store_covariance=True)"
      ]
     },
     "execution_count": 70,
     "metadata": {},
     "output_type": "execute_result"
    }
   ],
   "source": [
    "qda = QuadraticDiscriminantAnalysis(store_covariance=True) #Guardamos la matriz de covarianzas para hace mas adelante el metodo mixto \n",
    "qda.fit(X_train_mr, y_train.ravel()) #Entrenamos"
   ]
  },
  {
   "cell_type": "code",
   "execution_count": 71,
   "id": "ee24f40f-3d9d-4de8-a68c-4264670f8191",
   "metadata": {},
   "outputs": [],
   "source": [
    "y_pred_qda = qda.predict(X_val_mr)"
   ]
  },
  {
   "cell_type": "code",
   "execution_count": 72,
   "id": "81b6ba35-2674-43f0-b440-848c1f2263ec",
   "metadata": {},
   "outputs": [],
   "source": [
    "cm = confusion_matrix(y_val,y_pred_qda)"
   ]
  },
  {
   "cell_type": "code",
   "execution_count": 73,
   "id": "e490608b-6d37-4ef8-ac02-29aad34c193c",
   "metadata": {},
   "outputs": [
    {
     "data": {
      "image/png": "[encoded data removed]",
      "text/plain": [
       "<Figure size 504x504 with 2 Axes>"
      ]
     },
     "metadata": {
      "needs_background": "light"
     },
     "output_type": "display_data"
    }
   ],
   "source": [
    "fig, ax = plt.subplots(figsize=(7, 7))\n",
    "disp = ConfusionMatrixDisplay(confusion_matrix=cm, display_labels=['0','1'])\n",
    "disp.plot(cmap=plt.cm.Blues,ax=ax)\n",
    "ax.set_title('Matriz de Confusión')\n",
    "ax.grid(False) \n",
    "plt.show()"
   ]
  },
  {
   "cell_type": "code",
   "execution_count": 74,
   "id": "60572771-3add-465c-ad4b-2d9a4f66bf60",
   "metadata": {},
   "outputs": [
    {
     "data": {
      "text/plain": [
       "0.8545454545454545"
      ]
     },
     "execution_count": 74,
     "metadata": {},
     "output_type": "execute_result"
    }
   ],
   "source": [
    "accuracy_score(y_val,y_pred_qda)"
   ]
  },
  {
   "cell_type": "code",
   "execution_count": 75,
   "id": "7bb8112b-0313-4b39-8433-1c338b63f994",
   "metadata": {},
   "outputs": [
    {
     "data": {
      "text/plain": [
       "0.7364603717008869"
      ]
     },
     "execution_count": 75,
     "metadata": {},
     "output_type": "execute_result"
    }
   ],
   "source": [
    "#precision_score\n",
    "precision_score(y_val,y_pred_qda,average='macro')"
   ]
  },
  {
   "cell_type": "markdown",
   "id": "43ab06ab-2dd9-41f6-956b-26c745d26e5a",
   "metadata": {},
   "source": [
    "## -ReliefF"
   ]
  },
  {
   "cell_type": "code",
   "execution_count": 76,
   "id": "f3159faf-be61-41aa-ac97-21d7dcf18c4b",
   "metadata": {},
   "outputs": [],
   "source": [
    "fs = ReliefF(n_neighbors=3, n_features_to_keep=20)"
   ]
  },
  {
   "cell_type": "code",
   "execution_count": 77,
   "id": "6804f051-8562-4e95-8592-5a26223dba39",
   "metadata": {},
   "outputs": [],
   "source": [
    "X_rf=fs.fit_transform(np.array(X), np.array(y))"
   ]
  },
  {
   "cell_type": "code",
   "execution_count": 78,
   "id": "2cbdc486-306c-4321-95ed-727b8a2a435c",
   "metadata": {},
   "outputs": [],
   "source": [
    "X_train_rf, X_val_rf, y_train, y_val = train_test_split(X_rf,y,test_size=0.2, random_state=44, stratify = y)"
   ]
  },
  {
   "cell_type": "markdown",
   "id": "b4417aab-a81b-4560-915c-b9bb11b98a98",
   "metadata": {},
   "source": [
    "### QDA"
   ]
  },
  {
   "cell_type": "code",
   "execution_count": 79,
   "id": "b8165b86-f626-42ad-9bba-8395d3756246",
   "metadata": {},
   "outputs": [
    {
     "data": {
      "text/plain": [
       "QuadraticDiscriminantAnalysis(store_covariance=True)"
      ]
     },
     "execution_count": 79,
     "metadata": {},
     "output_type": "execute_result"
    }
   ],
   "source": [
    "qda = QuadraticDiscriminantAnalysis(store_covariance=True) #Guardamos la matriz de covarianzas para hace mas adelante el metodo mixto \n",
    "qda.fit(X_train_rf, y_train.ravel()) #Entrenamos"
   ]
  },
  {
   "cell_type": "code",
   "execution_count": 80,
   "id": "b6ababe3-dd7f-49ce-80d7-a0fd61d4fcfc",
   "metadata": {},
   "outputs": [],
   "source": [
    "y_pred_qda = qda.predict(X_val_rf)"
   ]
  },
  {
   "cell_type": "code",
   "execution_count": 81,
   "id": "be9837b1-a701-4e66-9847-04f0a5975805",
   "metadata": {},
   "outputs": [
    {
     "data": {
      "image/png": "[encoded data removed]",
      "text/plain": [
       "<Figure size 504x504 with 2 Axes>"
      ]
     },
     "metadata": {
      "needs_background": "light"
     },
     "output_type": "display_data"
    }
   ],
   "source": [
    "fig, ax = plt.subplots(figsize=(7, 7))\n",
    "disp = ConfusionMatrixDisplay(confusion_matrix=cm, display_labels=['0','1'])\n",
    "disp.plot(cmap=plt.cm.Blues,ax=ax)\n",
    "ax.set_title('Matriz de Confusión')\n",
    "ax.grid(False) \n",
    "plt.show()"
   ]
  },
  {
   "cell_type": "code",
   "execution_count": 82,
   "id": "ff34d364-a04c-47d8-88a3-523d4c307e8b",
   "metadata": {},
   "outputs": [
    {
     "data": {
      "text/plain": [
       "0.696969696969697"
      ]
     },
     "execution_count": 82,
     "metadata": {},
     "output_type": "execute_result"
    }
   ],
   "source": [
    "accuracy_score(y_val,y_pred_qda)"
   ]
  },
  {
   "cell_type": "code",
   "execution_count": 83,
   "id": "66256791-b11f-4c42-bad5-19f893d93140",
   "metadata": {},
   "outputs": [
    {
     "data": {
      "text/plain": [
       "0.6446430634373136"
      ]
     },
     "execution_count": 83,
     "metadata": {},
     "output_type": "execute_result"
    }
   ],
   "source": [
    "#precision_score\n",
    "precision_score(y_val,y_pred_qda,average='macro')"
   ]
  },
  {
   "cell_type": "markdown",
   "id": "f31261d8-df82-4b82-b6b5-185f14420bf9",
   "metadata": {},
   "source": [
    "##  -Prueba para varias semillas y cantidades de columnas"
   ]
  },
  {
   "cell_type": "code",
   "execution_count": 12,
   "id": "3738f504-c4e6-4e00-89e3-c4c8fca13521",
   "metadata": {},
   "outputs": [
    {
     "name": "stderr",
     "output_type": "stream",
     "text": [
      "100%|██████████| 1/1 [00:00<00:00, 986.43it/s]\n",
      "100%|██████████| 2/2 [00:00<00:00, 10.06it/s]\n",
      "100%|██████████| 3/3 [00:00<00:00,  8.06it/s]\n",
      "100%|██████████| 4/4 [00:00<00:00,  7.04it/s]\n",
      "100%|██████████| 5/5 [00:00<00:00,  6.49it/s]\n",
      "100%|██████████| 6/6 [00:00<00:00,  6.51it/s]\n",
      "100%|██████████| 7/7 [00:01<00:00,  4.89it/s]\n",
      "100%|██████████| 8/8 [00:01<00:00,  5.18it/s]\n",
      "100%|██████████| 9/9 [00:01<00:00,  5.71it/s]\n",
      "100%|██████████| 10/10 [00:01<00:00,  5.99it/s]\n",
      "100%|██████████| 11/11 [00:01<00:00,  5.91it/s]\n",
      "100%|██████████| 12/12 [00:02<00:00,  5.73it/s]\n",
      "100%|██████████| 13/13 [00:02<00:00,  5.68it/s]\n",
      "100%|██████████| 14/14 [00:02<00:00,  5.80it/s]\n",
      "100%|██████████| 15/15 [00:02<00:00,  6.06it/s]\n",
      "100%|██████████| 16/16 [00:02<00:00,  6.27it/s]\n",
      "100%|██████████| 17/17 [00:02<00:00,  6.63it/s]\n",
      "100%|██████████| 18/18 [00:02<00:00,  6.02it/s]\n",
      "100%|██████████| 19/19 [00:02<00:00,  6.83it/s]\n",
      "100%|██████████| 20/20 [00:02<00:00,  7.02it/s]\n",
      "100%|██████████| 21/21 [00:02<00:00,  7.34it/s]\n",
      "100%|██████████| 22/22 [00:03<00:00,  6.67it/s]\n",
      "100%|██████████| 23/23 [00:02<00:00,  7.71it/s]\n",
      "100%|██████████| 24/24 [00:03<00:00,  7.95it/s]\n",
      "100%|██████████| 25/25 [00:03<00:00,  7.30it/s]\n",
      "100%|██████████| 26/26 [00:03<00:00,  8.26it/s]\n",
      "100%|██████████| 27/27 [00:03<00:00,  7.55it/s]\n",
      "100%|██████████| 28/28 [00:03<00:00,  7.70it/s]\n",
      "100%|██████████| 29/29 [00:03<00:00,  8.68it/s]\n",
      "100%|██████████| 30/30 [00:03<00:00,  8.80it/s]\n",
      "100%|██████████| 31/31 [00:03<00:00,  8.18it/s]\n",
      "100%|██████████| 32/32 [00:03<00:00,  8.09it/s]\n",
      "100%|██████████| 33/33 [00:03<00:00,  9.36it/s]\n",
      "100%|██████████| 34/34 [00:04<00:00,  8.28it/s]\n",
      "100%|██████████| 35/35 [00:03<00:00,  9.55it/s]\n",
      "100%|██████████| 36/36 [00:03<00:00,  9.68it/s]\n",
      "100%|██████████| 37/37 [00:04<00:00,  9.09it/s]\n",
      "100%|██████████| 38/38 [00:04<00:00,  8.93it/s]\n",
      "100%|██████████| 39/39 [00:03<00:00, 10.22it/s]\n",
      "100%|██████████| 40/40 [00:04<00:00,  9.35it/s]\n",
      "100%|██████████| 41/41 [00:03<00:00, 10.42it/s]\n",
      "100%|██████████| 42/42 [00:04<00:00,  9.63it/s]\n",
      "100%|██████████| 43/43 [00:04<00:00, 10.63it/s]\n",
      "100%|██████████| 44/44 [00:04<00:00, 10.73it/s]\n",
      "100%|██████████| 45/45 [00:04<00:00, 10.07it/s]\n",
      "100%|██████████| 46/46 [00:04<00:00, 10.74it/s]\n",
      "100%|██████████| 47/47 [00:04<00:00, 10.87it/s]\n",
      "100%|██████████| 48/48 [00:04<00:00, 10.23it/s]\n",
      "100%|██████████| 49/49 [00:04<00:00, 10.75it/s]\n",
      "100%|██████████| 50/50 [00:04<00:00, 10.43it/s]\n",
      "100%|██████████| 51/51 [00:04<00:00, 11.31it/s]\n",
      "100%|██████████| 52/52 [00:04<00:00, 11.52it/s]\n",
      "100%|██████████| 53/53 [00:04<00:00, 11.21it/s]\n",
      "100%|██████████| 54/54 [00:04<00:00, 11.63it/s]\n",
      "100%|██████████| 55/55 [00:04<00:00, 11.45it/s]\n",
      "100%|██████████| 56/56 [00:05<00:00, 10.96it/s]\n",
      "100%|██████████| 57/57 [00:05<00:00, 11.13it/s]\n",
      "100%|██████████| 58/58 [00:05<00:00, 11.30it/s]\n",
      "100%|██████████| 59/59 [00:04<00:00, 12.14it/s]\n",
      "100%|██████████| 60/60 [00:04<00:00, 12.22it/s]\n",
      "100%|██████████| 61/61 [00:05<00:00, 11.37it/s]\n",
      "100%|██████████| 62/62 [00:05<00:00, 11.65it/s]\n",
      "100%|██████████| 63/63 [00:05<00:00, 12.38it/s]\n",
      "100%|██████████| 64/64 [00:05<00:00, 12.55it/s]\n",
      "100%|██████████| 65/65 [00:05<00:00, 12.58it/s]\n",
      "100%|██████████| 66/66 [00:05<00:00, 12.71it/s]\n",
      "100%|██████████| 67/67 [00:05<00:00, 12.68it/s]\n",
      "100%|██████████| 68/68 [00:05<00:00, 12.55it/s]\n",
      "100%|██████████| 69/69 [00:05<00:00, 12.88it/s]\n",
      "100%|██████████| 70/70 [00:05<00:00, 12.35it/s]\n",
      "100%|██████████| 71/71 [00:05<00:00, 13.03it/s]\n",
      "100%|██████████| 72/72 [00:05<00:00, 13.13it/s]\n",
      "100%|██████████| 73/73 [00:05<00:00, 13.22it/s]\n",
      "100%|██████████| 74/74 [00:05<00:00, 12.73it/s]\n",
      "100%|██████████| 75/75 [00:05<00:00, 13.36it/s]\n",
      "100%|██████████| 76/76 [00:05<00:00, 13.50it/s]\n",
      "100%|██████████| 77/77 [00:05<00:00, 13.33it/s]\n",
      "100%|██████████| 78/78 [00:05<00:00, 13.21it/s]\n",
      "100%|██████████| 79/79 [00:05<00:00, 13.55it/s]\n",
      "100%|██████████| 80/80 [00:05<00:00, 13.52it/s]\n",
      "100%|██████████| 81/81 [00:05<00:00, 13.66it/s]\n",
      "100%|██████████| 82/82 [00:06<00:00, 12.91it/s]\n",
      "100%|██████████| 83/83 [00:05<00:00, 13.90it/s]\n",
      "100%|██████████| 84/84 [00:06<00:00, 13.90it/s]\n",
      "100%|██████████| 85/85 [00:06<00:00, 13.94it/s]\n",
      "100%|██████████| 86/86 [00:06<00:00, 13.97it/s]\n",
      "100%|██████████| 87/87 [00:06<00:00, 14.20it/s]\n",
      "100%|██████████| 88/88 [00:06<00:00, 14.24it/s]\n",
      "100%|██████████| 89/89 [00:06<00:00, 14.40it/s]\n",
      "100%|██████████| 90/90 [00:06<00:00, 14.40it/s]\n",
      "100%|██████████| 91/91 [00:06<00:00, 14.51it/s]\n",
      "100%|██████████| 92/92 [00:06<00:00, 14.78it/s]\n",
      "100%|██████████| 93/93 [00:06<00:00, 14.84it/s]\n",
      "100%|██████████| 94/94 [00:06<00:00, 14.78it/s]\n",
      "100%|██████████| 95/95 [00:06<00:00, 14.95it/s]\n",
      "100%|██████████| 96/96 [00:06<00:00, 14.91it/s]\n",
      "100%|██████████| 97/97 [00:06<00:00, 15.00it/s]\n",
      "100%|██████████| 98/98 [00:06<00:00, 15.08it/s]\n",
      "100%|██████████| 99/99 [00:06<00:00, 14.96it/s]\n",
      "100%|██████████| 100/100 [00:06<00:00, 15.28it/s]\n",
      "100%|██████████| 101/101 [00:06<00:00, 14.60it/s]\n",
      "100%|██████████| 102/102 [00:06<00:00, 15.45it/s]\n",
      "100%|██████████| 103/103 [00:07<00:00, 13.82it/s]\n",
      "100%|██████████| 104/104 [00:06<00:00, 14.92it/s]\n",
      "100%|██████████| 105/105 [00:06<00:00, 15.51it/s]\n",
      "100%|██████████| 106/106 [00:07<00:00, 14.95it/s]\n",
      "100%|██████████| 107/107 [00:06<00:00, 15.88it/s]\n",
      "100%|██████████| 108/108 [00:06<00:00, 15.78it/s]\n",
      "100%|██████████| 109/109 [00:06<00:00, 16.08it/s]\n"
     ]
    }
   ],
   "source": [
    "lista_scores_mr=[]\n",
    "lista_scores_rf=[]\n",
    "for i in range(1,110): #Por un tema de costo computacional solo se trabajara con N_features entre 1 y 110\n",
    "    selected_features = mrmr_classif(X, y, K = i)\n",
    "    X_mr=X.drop(list(set(list(X.columns))-set(selected_features)),axis=1)\n",
    "    scores_mr = cross_validate(QuadraticDiscriminantAnalysis(), X_mr, y,scoring='precision_macro', cv=32)\n",
    "    lista_scores_mr.append((float(scores_mr['test_score'].mean()),float(scores_mr['test_score'].std())))\n",
    "    fs = ReliefF(n_neighbors=3, n_features_to_keep=i)\n",
    "    X_rf=fs.fit_transform(np.array(X), np.array(y))\n",
    "    scores_rf = cross_validate(QuadraticDiscriminantAnalysis(), X_rf, y,scoring='precision_macro', cv=32)\n",
    "    lista_scores_rf.append((float(scores_rf['test_score'].mean()),float(scores_rf['test_score'].std() ) ))"
   ]
  },
  {
   "cell_type": "code",
   "execution_count": 13,
   "id": "874cd8be-ab77-4f11-8d77-c8b331e2639e",
   "metadata": {},
   "outputs": [],
   "source": [
    "Rendimiento_mr=pd.DataFrame(lista_scores_mr)\n",
    "Rendimiento_rf=pd.DataFrame(lista_scores_rf)"
   ]
  },
  {
   "cell_type": "code",
   "execution_count": 14,
   "id": "cd1c5fc8-13ec-4dc8-9226-2749b9b7107f",
   "metadata": {},
   "outputs": [],
   "source": [
    "Rendimiento_mr.columns=['Promedio','Desviacion']\n",
    "Rendimiento_rf.columns=['Promedio','Desviacion']"
   ]
  },
  {
   "cell_type": "code",
   "execution_count": 15,
   "id": "5e0430a2-2f15-47af-91d0-9176095bfe78",
   "metadata": {},
   "outputs": [
    {
     "data": {
      "image/png": "[encoded data removed]",
      "text/plain": [
       "<Figure size 432x288 with 1 Axes>"
      ]
     },
     "metadata": {
      "needs_background": "light"
     },
     "output_type": "display_data"
    }
   ],
   "source": [
    "plt.plot( Rendimiento_mr.index  ,Rendimiento_mr['Promedio'],label=\"MRMR\")\n",
    "plt.plot( Rendimiento_rf.index ,Rendimiento_rf['Promedio'],label=\"ReliefF\")\n",
    "\n",
    "plt.title(\"MRMR vs ReliefF\",fontsize=15)\n",
    "plt.xlabel(\"N_features\",fontsize=13)\n",
    "plt.ylabel(\"Promedio precision_macro\",fontsize=13)\n",
    "plt.legend()\n",
    "plt.show()"
   ]
  },
  {
   "cell_type": "markdown",
   "id": "b10b5f37-936e-4b89-a31e-6d6928e65cc3",
   "metadata": {},
   "source": [
    "En este otro grafico podemos ver que hay un comortamiento algo mas competitivo entre ambos metodos, sin embargo no es posible almenos afirmar que ReliefF funcione claramente mejor que MRMR."
   ]
  },
  {
   "cell_type": "markdown",
   "id": "cb0b8752-ddda-43fc-99e3-d253f172719d",
   "metadata": {},
   "source": [
    "# *Data sintetica"
   ]
  },
  {
   "cell_type": "markdown",
   "id": "8024b4ad-9729-4a2a-b751-a6b8fe00e118",
   "metadata": {},
   "source": [
    "## -Genracion de data sintetica"
   ]
  },
  {
   "cell_type": "code",
   "execution_count": 16,
   "id": "cd0158ed-85aa-4f2c-b612-a3a33b93265b",
   "metadata": {},
   "outputs": [],
   "source": [
    "n = 10000\n",
    "r1 = pd.DataFrame(uniform.rvs(size=n,random_state=1))\n",
    "r2 = pd.DataFrame(t.rvs(df = 7, loc=0, scale=1, size=n, random_state=2))\n",
    "r3 = pd.DataFrame(t.rvs(df = 4, loc=0, scale=3, size=n, random_state=3))\n",
    "r4 = pd.DataFrame(uniform.rvs(size=n,random_state=4))\n",
    "r5 = pd.DataFrame(uniform.rvs(size=n,random_state=5))\n",
    "r6 = pd.DataFrame(t.rvs(df = 9, loc=0, scale=17, size=n, random_state=6))\n",
    "r7 = pd.DataFrame(t.rvs(df = 15, loc=0, scale=9, size=n, random_state=22))\n",
    "r8 = pd.DataFrame(skewnorm.rvs(3, size=n, random_state=21 ))\n",
    "r9 = pd.DataFrame(skewnorm.rvs(-5, size=n, random_state=43 ))\n",
    "r10 = pd.DataFrame(norm.rvs(scale=8, size=n,random_state=100))\n",
    "r11 = pd.DataFrame(norm.rvs(scale=3, size=n,random_state=12))\n",
    "r12 = pd.DataFrame(norm.rvs(scale=15, size=n,random_state=1012))\n",
    "r13 = pd.DataFrame(norm.rvs(scale=80, size=n,random_state=109))\n",
    "r14 = pd.DataFrame(t.rvs(df = 4, loc=0, scale=30, size=n, random_state=300))\n",
    "r15 = pd.DataFrame(t.rvs(df = 9, loc=0, scale=19, size=n, random_state=763))\n",
    "r16 = pd.DataFrame(chi2.rvs(df = 4, loc=-6, scale=143, size=n, random_state=543))\n",
    "r16 = pd.DataFrame(chi2.rvs(df = 43, loc=6, scale=13, size=n, random_state=542))\n",
    "r17 = pd.DataFrame(expon.rvs(loc=0, scale=123, size=n, random_state=321))\n",
    "r18 = pd.DataFrame(erlang.rvs(13, loc=21, scale=100, size=n, random_state=3233))\n",
    "r19 = pd.DataFrame(erlang.rvs(3, loc=-32, scale=19, size=n, random_state=233))\n",
    "r20 = pd.DataFrame(uniform.rvs(scale = 322, loc = 13, size=n,random_state=511))\n",
    "\n",
    "ruidos = ['r1','r2','r3','r4','r5','r6','r7','r8','r9','r10','r11',\n",
    "          'r12','r13','r14','r15','r16','r17','r18','r19','r20']\n"
   ]
  },
  {
   "cell_type": "code",
   "execution_count": 17,
   "id": "8b4a5c5d-12e6-4f4f-aaa0-9e992be6cca9",
   "metadata": {},
   "outputs": [],
   "source": [
    "Ruido = pd.concat([r1,r2,r3,r4,r5,r6,r7,r8,r9,r10,\n",
    "                   r11,r12,r13,r14,r15,r16,r17,r18,r19,r20], axis = 1)"
   ]
  },
  {
   "cell_type": "code",
   "execution_count": 18,
   "id": "78be95b6-78bb-42c9-9f60-92264d91cfea",
   "metadata": {},
   "outputs": [],
   "source": [
    "Ruido.columns = ruidos"
   ]
  },
  {
   "cell_type": "code",
   "execution_count": 19,
   "id": "f43cde2c-0768-4b48-8630-5ccce8a3f32b",
   "metadata": {},
   "outputs": [],
   "source": [
    "# generamos una matriz de covarianza \n",
    "# data balanceada, 2 clases de n/2 cada una\n",
    "N = 5000\n",
    "#frequency_domain_features_test.csv\n",
    "#heart_rate_non_linear_features_test.csv\n",
    "#time_domain_features_test.csv\n",
    "tdf = pd.read_csv(\"time_domain_features_test.csv\")\n",
    "fdf = pd.read_csv(\"frequency_domain_features_test.csv\")\n",
    "S1 = tdf.cov()\n",
    "M1 = tdf.mean()\n",
    "S2 = fdf.cov()\n",
    "M2 = fdf.mean()"
   ]
  },
  {
   "cell_type": "code",
   "execution_count": 20,
   "id": "6062ea1d-e420-49c4-868e-a3b7c7acb559",
   "metadata": {},
   "outputs": [],
   "source": [
    "# para clase 1\n",
    "nombre1_1 = ['x0','x1','x2','x3','x4','x5','x6','x7',\n",
    "          'x8','x9','x10','x11','x12','x13','x14',\n",
    "          'x15','x16','x17']\n",
    "nombre1_2 = ['x18','x19','x20','x21','x22','x23','x24','x25',\n",
    "          'x26','x27','x28']\n",
    "\n",
    "nombre2_1 = ['x0','x1','x2','x3','x4','x5','x6','x7',\n",
    "          'x8','x9','x10']\n",
    "nombre2_2 = ['x11','x12','x13','x14','x15','x16','x17','x18',\n",
    "          'x19','x20','x21','x22','x23','x24','x25',\n",
    "          'x26','x27','x28']\n",
    "clase_1_1 = multivariate_normal.rvs(mean=M1*1.1, cov=S1, size=N, random_state=12)\n",
    "clase_1_2 = multivariate_t.rvs(loc=M2*0.6, shape=S2, df=9, size=N, random_state=152)\n",
    "\n",
    "clase_2_1 = multivariate_normal.rvs(mean=M1*1, cov=S1*1, size=N, random_state=44)\n",
    "clase_2_2 = multivariate_t.rvs(loc=M2*0.6, shape=S2, df=4, size=N, random_state=70)"
   ]
  },
  {
   "cell_type": "code",
   "execution_count": 21,
   "id": "369d3b6b-0bae-472d-a70f-5b95f1ccc112",
   "metadata": {},
   "outputs": [],
   "source": [
    "df1_1 = pd.DataFrame(clase_1_1,columns=nombre1_1)\n",
    "df1_2 = pd.DataFrame(clase_1_2,columns=nombre1_2)\n",
    "df_1 = pd.concat([df1_1,df1_2], axis=1)\n",
    "\n",
    "df2_1 = pd.DataFrame(clase_2_1,columns=nombre1_1)\n",
    "df2_2 = pd.DataFrame(clase_2_2,columns=nombre1_2)\n",
    "df_2 = pd.concat([df2_1,df2_2], axis=1)"
   ]
  },
  {
   "cell_type": "code",
   "execution_count": 22,
   "id": "8979f2d1-7ca3-4a07-8e2e-7bca52ec898b",
   "metadata": {},
   "outputs": [],
   "source": [
    "df_1['Clase'] = 1\n",
    "df_2['Clase'] = 0"
   ]
  },
  {
   "cell_type": "code",
   "execution_count": 23,
   "id": "5e54843e-a32c-4203-aae0-9a4eab3af2f7",
   "metadata": {},
   "outputs": [],
   "source": [
    "DF = pd.concat([df_1,df_2], axis = 0)"
   ]
  },
  {
   "cell_type": "code",
   "execution_count": 24,
   "id": "b1cc98ef-1f41-4077-b1cd-c6dd56e1e42f",
   "metadata": {},
   "outputs": [],
   "source": [
    "#pd.concat([DF,Ruido], axis = 1)\n",
    "DF.index = Ruido.index"
   ]
  },
  {
   "cell_type": "code",
   "execution_count": 25,
   "id": "610a5be0-ecfe-4ddd-92d6-f75b73b7d5b2",
   "metadata": {},
   "outputs": [],
   "source": [
    "Simulados = pd.concat([DF,Ruido], axis = 1)"
   ]
  },
  {
   "cell_type": "code",
   "execution_count": 26,
   "id": "540eae45-35e6-4b64-b2c7-083f84ad8ad4",
   "metadata": {},
   "outputs": [
    {
     "data": {
      "text/plain": [
       "Index(['x0', 'x1', 'x2', 'x3', 'x4', 'x5', 'x6', 'x7', 'x8', 'x9', 'x10',\n",
       "       'x11', 'x12', 'x13', 'x14', 'x15', 'x16', 'x17', 'x18', 'x19', 'x20',\n",
       "       'x21', 'x22', 'x23', 'x24', 'x25', 'x26', 'x27', 'x28', 'Clase', 'r1',\n",
       "       'r2', 'r3', 'r4', 'r5', 'r6', 'r7', 'r8', 'r9', 'r10', 'r11', 'r12',\n",
       "       'r13', 'r14', 'r15', 'r16', 'r17', 'r18', 'r19', 'r20'],\n",
       "      dtype='object')"
      ]
     },
     "execution_count": 26,
     "metadata": {},
     "output_type": "execute_result"
    }
   ],
   "source": [
    "Simulados.columns"
   ]
  },
  {
   "cell_type": "code",
   "execution_count": 27,
   "id": "22e78fca-4ef1-48dd-9ce4-68a06f181065",
   "metadata": {},
   "outputs": [],
   "source": [
    "y = Simulados['Clase']\n",
    "X = Simulados.drop(['Clase'], axis=1)\n",
    "X_train, X_val, y_train, y_val = train_test_split(X,y,test_size=0.2, random_state=44, stratify = y)"
   ]
  },
  {
   "cell_type": "markdown",
   "id": "dd1810ca-8e6c-455f-a270-3edbb79f6a6e",
   "metadata": {},
   "source": [
    "## -Testeo sin reduccion con 3 clasificadores"
   ]
  },
  {
   "cell_type": "markdown",
   "id": "af9b1ea5-323d-476f-ac4c-3d79ef7d9877",
   "metadata": {},
   "source": [
    "### QDA"
   ]
  },
  {
   "cell_type": "code",
   "execution_count": 28,
   "id": "bd0a65fb-b9e1-4aec-9bf4-e0c4ab3b8549",
   "metadata": {},
   "outputs": [
    {
     "data": {
      "text/plain": [
       "QuadraticDiscriminantAnalysis(store_covariance=True)"
      ]
     },
     "execution_count": 28,
     "metadata": {},
     "output_type": "execute_result"
    }
   ],
   "source": [
    "qda = QuadraticDiscriminantAnalysis(store_covariance=True) #Guardamos la matriz de covarianzas para hace mas adelante el metodo mixto \n",
    "qda.fit(X_train, y_train.ravel()) #Entrenamos"
   ]
  },
  {
   "cell_type": "code",
   "execution_count": 29,
   "id": "5e6f47ba-95f6-404d-a6a4-504ce67b47bd",
   "metadata": {},
   "outputs": [],
   "source": [
    "y_pred_qda = qda.predict(X_val)"
   ]
  },
  {
   "cell_type": "code",
   "execution_count": 30,
   "id": "8497ef13-5431-4672-82f9-882aa60dda63",
   "metadata": {},
   "outputs": [],
   "source": [
    "# Matriz de confusion\n",
    "cm = confusion_matrix(y_val,y_pred_qda)"
   ]
  },
  {
   "cell_type": "code",
   "execution_count": 31,
   "id": "afe43e75-7cec-4394-b5fe-f0407c2e50eb",
   "metadata": {},
   "outputs": [
    {
     "data": {
      "image/png": "[encoded data removed]",
      "text/plain": [
       "<Figure size 504x504 with 2 Axes>"
      ]
     },
     "metadata": {
      "needs_background": "light"
     },
     "output_type": "display_data"
    }
   ],
   "source": [
    "fig, ax = plt.subplots(figsize=(7, 7))\n",
    "disp = ConfusionMatrixDisplay(confusion_matrix=cm, display_labels=['0','1'])\n",
    "disp.plot(cmap=plt.cm.Blues,ax=ax)\n",
    "ax.set_title('Matriz de Confusión')\n",
    "ax.grid(False) \n",
    "plt.show()"
   ]
  },
  {
   "cell_type": "code",
   "execution_count": 32,
   "id": "b541b9c3-1c40-468c-8989-29c35a7bc869",
   "metadata": {},
   "outputs": [
    {
     "data": {
      "text/plain": [
       "0.8585"
      ]
     },
     "execution_count": 32,
     "metadata": {},
     "output_type": "execute_result"
    }
   ],
   "source": [
    "accuracy_score(y_val,y_pred_qda)"
   ]
  },
  {
   "cell_type": "code",
   "execution_count": 33,
   "id": "df11181a-7349-45ed-b543-791779ff0776",
   "metadata": {},
   "outputs": [
    {
     "data": {
      "text/plain": [
       "0.8588017522736622"
      ]
     },
     "execution_count": 33,
     "metadata": {},
     "output_type": "execute_result"
    }
   ],
   "source": [
    "precision_score(y_val,y_pred_qda,average='macro')"
   ]
  },
  {
   "cell_type": "markdown",
   "id": "97d61497-1fbb-45ec-b87d-3166986b0dab",
   "metadata": {},
   "source": [
    "### LDA"
   ]
  },
  {
   "cell_type": "code",
   "execution_count": 34,
   "id": "dac9c9e0-a485-45b8-ab47-dc41cff3e6e1",
   "metadata": {},
   "outputs": [
    {
     "data": {
      "text/plain": [
       "LinearDiscriminantAnalysis(store_covariance=True)"
      ]
     },
     "execution_count": 34,
     "metadata": {},
     "output_type": "execute_result"
    }
   ],
   "source": [
    "lda = LinearDiscriminantAnalysis(store_covariance=True)\n",
    "lda.fit(X_train, y_train.ravel())"
   ]
  },
  {
   "cell_type": "code",
   "execution_count": 35,
   "id": "eb797efb-09ac-498a-9efc-60d0503b7e27",
   "metadata": {},
   "outputs": [],
   "source": [
    "y_pred_lda=lda.predict(X_val)"
   ]
  },
  {
   "cell_type": "code",
   "execution_count": 36,
   "id": "dab1d4f8-03bf-4726-922a-e5b719d00edf",
   "metadata": {},
   "outputs": [],
   "source": [
    "# Matriz de confusion\n",
    "cm = confusion_matrix(y_val,y_pred_lda)"
   ]
  },
  {
   "cell_type": "code",
   "execution_count": 37,
   "id": "af717766-a4f5-44d9-ab11-f2782c9d58a8",
   "metadata": {},
   "outputs": [
    {
     "data": {
      "image/png": "[encoded data removed]",
      "text/plain": [
       "<Figure size 504x504 with 2 Axes>"
      ]
     },
     "metadata": {
      "needs_background": "light"
     },
     "output_type": "display_data"
    }
   ],
   "source": [
    "fig, ax = plt.subplots(figsize=(7, 7))\n",
    "disp = ConfusionMatrixDisplay(confusion_matrix=cm, display_labels=['0','1'])\n",
    "disp.plot(cmap=plt.cm.Blues,ax=ax)\n",
    "ax.set_title('Matriz de Confusión')\n",
    "ax.grid(False) \n",
    "plt.show()"
   ]
  },
  {
   "cell_type": "code",
   "execution_count": 38,
   "id": "f7c2568d-df1d-4feb-9df6-1f08d09c58e1",
   "metadata": {},
   "outputs": [
    {
     "data": {
      "text/plain": [
       "0.893"
      ]
     },
     "execution_count": 38,
     "metadata": {},
     "output_type": "execute_result"
    }
   ],
   "source": [
    "accuracy_score(y_val,y_pred_lda)"
   ]
  },
  {
   "cell_type": "code",
   "execution_count": 39,
   "id": "eb1099de-1912-45ff-b9a3-2e0245170d41",
   "metadata": {},
   "outputs": [
    {
     "data": {
      "text/plain": [
       "0.893001572006288"
      ]
     },
     "execution_count": 39,
     "metadata": {},
     "output_type": "execute_result"
    }
   ],
   "source": [
    "precision_score(y_val,y_pred_lda,average='macro')"
   ]
  },
  {
   "cell_type": "markdown",
   "id": "57abde3f-739b-4fd7-b361-b7336e2acc23",
   "metadata": {},
   "source": [
    "### Clasificador logistico"
   ]
  },
  {
   "cell_type": "code",
   "execution_count": 40,
   "id": "72df0a7f-0a41-441f-b130-120cb2a2bc87",
   "metadata": {},
   "outputs": [
    {
     "data": {
      "text/plain": [
       "LogisticRegression()"
      ]
     },
     "execution_count": 40,
     "metadata": {},
     "output_type": "execute_result"
    }
   ],
   "source": [
    "logistic_reg = LogisticRegression()\n",
    "logistic_reg.fit(X_train,y_train)"
   ]
  },
  {
   "cell_type": "code",
   "execution_count": 41,
   "id": "bd814826-9fe8-4e2e-8da5-36866cdb27d7",
   "metadata": {},
   "outputs": [],
   "source": [
    "y_pred=logistic_reg.predict(X_val)"
   ]
  },
  {
   "cell_type": "code",
   "execution_count": 42,
   "id": "119777bf-5fd8-4fa6-a1e3-881264e5b713",
   "metadata": {},
   "outputs": [
    {
     "data": {
      "image/png": "[encoded data removed]",
      "text/plain": [
       "<Figure size 504x504 with 2 Axes>"
      ]
     },
     "metadata": {
      "needs_background": "light"
     },
     "output_type": "display_data"
    }
   ],
   "source": [
    "cm=confusion_matrix(y_val,y_pred)\n",
    "fig, ax = plt.subplots(figsize=(7, 7))\n",
    "disp = ConfusionMatrixDisplay(confusion_matrix=cm, display_labels=[0,1])\n",
    "disp.plot(cmap=plt.cm.Blues,ax=ax)\n",
    "ax.set_title('Matriz de Confusión')\n",
    "ax.grid(False) \n",
    "plt.show()"
   ]
  },
  {
   "cell_type": "code",
   "execution_count": 43,
   "id": "a9ee4d67-7084-4a14-a759-d3ab102f4c81",
   "metadata": {},
   "outputs": [
    {
     "data": {
      "text/plain": [
       "0.605"
      ]
     },
     "execution_count": 43,
     "metadata": {},
     "output_type": "execute_result"
    }
   ],
   "source": [
    "accuracy_score(y_val,y_pred)"
   ]
  },
  {
   "cell_type": "code",
   "execution_count": 44,
   "id": "63f9e1c3-4942-4c51-a052-e2437e1f20fc",
   "metadata": {},
   "outputs": [
    {
     "data": {
      "text/plain": [
       "0.6052036743134709"
      ]
     },
     "execution_count": 44,
     "metadata": {},
     "output_type": "execute_result"
    }
   ],
   "source": [
    "precision_score(y_val,y_pred,average='macro')"
   ]
  },
  {
   "cell_type": "markdown",
   "id": "3a526b78-ad14-452e-9ee5-49b15c358868",
   "metadata": {},
   "source": [
    "Como LDA es el que dio mejores resultado , haremos uso de este modelo para validar nuestra hipotesis."
   ]
  },
  {
   "cell_type": "markdown",
   "id": "93e345ab-402c-49b0-8054-fd000d5fb9d9",
   "metadata": {},
   "source": [
    "## -MRMR"
   ]
  },
  {
   "cell_type": "code",
   "execution_count": 45,
   "id": "0fb0001c-4a48-40df-af73-64359880e377",
   "metadata": {},
   "outputs": [
    {
     "name": "stderr",
     "output_type": "stream",
     "text": [
      "100%|██████████| 20/20 [00:00<00:00, 38.20it/s]\n"
     ]
    }
   ],
   "source": [
    "selected_features = mrmr_classif(X, y, K = 20)"
   ]
  },
  {
   "cell_type": "code",
   "execution_count": 46,
   "id": "b69bc2ec-aa5c-47c2-b1ad-d1f81fd695f5",
   "metadata": {},
   "outputs": [
    {
     "data": {
      "text/plain": [
       "['x0',\n",
       " 'r6',\n",
       " 'x12',\n",
       " 'x1',\n",
       " 'x15',\n",
       " 'x24',\n",
       " 'x3',\n",
       " 'r19',\n",
       " 'x4',\n",
       " 'x5',\n",
       " 'x13',\n",
       " 'r18',\n",
       " 'r20',\n",
       " 'x14',\n",
       " 'x2',\n",
       " 'r13',\n",
       " 'r12',\n",
       " 'r15',\n",
       " 'r1',\n",
       " 'r16']"
      ]
     },
     "execution_count": 46,
     "metadata": {},
     "output_type": "execute_result"
    }
   ],
   "source": [
    "selected_features"
   ]
  },
  {
   "cell_type": "code",
   "execution_count": 47,
   "id": "ae2e5e59-109a-4966-809f-e5f5c999ec4b",
   "metadata": {},
   "outputs": [],
   "source": [
    "X_train_mr=X_train.drop(list(set(list(X_train.columns))-set(selected_features)),axis=1)\n",
    "X_val_mr=X_val.drop(list(set(list(X_train.columns))-set(selected_features)),axis=1)"
   ]
  },
  {
   "cell_type": "markdown",
   "id": "a90f5fd0-f9d8-4f83-80d4-42c6f03b508c",
   "metadata": {},
   "source": [
    "### LDA"
   ]
  },
  {
   "cell_type": "code",
   "execution_count": 48,
   "id": "b1002c24-e1ba-4254-a01f-89a70889c25b",
   "metadata": {},
   "outputs": [
    {
     "data": {
      "text/plain": [
       "LinearDiscriminantAnalysis(store_covariance=True)"
      ]
     },
     "execution_count": 48,
     "metadata": {},
     "output_type": "execute_result"
    }
   ],
   "source": [
    "lda = LinearDiscriminantAnalysis(store_covariance=True)\n",
    "lda.fit(X_train_mr, y_train.ravel())"
   ]
  },
  {
   "cell_type": "code",
   "execution_count": 49,
   "id": "0fcbe383-a025-4ba1-bd90-c8e55bc2dc0e",
   "metadata": {},
   "outputs": [],
   "source": [
    "y_pred_lda=lda.predict(X_val_mr)"
   ]
  },
  {
   "cell_type": "code",
   "execution_count": 50,
   "id": "6f2aee8d-987a-49d5-b704-1e56905a4482",
   "metadata": {},
   "outputs": [],
   "source": [
    "# Matriz de confusion\n",
    "cm = confusion_matrix(y_val,y_pred_lda)"
   ]
  },
  {
   "cell_type": "code",
   "execution_count": 51,
   "id": "a2fcce7c-3c38-4c7b-97ac-99fc07a651db",
   "metadata": {},
   "outputs": [
    {
     "data": {
      "image/png": "[encoded data removed]",
      "text/plain": [
       "<Figure size 504x504 with 2 Axes>"
      ]
     },
     "metadata": {
      "needs_background": "light"
     },
     "output_type": "display_data"
    }
   ],
   "source": [
    "fig, ax = plt.subplots(figsize=(7, 7))\n",
    "disp = ConfusionMatrixDisplay(confusion_matrix=cm, display_labels=['0','1'])\n",
    "disp.plot(cmap=plt.cm.Blues,ax=ax)\n",
    "ax.set_title('Matriz de Confusión')\n",
    "ax.grid(False) \n",
    "plt.show()"
   ]
  },
  {
   "cell_type": "code",
   "execution_count": 52,
   "id": "a72cc99f-4fe9-440e-8e77-62e403a4448b",
   "metadata": {},
   "outputs": [
    {
     "data": {
      "text/plain": [
       "0.8615"
      ]
     },
     "execution_count": 52,
     "metadata": {},
     "output_type": "execute_result"
    }
   ],
   "source": [
    "accuracy_score(y_val,y_pred_lda)"
   ]
  },
  {
   "cell_type": "code",
   "execution_count": 53,
   "id": "69fb131d-23e4-4dff-8c72-0081d44ccbc9",
   "metadata": {},
   "outputs": [
    {
     "data": {
      "text/plain": [
       "0.861543746793362"
      ]
     },
     "execution_count": 53,
     "metadata": {},
     "output_type": "execute_result"
    }
   ],
   "source": [
    "precision_score(y_val,y_pred_lda,average='macro')"
   ]
  },
  {
   "cell_type": "markdown",
   "id": "480ffa38-bda4-48c9-8b46-deae17caf364",
   "metadata": {},
   "source": [
    "## -ReliefF"
   ]
  },
  {
   "cell_type": "code",
   "execution_count": 54,
   "id": "754af4d0-d129-4f26-965c-5d6af48b8169",
   "metadata": {},
   "outputs": [],
   "source": [
    "from ReliefF import ReliefF"
   ]
  },
  {
   "cell_type": "code",
   "execution_count": 55,
   "id": "abc2498c-2afe-47d4-a717-e226b2770e35",
   "metadata": {},
   "outputs": [],
   "source": [
    "fs = ReliefF(n_neighbors=3, n_features_to_keep=20)"
   ]
  },
  {
   "cell_type": "code",
   "execution_count": 56,
   "id": "afc4972c-166d-476e-b720-b98e7a295fbc",
   "metadata": {},
   "outputs": [],
   "source": [
    "X_rf=fs.fit_transform(np.array(X), np.array(y))"
   ]
  },
  {
   "cell_type": "code",
   "execution_count": 57,
   "id": "0a0848e0-6892-4c59-839d-61e41428eabb",
   "metadata": {},
   "outputs": [],
   "source": [
    "X_train_rf, X_val_rf, y_train, y_val = train_test_split(X_rf,y,test_size=0.2, random_state=44, stratify = y)"
   ]
  },
  {
   "cell_type": "markdown",
   "id": "4e93efd2-ca02-49d2-8f72-70016dd109dd",
   "metadata": {},
   "source": [
    "### LDA"
   ]
  },
  {
   "cell_type": "code",
   "execution_count": 58,
   "id": "5d8708a8-b911-4111-8ec7-00c7ba35bb92",
   "metadata": {},
   "outputs": [
    {
     "data": {
      "text/plain": [
       "LinearDiscriminantAnalysis(store_covariance=True)"
      ]
     },
     "execution_count": 58,
     "metadata": {},
     "output_type": "execute_result"
    }
   ],
   "source": [
    "lda = LinearDiscriminantAnalysis(store_covariance=True)   \n",
    "lda.fit(X_train_rf, y_train.ravel())"
   ]
  },
  {
   "cell_type": "code",
   "execution_count": 59,
   "id": "5f250d6e-67e2-4bbb-9a4b-7389f684b2af",
   "metadata": {},
   "outputs": [],
   "source": [
    "y_pred_lda=lda.predict(X_val_rf)"
   ]
  },
  {
   "cell_type": "code",
   "execution_count": 60,
   "id": "a73ee01d-3cd0-48b6-ab1a-fd15bdc12fba",
   "metadata": {},
   "outputs": [],
   "source": [
    "# Matriz de confusion\n",
    "cm = confusion_matrix(y_val,y_pred_lda)"
   ]
  },
  {
   "cell_type": "code",
   "execution_count": 61,
   "id": "0ff0ba86-6d4a-4e75-9be7-61a6dc914779",
   "metadata": {},
   "outputs": [
    {
     "data": {
      "image/png": "[encoded data removed]",
      "text/plain": [
       "<Figure size 504x504 with 2 Axes>"
      ]
     },
     "metadata": {
      "needs_background": "light"
     },
     "output_type": "display_data"
    }
   ],
   "source": [
    "fig, ax = plt.subplots(figsize=(7, 7))\n",
    "disp = ConfusionMatrixDisplay(confusion_matrix=cm, display_labels=['0','1'])\n",
    "disp.plot(cmap=plt.cm.Blues,ax=ax)\n",
    "ax.set_title('Matriz de Confusión')\n",
    "ax.grid(False) \n",
    "plt.show()"
   ]
  },
  {
   "cell_type": "code",
   "execution_count": 62,
   "id": "ef4e6eab-491c-44f0-affb-c3e6584cb633",
   "metadata": {},
   "outputs": [
    {
     "data": {
      "text/plain": [
       "0.75"
      ]
     },
     "execution_count": 62,
     "metadata": {},
     "output_type": "execute_result"
    }
   ],
   "source": [
    "accuracy_score(y_val,y_pred_lda)"
   ]
  },
  {
   "cell_type": "code",
   "execution_count": 63,
   "id": "078779e3-ae13-4a36-9cde-f2a2b11ac924",
   "metadata": {},
   "outputs": [
    {
     "data": {
      "text/plain": [
       "0.750004000064001"
      ]
     },
     "execution_count": 63,
     "metadata": {},
     "output_type": "execute_result"
    }
   ],
   "source": [
    "precision_score(y_val,y_pred_lda,average='macro')"
   ]
  },
  {
   "cell_type": "markdown",
   "id": "f050db1c-e2f9-47c9-a7f0-dc2ff5ae7cfe",
   "metadata": {},
   "source": [
    "##  -Prueba para varias semillas y cantidades de columnas"
   ]
  },
  {
   "cell_type": "code",
   "execution_count": 64,
   "id": "dc51c55d-1967-47ab-adb4-f6999fa93db9",
   "metadata": {},
   "outputs": [
    {
     "name": "stderr",
     "output_type": "stream",
     "text": [
      "100%|██████████| 1/1 [00:00<00:00, 1002.22it/s]\n",
      "100%|██████████| 2/2 [00:00<00:00, 57.35it/s]\n",
      "100%|██████████| 3/3 [00:00<00:00, 46.30it/s]\n",
      "100%|██████████| 4/4 [00:00<00:00, 42.23it/s]\n",
      "100%|██████████| 5/5 [00:00<00:00, 40.76it/s]\n",
      "100%|██████████| 6/6 [00:00<00:00, 36.46it/s]\n",
      "100%|██████████| 7/7 [00:00<00:00, 27.85it/s]\n",
      "100%|██████████| 8/8 [00:00<00:00, 35.50it/s]\n",
      "100%|██████████| 9/9 [00:00<00:00, 35.80it/s]\n",
      "100%|██████████| 10/10 [00:00<00:00, 35.31it/s]\n",
      "100%|██████████| 11/11 [00:00<00:00, 36.28it/s]\n",
      "100%|██████████| 12/12 [00:00<00:00, 37.49it/s]\n",
      "100%|██████████| 13/13 [00:00<00:00, 37.03it/s]\n",
      "100%|██████████| 14/14 [00:00<00:00, 34.66it/s]\n",
      "100%|██████████| 15/15 [00:00<00:00, 35.47it/s]\n",
      "100%|██████████| 16/16 [00:00<00:00, 35.97it/s]\n",
      "100%|██████████| 17/17 [00:00<00:00, 37.22it/s]\n",
      "100%|██████████| 18/18 [00:00<00:00, 38.00it/s]\n",
      "100%|██████████| 19/19 [00:00<00:00, 38.64it/s]\n",
      "100%|██████████| 20/20 [00:00<00:00, 37.48it/s]\n",
      "100%|██████████| 21/21 [00:00<00:00, 38.46it/s]\n",
      "100%|██████████| 22/22 [00:00<00:00, 38.43it/s]\n",
      "100%|██████████| 23/23 [00:00<00:00, 37.53it/s]\n",
      "100%|██████████| 24/24 [00:00<00:00, 37.48it/s]\n",
      "100%|██████████| 25/25 [00:00<00:00, 37.66it/s]\n",
      "100%|██████████| 26/26 [00:00<00:00, 38.72it/s]\n",
      "100%|██████████| 27/27 [00:00<00:00, 37.77it/s]\n",
      "100%|██████████| 28/28 [00:00<00:00, 39.49it/s]\n",
      "100%|██████████| 29/29 [00:00<00:00, 39.45it/s]\n",
      "100%|██████████| 30/30 [00:00<00:00, 38.98it/s]\n",
      "100%|██████████| 31/31 [00:00<00:00, 39.34it/s]\n",
      "100%|██████████| 32/32 [00:00<00:00, 39.29it/s]\n",
      "100%|██████████| 33/33 [00:00<00:00, 39.25it/s]\n",
      "100%|██████████| 34/34 [00:00<00:00, 39.66it/s]\n",
      "100%|██████████| 35/35 [00:00<00:00, 40.00it/s]\n",
      "100%|██████████| 36/36 [00:00<00:00, 39.67it/s]\n",
      "100%|██████████| 37/37 [00:00<00:00, 40.05it/s]\n",
      "100%|██████████| 38/38 [00:00<00:00, 41.30it/s]\n",
      "100%|██████████| 39/39 [00:00<00:00, 40.82it/s]\n",
      "100%|██████████| 40/40 [00:00<00:00, 41.08it/s]\n",
      "100%|██████████| 41/41 [00:01<00:00, 39.11it/s]\n",
      "100%|██████████| 42/42 [00:01<00:00, 41.12it/s]\n",
      "100%|██████████| 43/43 [00:01<00:00, 37.13it/s]\n",
      "100%|██████████| 44/44 [00:02<00:00, 17.68it/s]\n",
      "100%|██████████| 45/45 [00:02<00:00, 16.77it/s]\n",
      "100%|██████████| 46/46 [00:04<00:00,  9.23it/s]\n",
      "100%|██████████| 47/47 [00:03<00:00, 12.53it/s]\n",
      "100%|██████████| 48/48 [00:05<00:00,  8.70it/s]\n"
     ]
    }
   ],
   "source": [
    "lista_scores_mr=[]\n",
    "lista_scores_rf=[]\n",
    "for i in range(1,49): #Por un tema de costo computacional solo se trabajara con N_features entre 1 y 110\n",
    "    selected_features = mrmr_classif(X, y, K = i)\n",
    "    X_mr=X.drop(list(set(list(X.columns))-set(selected_features)),axis=1)\n",
    "    scores_mr = cross_validate(LinearDiscriminantAnalysis(), X_mr, y,scoring='precision_macro', cv=32)\n",
    "    lista_scores_mr.append((float(scores_mr['test_score'].mean()),float(scores_mr['test_score'].std())))\n",
    "    fs = ReliefF(n_neighbors=3, n_features_to_keep=i)\n",
    "    X_rf=fs.fit_transform(np.array(X), np.array(y))\n",
    "    scores_rf = cross_validate( LinearDiscriminantAnalysis(), X_rf, y,scoring='precision_macro', cv=32)\n",
    "    lista_scores_rf.append((float(scores_rf['test_score'].mean()),float(scores_rf['test_score'].std() ) ))"
   ]
  },
  {
   "cell_type": "code",
   "execution_count": 65,
   "id": "9713d650-cdd1-4dbf-873d-4cc8470c0ba2",
   "metadata": {},
   "outputs": [],
   "source": [
    "Rendimiento_mr=pd.DataFrame(lista_scores_mr)\n",
    "Rendimiento_rf=pd.DataFrame(lista_scores_rf)"
   ]
  },
  {
   "cell_type": "code",
   "execution_count": 66,
   "id": "d7fa60ac-3d69-4b05-9a42-dc172dcb0e7c",
   "metadata": {},
   "outputs": [],
   "source": [
    "Rendimiento_mr.columns=['Promedio','Desviacion']\n",
    "Rendimiento_rf.columns=['Promedio','Desviacion']"
   ]
  },
  {
   "cell_type": "code",
   "execution_count": 67,
   "id": "ee47cb61-e8b5-4ae9-8d90-e2cf60603153",
   "metadata": {},
   "outputs": [
    {
     "data": {
      "image/png": "[encoded data removed]",
      "text/plain": [
       "<Figure size 432x288 with 1 Axes>"
      ]
     },
     "metadata": {
      "needs_background": "light"
     },
     "output_type": "display_data"
    }
   ],
   "source": [
    "plt.plot( Rendimiento_mr.index  ,Rendimiento_mr['Promedio'],label=\"MRMR\")\n",
    "plt.plot( Rendimiento_rf.index ,Rendimiento_rf['Promedio'],label=\"ReliefF\")\n",
    "\n",
    "plt.title(\"MRMR vs ReliefF\",fontsize=15)\n",
    "plt.xlabel(\"N_features\",fontsize=13)\n",
    "plt.ylabel(\"Promedio precision_macro\",fontsize=13)\n",
    "plt.legend()\n",
    "plt.show()"
   ]
  },
  {
   "cell_type": "markdown",
   "id": "91843b7e-20f6-43df-a77d-473d6a1f8155",
   "metadata": {},
   "source": [
    "En este grafico claramente se ve que MRMR es mejor que ReliefF para todo N_features."
   ]
  },
  {
   "cell_type": "markdown",
   "id": "a6499a63-9869-4cfe-98bb-acf0bb8b7e53",
   "metadata": {},
   "source": [
    "# Conclusion "
   ]
  },
  {
   "cell_type": "markdown",
   "id": "ca9c09bf-9f56-47c1-86aa-d640b3b4dcc6",
   "metadata": {},
   "source": [
    "En base a la evidencia obtenida de los tres data set utilizados para validar nuestra hipotesis concluimos que ReliefF no es, claramente mejor que MRMR para los conjuntos de datos con \"gran cantidad\" de columnas al no mostrar en ninguno de los graficos evidencia de lo contrario."
   ]
  }
 ],
 "metadata": {
  "kernelspec": {
   "display_name": "Python 3",
   "language": "python",
   "name": "python3"
  },
  "language_info": {
   "codemirror_mode": {
    "name": "ipython",
    "version": 3
   },
   "file_extension": ".py",
   "mimetype": "text/x-python",
   "name": "python",
   "nbconvert_exporter": "python",
   "pygments_lexer": "ipython3",
   "version": "3.8.5"
  }
 },
 "nbformat": 4,
 "nbformat_minor": 5
}
