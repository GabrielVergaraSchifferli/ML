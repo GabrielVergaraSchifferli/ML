{
 "cells": [
  {
   "cell_type": "markdown",
   "id": "88037c80",
   "metadata": {},
   "source": [
    "# > Desafio\n",
    "Integrantes: \\\n",
    "                 -Hugo Rocha -- 201610531-K \\\n",
    "                 -Gabriel Vergara -- 201510519-7\n",
    "\n",
    "Equipo: RNG"
   ]
  },
  {
   "cell_type": "markdown",
   "id": "3f0d9f1b-caef-4104-bdfb-d97928f8ccba",
   "metadata": {},
   "source": [
    "[Video de la defensa](https://youtu.be/Lo9bp2NuXZQ)"
   ]
  },
  {
   "cell_type": "markdown",
   "id": "813f8a12-cb27-4cf5-9f61-87f578384bfd",
   "metadata": {},
   "source": [
    "El presente es un trabajo original, desarrollado por los autores en conformidad con todas reglas de codigo de honor y honestidad. Sumado a esto ultimo \n",
    "se deja en claro que la contribucion de ambos participantes en el presente trabajo fue la siguiente:\n",
    "\n",
    "Gabriel Vergara:\\\n",
    "-Exploratorio. \\\n",
    "-Testeo inicial modelos de regresion. \n",
    "                 \n",
    "Hugo Rocha:      \n",
    "-preprocesamiento. \\\n",
    "-Cross Validation para elecciond e modelos y parametros. \n",
    "\n",
    "Ambos trabajamos de manera colaborativa en la formulacion de las conclusiones obtenidas en el presente trabajo."
   ]
  },
  {
   "cell_type": "code",
   "execution_count": 1,
   "id": "eb7f7ad2",
   "metadata": {},
   "outputs": [],
   "source": [
    "import pandas as pd\n",
    "import numpy as np\n",
    "import matplotlib.pyplot as plt\n",
    "import seaborn as sns\n",
    "import plotly.graph_objs as go\n",
    "import pandas as pd\n",
    "import numpy as np\n",
    "import matplotlib.pyplot as plt\n",
    "import seaborn as sns\n",
    "import plotly.graph_objs as go\n",
    "import re\n",
    "\n",
    "from sklearn.preprocessing import LabelEncoder\n",
    "from sklearn.model_selection import train_test_split, cross_val_score\n",
    "from sklearn.metrics import roc_curve, auc, confusion_matrix\n",
    "from sklearn.metrics import accuracy_score\n",
    "from sklearn.metrics import precision_score\n",
    "from sklearn.metrics import confusion_matrix, ConfusionMatrixDisplay\n",
    "\n",
    "from sklearn.linear_model import LinearRegression\n",
    "from sklearn.linear_model import LogisticRegression\n",
    "from sklearn.discriminant_analysis import LinearDiscriminantAnalysis\n",
    "from sklearn.discriminant_analysis import QuadraticDiscriminantAnalysis\n",
    "\n",
    "\n",
    "import scipy.stats as stats\n",
    "from scipy.stats import kurtosis,skew\n",
    "import statsmodels.api as sm\n",
    "\n",
    "import warnings\n",
    "warnings.filterwarnings(\"ignore\")"
   ]
  },
  {
   "cell_type": "code",
   "execution_count": 2,
   "id": "252b5d6e",
   "metadata": {},
   "outputs": [],
   "source": [
    "def rankear_hoteles(hotel_details):\n",
    "    lista = []\n",
    "    for i in hotel_details:\n",
    "        hoteles = i.split('|')\n",
    "        aux = []\n",
    "        aux2 = []\n",
    "        for j in range(len(hoteles)):\n",
    "            if hoteles[0] != 'Not Available':\n",
    "                aux.append(hoteles[j].split(':')[1])\n",
    "                aux2.append(hoteles[j].split(':')[0])\n",
    "        lista.append([aux2,aux])\n",
    "    hoteles_todos = []\n",
    "    scores_todos = []\n",
    "    for i in lista:\n",
    "        hoteles_todos = [*hoteles_todos,*i[0]]\n",
    "        scores_todos = [*scores_todos,*i[1]]\n",
    "    d = {'hoteles': hoteles_todos, 'scores': scores_todos}\n",
    "    df = pd.DataFrame(data=d)\n",
    "    hoteles_unicos = df['hoteles'].unique()\n",
    "    score = []\n",
    "    for i in range(len(hoteles_unicos)):\n",
    "        hotel_idx = df['hoteles'] == hoteles_unicos[i]\n",
    "        n = np.mean(pd.to_numeric(df[hotel_idx]['scores']))\n",
    "        score.append(n)\n",
    "    hotel_rank = {'hotel': hoteles_unicos, 'scores': score}\n",
    "    Hotel_rank = pd.DataFrame(data=hotel_rank)  \n",
    "    media = np.mean(Hotel_rank['scores'])\n",
    "    Hotel_rank['scores'] = Hotel_rank['scores'].replace(np.nan, media)\n",
    "    return Hotel_rank\n",
    "def hotel_rank_mean(hotel_details,Hotel_rank):\n",
    "    hoteles = hotel_details.split('|')\n",
    "    hoteles\n",
    "    aux = []\n",
    "    for j in range(len(hoteles)):\n",
    "        if hoteles[0] != 'Not Available':\n",
    "            aux.append(hoteles[j].split(':')[0])       \n",
    "    valores = []\n",
    "    for i in range(len(aux)):\n",
    "        valores.append(Hotel_rank[ Hotel_rank['hotel'] == aux[i]]['scores'])\n",
    "    return np.mean(valores) \n",
    "def noches(itinerario):\n",
    "    u=itinerario.split('. ')\n",
    "    n = 0\n",
    "    for j in range(len(u)):\n",
    "        n = n + float(u[j].split('N')[0])\n",
    "    return n  \n",
    "def noches_ponderadas(itinerario,hotel_details,Hotel_rank):\n",
    "    u=itinerario.split('. ')\n",
    "    n = 0\n",
    "    hoteles = hotel_details.split('|')\n",
    "    aux = []\n",
    "    #print(u)\n",
    "    #print(hoteles)\n",
    "    for j in range(len(hoteles)):\n",
    "        if hoteles[0] != 'Not Available':\n",
    "            aux.append(hoteles[j].split(':')[0])       \n",
    "    valores = []\n",
    "    for i in range(len(aux)):\n",
    "        valores.append(Hotel_rank[ Hotel_rank['hotel'] == aux[i]]['scores'])\n",
    "     \n",
    "    if valores == []:\n",
    "        valores = np.mean(Hotel_rank['scores'])\n",
    "        for j in range(len(u)):\n",
    "            n = n + float(u[j].split('N')[0])*valores\n",
    "    else:\n",
    "        if len(u) == len(valores):\n",
    "            for j in range(len(u)):\n",
    "                #print(u[j].split('N')[0])\n",
    "                #print(valores[j])\n",
    "                #print(float(u[j].split('N')[0])*valores[j])\n",
    "                n = n + float(float(u[j].split('N')[0])*valores[j])\n",
    "        else:\n",
    "            #print(valores[0])\n",
    "            #print(u)\n",
    "            for j in range(len(u)):\n",
    "                #print(u[j].split('N')[0])\n",
    "                #print(valores[j])\n",
    "                #print(float(u[j].split('N')[0])*valores[j])\n",
    "                n = n + float(float(u[j].split('N')[0])*valores[0])\n",
    "                #j\n",
    "    return   n\n",
    "def dest_numb(destinos):\n",
    "    d=destinos.split(sep='|')\n",
    "    return len(d)\n",
    "def mes(Travel_Date):\n",
    "    d=Travel_Date.split(sep='-')\n",
    "    return d[1]\n",
    "def ano(Travel_Date):\n",
    "    d=Travel_Date.split(sep='-')\n",
    "    return d[2]\n",
    "def paquete_numero(paquetes):\n",
    "    aux = paquetes\n",
    "    aux = aux.apply(lambda x: x.replace(\"Budget\", \"0\"))\n",
    "    aux = aux.apply(lambda x: x.replace(\"Standard\", \"1\"))\n",
    "    aux = aux.apply(lambda x: x.replace(\"Deluxe\", \"1\"))\n",
    "    aux = aux.apply(lambda x: x.replace(\"Luxury\", \"2\"))\n",
    "    aux = aux.apply(lambda x: x.replace(\"Premium\", \"2\"))\n",
    "    return aux\n",
    "\n",
    "def destinos(destinos):\n",
    "    lista_destinos = []\n",
    "    for i in destinos:\n",
    "        destino = i.split('|')\n",
    "        for j in range(len(destino)):\n",
    "            if destino[0] != 'Not Available':\n",
    "                lista_destinos.append(destino[j])\n",
    "    d = {'destino': lista_destinos}\n",
    "    df = pd.DataFrame(data=d)\n",
    "    destinos_unicos = df['destino'].unique()\n",
    "    return destinos_unicos\n",
    "\n",
    "def obtener_destinos(destino, Destinos):\n",
    "    destino = destino.split('|')\n",
    "    #print(destino)\n",
    "    aux = np.zeros(len(Destinos)).astype(int)\n",
    "    for i in range(len(destino)):\n",
    "        \n",
    "        aux = aux + (Destinos == destino[i]).astype(int)\n",
    "    #d = {Destinos: aux}\n",
    "    #df = pd.DataFrame(data=d)    \n",
    "    return  aux   #pd.Series(aux,index=Destinos)    \n",
    "\n",
    "def todos_destinos(total_destinos):\n",
    "    lista = []\n",
    "    Destinos = destinos(total_destinos)\n",
    "    for i in total_destinos:\n",
    "        lista.append(obtener_destinos(i, Destinos))\n",
    "    ddf = pd.DataFrame(lista)\n",
    "    ddf.columns = Destinos\n",
    "    return ddf\n",
    "\n",
    "def regla_cancelacion(Cancellation_Rules):\n",
    "    indice = Cancellation_Rules.unique()\n",
    "    Cancellation_Rules.replace({indice[0]: \"Rule 1\", \"b\": \"y\",\n",
    "                                         indice[1]: \"Rule 2\",\n",
    "                                         indice[2]: \"Rule 3\",\n",
    "                                         indice[3]: \"Rule 4\",\n",
    "                                         indice[4]: \"Rule 5\",\n",
    "                                         indice[5]: \"Rule 6\",\n",
    "                                         indice[6]: \"Rule 7\",\n",
    "                                         indice[7]: \"Rule 8\",}, inplace=True)\n",
    "    return Cancellation_Rules \n",
    "\n",
    "def areglo_hoteles(Hotel_Details):\n",
    "    Hotel_Details = Hotel_Details.apply(lambda x: x.replace(\"Four\", \"4\"))\n",
    "    Hotel_Details = Hotel_Details.apply(lambda x: x.replace(\"Two\", \"2\"))\n",
    "    Hotel_Details = Hotel_Details.apply(lambda x: x.replace(\"Three\", \"3\"))\n",
    "    Hotel_Details = Hotel_Details.apply(lambda x: x.replace(\"Five\", \"5\"))\n",
    "    Hotel_Details = Hotel_Details.apply(lambda x: x.replace(\"The Lodhi:A member of The Leading Hotels Of The World\", \"The Lodhi\"))\n",
    "    return Hotel_Details"
   ]
  },
  {
   "cell_type": "code",
   "execution_count": 3,
   "id": "2ff3a50c",
   "metadata": {},
   "outputs": [],
   "source": [
    "def procesar_data(data_train):\n",
    "    data_train['Cancellation Rules'] = regla_cancelacion(data_train['Cancellation Rules'])\n",
    "    data_train['Hotel Details'] = areglo_hoteles(data_train['Hotel Details'])\n",
    "    \n",
    "    Hotel_rank = rankear_hoteles(data_train['Hotel Details'])\n",
    "    data_train['total_noches'] = data_train['Itinerary'].apply(lambda row: noches(row))\n",
    "    data_train['hotel_qual_prom'] = data_train['Hotel Details'].apply(lambda row: hotel_rank_mean(row,Hotel_rank))\n",
    "    data_train['noches_pond_hotel'] = data_train.apply(lambda x: noches_ponderadas(x['Itinerary'], x['Hotel Details'],Hotel_rank), axis=1)\n",
    "    data_train['dest_numb'] = data_train['Destination'].apply(lambda row: dest_numb(row))\n",
    "    \n",
    "    data_train['mes'] = data_train['Travel Date'].apply(lambda row: mes(row))\n",
    "    data_train['ano'] = data_train['Travel Date'].apply(lambda row: ano(row))\n",
    "    \n",
    "    data_train['paquete'] = data_train['Package Type']\n",
    "    data_train['paquete'] = data_train['paquete'].apply(lambda x: x.replace(\"Luxury\", \"Premium\"))\n",
    "    data_train['paquete'] = data_train['paquete'].apply(lambda x: x.replace(\"Deluxe\", \"Standard\"))\n",
    "    \n",
    "    data_train['Quarter'] = pd.to_datetime(data_train['Travel Date'].values, format='%d-%m-%Y').astype('period[Q]')\n",
    "    data_train['Quarter']= data_train['Quarter'].astype(str).apply(lambda x: x.replace(\"2021\", \"\"))\n",
    "    data_train['Quarter'] = data_train['Quarter'].astype(str).apply(lambda x: x.replace(\"2022\", \"\"))\n",
    "    # creando dummies\n",
    "    Package_Type=pd.get_dummies(data_train['paquete'])\n",
    "    Cancellation_Rules=pd.get_dummies(data_train['Cancellation Rules'])\n",
    "    Ciudades = pd.get_dummies(data_train['Start City'])\n",
    "    Años = pd.get_dummies(data_train['ano'])\n",
    "    Quarter = pd.get_dummies(data_train['Quarter'])\n",
    "\n",
    "    media = np.mean(Hotel_rank['scores'])\n",
    "    data_train['hotel_qual_prom'] = data_train['hotel_qual_prom'].fillna(media)\n",
    "    \n",
    "    Destinos = todos_destinos(data_train['Destination'])\n",
    "    paquete_numeros = paquete_numero(data_train['Package Type'])\n",
    "    Sightseeing = todos_destinos(data_train['Sightseeing Places Covered']) # altamente dimensional\n",
    "    \n",
    "    #data_train=data_train.drop(['Unnamed: 0','Itinerary','Destination',\n",
    "    #                            'Package Name','Places Covered',\n",
    "    #                            'Travel Date','Hotel Details','Start City',\n",
    "    #                            'Airline','Sightseeing Places Covered',\n",
    "    #                            'Package Type','Cancellation Rules',\n",
    "    #                            'mes','ano','Quarter','paquete',\n",
    "    #                              ],axis=1)\n",
    "    \n",
    "    \n",
    "    data_train = pd.concat([data_train, Package_Type,Cancellation_Rules,\n",
    "                            Años,Quarter,paquete_numeros, \n",
    "                            Destinos,Sightseeing], axis=1, join=\"inner\")  #,Sightseeing\n",
    "    return data_train,Destinos,Sightseeing"
   ]
  },
  {
   "cell_type": "code",
   "execution_count": 4,
   "id": "55aff26f",
   "metadata": {},
   "outputs": [],
   "source": [
    "def mape(actual, pred): \n",
    "    actual, pred = np.array(actual), np.array(pred)\n",
    "    return np.mean(np.abs((actual - pred) / actual)) * 100\n",
    "\n",
    "def box_cox(y,lam):\n",
    "    if lam == 0:\n",
    "        return np.log(y)\n",
    "    else:\n",
    "        return (y**lam-1)/lam\n",
    "    \n",
    "def inv_box_cox(y,l):\n",
    "    if l == 0:\n",
    "        return np.exp(y)\n",
    "    else:\n",
    "        return (y*l+1)**(1/l)  "
   ]
  },
  {
   "cell_type": "code",
   "execution_count": 5,
   "id": "c431ccfc",
   "metadata": {},
   "outputs": [],
   "source": [
    "data_train = pd.read_csv(\"travel_packages_train.csv\")\n",
    "data_test = pd.read_csv(\"travel_packages_test.csv\")"
   ]
  },
  {
   "cell_type": "markdown",
   "id": "e875e746",
   "metadata": {},
   "source": [
    "# Procesar Data\n"
   ]
  },
  {
   "cell_type": "code",
   "execution_count": 6,
   "id": "2f16f6c5",
   "metadata": {},
   "outputs": [],
   "source": [
    "datos_train,destinos_train,Sightseeing_train = procesar_data(data_train)\n",
    "datos_test,destinos_test,Sightseeing_test = procesar_data(data_test)"
   ]
  },
  {
   "cell_type": "code",
   "execution_count": 7,
   "id": "e14305e6",
   "metadata": {},
   "outputs": [],
   "source": [
    "# para dar formato al test\n",
    "train_aux = destinos_train*0\n",
    "train_aux[destinos_test.columns] = destinos_test\n",
    "train_aux= train_aux[0:datos_test.shape[0]]\n",
    "datos_test = datos_test.drop(list(destinos_test.columns), axis = 1)\n",
    "datos_test = pd.concat([datos_test,train_aux], axis=1, join=\"inner\")"
   ]
  },
  {
   "cell_type": "code",
   "execution_count": 8,
   "id": "fdce6b85-ea70-46c1-ae55-6fd177cf2b7a",
   "metadata": {},
   "outputs": [],
   "source": [
    "# para dar formato al test\n",
    "train_aux = Sightseeing_train*0\n",
    "train_aux[Sightseeing_test.columns] = Sightseeing_test\n",
    "train_aux= train_aux[0:datos_test.shape[0]]\n",
    "datos_test = datos_test.drop(list(Sightseeing_test.columns), axis = 1)\n",
    "datos_test = pd.concat([datos_test,train_aux], axis=1, join=\"inner\")"
   ]
  },
  {
   "cell_type": "markdown",
   "id": "d7df0c73",
   "metadata": {},
   "source": [
    "# Exploratorio"
   ]
  },
  {
   "cell_type": "code",
   "execution_count": 9,
   "id": "690a0332-6e94-4d0d-baf0-dd28366f43a9",
   "metadata": {},
   "outputs": [
    {
     "data": {
      "text/plain": [
       "<seaborn.axisgrid.FacetGrid at 0x1f9fc734490>"
      ]
     },
     "execution_count": 9,
     "metadata": {},
     "output_type": "execute_result"
    },
    {
     "data": {
      "image/png": "[encoded data removed]",
      "text/plain": [
       "<Figure size 360x360 with 1 Axes>"
      ]
     },
     "metadata": {
      "needs_background": "light"
     },
     "output_type": "display_data"
    }
   ],
   "source": [
    "sns.displot(data_train, x=\"PPPrice\")"
   ]
  },
  {
   "cell_type": "code",
   "execution_count": 10,
   "id": "6ecc9e80-4f2a-426f-84fd-7e5adc86e59a",
   "metadata": {},
   "outputs": [
    {
     "name": "stdout",
     "output_type": "stream",
     "text": [
      "excess kurtosis of normal distribution (should be 0): 14.229623978989736\n",
      "skewness of normal distribution (should be 0): 2.481661602217295\n"
     ]
    }
   ],
   "source": [
    "print( 'excess kurtosis of normal distribution (should be 0): {}'.format( kurtosis(data_train['PPPrice']) ))\n",
    "print( 'skewness of normal distribution (should be 0): {}'.format( skew(data_train['PPPrice']) ))"
   ]
  },
  {
   "cell_type": "code",
   "execution_count": 11,
   "id": "9c11a4fa-d9fb-456b-bfda-51b73a3c88e5",
   "metadata": {},
   "outputs": [
    {
     "data": {
      "text/plain": [
       "<seaborn.axisgrid.FacetGrid at 0x1f9fd37ae80>"
      ]
     },
     "execution_count": 11,
     "metadata": {},
     "output_type": "execute_result"
    },
    {
     "data": {
      "image/png": "[encoded data removed]",
      "text/plain": [
       "<Figure size 360x360 with 1 Axes>"
      ]
     },
     "metadata": {
      "needs_background": "light"
     },
     "output_type": "display_data"
    }
   ],
   "source": [
    "sns.displot(box_cox(data_train['PPPrice'],-0.1))"
   ]
  },
  {
   "cell_type": "code",
   "execution_count": 12,
   "id": "a23d7ec9-e32a-4325-aaa5-d824cbbc9540",
   "metadata": {},
   "outputs": [
    {
     "name": "stdout",
     "output_type": "stream",
     "text": [
      "excess kurtosis of normal distribution (should be 0): 0.45748615396234316\n",
      "skewness of normal distribution (should be 0): 0.3377752260163218\n"
     ]
    }
   ],
   "source": [
    "print( 'excess kurtosis of normal distribution (should be 0): {}'.format( kurtosis(box_cox(data_train['PPPrice'],-0.1)) ))\n",
    "print( 'skewness of normal distribution (should be 0): {}'.format( skew(box_cox(data_train['PPPrice'],-0.1)) ))"
   ]
  },
  {
   "cell_type": "code",
   "execution_count": 13,
   "id": "3f2d6013",
   "metadata": {},
   "outputs": [
    {
     "data": {
      "text/plain": [
       "<AxesSubplot:title={'center':'PPPrice'}, xlabel='dest_numb'>"
      ]
     },
     "execution_count": 13,
     "metadata": {},
     "output_type": "execute_result"
    },
    {
     "data": {
      "image/png": "[encoded data removed]",
      "text/plain": [
       "<Figure size 432x288 with 1 Axes>"
      ]
     },
     "metadata": {
      "needs_background": "light"
     },
     "output_type": "display_data"
    }
   ],
   "source": [
    "data_train.boxplot(column=['PPPrice'],by=\"dest_numb\")"
   ]
  },
  {
   "cell_type": "code",
   "execution_count": 14,
   "id": "4b1c8913",
   "metadata": {},
   "outputs": [
    {
     "data": {
      "text/plain": [
       "<AxesSubplot:title={'center':'PPPrice'}, xlabel='total_noches'>"
      ]
     },
     "execution_count": 14,
     "metadata": {},
     "output_type": "execute_result"
    },
    {
     "data": {
      "image/png": "[encoded data removed]",
      "text/plain": [
       "<Figure size 432x288 with 1 Axes>"
      ]
     },
     "metadata": {
      "needs_background": "light"
     },
     "output_type": "display_data"
    }
   ],
   "source": [
    "data_train.boxplot(column=['PPPrice'],by=\"total_noches\")"
   ]
  },
  {
   "cell_type": "code",
   "execution_count": 15,
   "id": "49884737",
   "metadata": {},
   "outputs": [
    {
     "data": {
      "text/plain": [
       "<AxesSubplot:title={'center':'PPPrice'}, xlabel='Package Type'>"
      ]
     },
     "execution_count": 15,
     "metadata": {},
     "output_type": "execute_result"
    },
    {
     "data": {
      "image/png": "[encoded data removed]",
      "text/plain": [
       "<Figure size 432x288 with 1 Axes>"
      ]
     },
     "metadata": {
      "needs_background": "light"
     },
     "output_type": "display_data"
    }
   ],
   "source": [
    "data_train.boxplot(column=['PPPrice'],by=\"Package Type\")"
   ]
  },
  {
   "cell_type": "code",
   "execution_count": 16,
   "id": "ed762e98",
   "metadata": {},
   "outputs": [
    {
     "data": {
      "text/plain": [
       "<matplotlib.collections.PathCollection at 0x1f9898041c0>"
      ]
     },
     "execution_count": 16,
     "metadata": {},
     "output_type": "execute_result"
    },
    {
     "data": {
      "image/png": "[encoded data removed]",
      "text/plain": [
       "<Figure size 432x288 with 1 Axes>"
      ]
     },
     "metadata": {
      "needs_background": "light"
     },
     "output_type": "display_data"
    }
   ],
   "source": [
    "plt.scatter(data_train['hotel_qual_prom'],data_train['PPPrice'])"
   ]
  },
  {
   "cell_type": "code",
   "execution_count": 17,
   "id": "8d518414",
   "metadata": {},
   "outputs": [
    {
     "data": {
      "text/plain": [
       "<matplotlib.collections.PathCollection at 0x1f9827c4880>"
      ]
     },
     "execution_count": 17,
     "metadata": {},
     "output_type": "execute_result"
    },
    {
     "data": {
      "image/png": "[encoded data removed]",
      "text/plain": [
       "<Figure size 432x288 with 1 Axes>"
      ]
     },
     "metadata": {
      "needs_background": "light"
     },
     "output_type": "display_data"
    }
   ],
   "source": [
    "plt.scatter(data_train['noches_pond_hotel'],data_train['PPPrice'])"
   ]
  },
  {
   "cell_type": "code",
   "execution_count": 97,
   "id": "a4e53344",
   "metadata": {},
   "outputs": [
    {
     "data": {
      "text/plain": [
       "<AxesSubplot:title={'center':'PPPrice'}, xlabel='Package Type'>"
      ]
     },
     "execution_count": 97,
     "metadata": {},
     "output_type": "execute_result"
    },
    {
     "data": {
      "image/png": "[encoded data removed]",
      "text/plain": [
       "<Figure size 432x288 with 1 Axes>"
      ]
     },
     "metadata": {
      "needs_background": "light"
     },
     "output_type": "display_data"
    }
   ],
   "source": [
    "data_train.boxplot(column=['PPPrice'],by=\"Package Type\")"
   ]
  },
  {
   "cell_type": "code",
   "execution_count": 98,
   "id": "1661a4d2",
   "metadata": {},
   "outputs": [
    {
     "data": {
      "text/plain": [
       "<AxesSubplot:title={'center':'PPPrice'}, xlabel='paquete'>"
      ]
     },
     "execution_count": 98,
     "metadata": {},
     "output_type": "execute_result"
    },
    {
     "data": {
      "image/png": "[encoded data removed]",
      "text/plain": [
       "<Figure size 432x288 with 1 Axes>"
      ]
     },
     "metadata": {
      "needs_background": "light"
     },
     "output_type": "display_data"
    }
   ],
   "source": [
    "data_train.boxplot(column=['PPPrice'],by=\"paquete\")"
   ]
  },
  {
   "cell_type": "code",
   "execution_count": 99,
   "id": "c0aa95d4",
   "metadata": {},
   "outputs": [
    {
     "data": {
      "text/plain": [
       "<AxesSubplot:title={'center':'PPPrice'}, xlabel='ano'>"
      ]
     },
     "execution_count": 99,
     "metadata": {},
     "output_type": "execute_result"
    },
    {
     "data": {
      "image/png": "[encoded data removed]",
      "text/plain": [
       "<Figure size 432x288 with 1 Axes>"
      ]
     },
     "metadata": {
      "needs_background": "light"
     },
     "output_type": "display_data"
    }
   ],
   "source": [
    "data_train.boxplot(column=['PPPrice'],by=\"ano\")"
   ]
  },
  {
   "cell_type": "code",
   "execution_count": 100,
   "id": "c6e37816",
   "metadata": {},
   "outputs": [
    {
     "data": {
      "text/plain": [
       "<AxesSubplot:title={'center':'PPPrice'}, xlabel='mes'>"
      ]
     },
     "execution_count": 100,
     "metadata": {},
     "output_type": "execute_result"
    },
    {
     "data": {
      "image/png": "[encoded data removed]",
      "text/plain": [
       "<Figure size 432x288 with 1 Axes>"
      ]
     },
     "metadata": {
      "needs_background": "light"
     },
     "output_type": "display_data"
    }
   ],
   "source": [
    "data_train.boxplot(column=['PPPrice'],by=\"mes\")"
   ]
  },
  {
   "cell_type": "code",
   "execution_count": 101,
   "id": "20d1de3b",
   "metadata": {},
   "outputs": [
    {
     "data": {
      "text/plain": [
       "<AxesSubplot:title={'center':'PPPrice'}, xlabel='Quarter'>"
      ]
     },
     "execution_count": 101,
     "metadata": {},
     "output_type": "execute_result"
    },
    {
     "data": {
      "image/png": "[encoded data removed]",
      "text/plain": [
       "<Figure size 432x288 with 1 Axes>"
      ]
     },
     "metadata": {
      "needs_background": "light"
     },
     "output_type": "display_data"
    }
   ],
   "source": [
    "data_train.boxplot(column=['PPPrice'],by=\"Quarter\")"
   ]
  },
  {
   "cell_type": "markdown",
   "id": "297d3656",
   "metadata": {},
   "source": [
    "# Entrenamiento"
   ]
  },
  {
   "cell_type": "code",
   "execution_count": 102,
   "id": "b2a0c2e7",
   "metadata": {},
   "outputs": [
    {
     "data": {
      "text/html": [
       "<div>\n",
       "<style scoped>\n",
       "    .dataframe tbody tr th:only-of-type {\n",
       "        vertical-align: middle;\n",
       "    }\n",
       "\n",
       "    .dataframe tbody tr th {\n",
       "        vertical-align: top;\n",
       "    }\n",
       "\n",
       "    .dataframe thead th {\n",
       "        text-align: right;\n",
       "    }\n",
       "</style>\n",
       "<table border=\"1\" class=\"dataframe\">\n",
       "  <thead>\n",
       "    <tr style=\"text-align: right;\">\n",
       "      <th></th>\n",
       "      <th>Flight Stops</th>\n",
       "      <th>Meals</th>\n",
       "      <th>Sightseeing Places Covered</th>\n",
       "      <th>PPPrice</th>\n",
       "      <th>total_noches</th>\n",
       "      <th>hotel_qual_prom</th>\n",
       "      <th>noches_pond_hotel</th>\n",
       "      <th>dest_numb</th>\n",
       "      <th>mes</th>\n",
       "      <th>ano</th>\n",
       "      <th>...</th>\n",
       "      <th>Wine Tasting Tour with Dinner/Lunch (With Transfers)</th>\n",
       "      <th>Saputara Lake</th>\n",
       "      <th>Dandi Beach</th>\n",
       "      <th>Parnera hill temple</th>\n",
       "      <th>Devka Beach</th>\n",
       "      <th>Gwalior fort</th>\n",
       "      <th>Vishnu temple</th>\n",
       "      <th>Ram Raja Temple</th>\n",
       "      <th>Chaturbhuj Temple</th>\n",
       "      <th>Private Transfer - Changi Airport to Any Hotel, Harbour Front or Bus Station in Singapore</th>\n",
       "    </tr>\n",
       "  </thead>\n",
       "  <tbody>\n",
       "    <tr>\n",
       "      <th>0</th>\n",
       "      <td>1</td>\n",
       "      <td>3</td>\n",
       "      <td>Singhik View Point | Chungthang | Yumthang Va...</td>\n",
       "      <td>284.0</td>\n",
       "      <td>4.0</td>\n",
       "      <td>4.044395</td>\n",
       "      <td>15.928740</td>\n",
       "      <td>3</td>\n",
       "      <td>01</td>\n",
       "      <td>2022</td>\n",
       "      <td>...</td>\n",
       "      <td>0</td>\n",
       "      <td>0</td>\n",
       "      <td>0</td>\n",
       "      <td>0</td>\n",
       "      <td>0</td>\n",
       "      <td>0</td>\n",
       "      <td>0</td>\n",
       "      <td>0</td>\n",
       "      <td>0</td>\n",
       "      <td>0</td>\n",
       "    </tr>\n",
       "    <tr>\n",
       "      <th>1</th>\n",
       "      <td>2</td>\n",
       "      <td>2</td>\n",
       "      <td>Har Ki Pauri</td>\n",
       "      <td>129.0</td>\n",
       "      <td>2.0</td>\n",
       "      <td>4.052135</td>\n",
       "      <td>8.104271</td>\n",
       "      <td>1</td>\n",
       "      <td>11</td>\n",
       "      <td>2021</td>\n",
       "      <td>...</td>\n",
       "      <td>0</td>\n",
       "      <td>0</td>\n",
       "      <td>0</td>\n",
       "      <td>0</td>\n",
       "      <td>0</td>\n",
       "      <td>0</td>\n",
       "      <td>0</td>\n",
       "      <td>0</td>\n",
       "      <td>0</td>\n",
       "      <td>0</td>\n",
       "    </tr>\n",
       "    <tr>\n",
       "      <th>2</th>\n",
       "      <td>0</td>\n",
       "      <td>5</td>\n",
       "      <td>Hanwant Mahal | Candlelight Dinner in Jodhpur...</td>\n",
       "      <td>311.0</td>\n",
       "      <td>4.0</td>\n",
       "      <td>4.464060</td>\n",
       "      <td>17.856241</td>\n",
       "      <td>2</td>\n",
       "      <td>08</td>\n",
       "      <td>2021</td>\n",
       "      <td>...</td>\n",
       "      <td>0</td>\n",
       "      <td>0</td>\n",
       "      <td>0</td>\n",
       "      <td>0</td>\n",
       "      <td>0</td>\n",
       "      <td>0</td>\n",
       "      <td>0</td>\n",
       "      <td>0</td>\n",
       "      <td>0</td>\n",
       "      <td>0</td>\n",
       "    </tr>\n",
       "    <tr>\n",
       "      <th>3</th>\n",
       "      <td>0</td>\n",
       "      <td>5</td>\n",
       "      <td>Simtokha Dzong | Memorial Chorten | Buddha Do...</td>\n",
       "      <td>517.0</td>\n",
       "      <td>5.0</td>\n",
       "      <td>4.500000</td>\n",
       "      <td>22.500000</td>\n",
       "      <td>2</td>\n",
       "      <td>02</td>\n",
       "      <td>2021</td>\n",
       "      <td>...</td>\n",
       "      <td>0</td>\n",
       "      <td>0</td>\n",
       "      <td>0</td>\n",
       "      <td>0</td>\n",
       "      <td>0</td>\n",
       "      <td>0</td>\n",
       "      <td>0</td>\n",
       "      <td>0</td>\n",
       "      <td>0</td>\n",
       "      <td>0</td>\n",
       "    </tr>\n",
       "    <tr>\n",
       "      <th>4</th>\n",
       "      <td>1</td>\n",
       "      <td>3</td>\n",
       "      <td>Changu Lake - Excursion | Baba Mandir | Tashi...</td>\n",
       "      <td>336.0</td>\n",
       "      <td>5.0</td>\n",
       "      <td>4.239318</td>\n",
       "      <td>21.257646</td>\n",
       "      <td>3</td>\n",
       "      <td>06</td>\n",
       "      <td>2021</td>\n",
       "      <td>...</td>\n",
       "      <td>0</td>\n",
       "      <td>0</td>\n",
       "      <td>0</td>\n",
       "      <td>0</td>\n",
       "      <td>0</td>\n",
       "      <td>0</td>\n",
       "      <td>0</td>\n",
       "      <td>0</td>\n",
       "      <td>0</td>\n",
       "      <td>0</td>\n",
       "    </tr>\n",
       "    <tr>\n",
       "      <th>...</th>\n",
       "      <td>...</td>\n",
       "      <td>...</td>\n",
       "      <td>...</td>\n",
       "      <td>...</td>\n",
       "      <td>...</td>\n",
       "      <td>...</td>\n",
       "      <td>...</td>\n",
       "      <td>...</td>\n",
       "      <td>...</td>\n",
       "      <td>...</td>\n",
       "      <td>...</td>\n",
       "      <td>...</td>\n",
       "      <td>...</td>\n",
       "      <td>...</td>\n",
       "      <td>...</td>\n",
       "      <td>...</td>\n",
       "      <td>...</td>\n",
       "      <td>...</td>\n",
       "      <td>...</td>\n",
       "      <td>...</td>\n",
       "      <td>...</td>\n",
       "    </tr>\n",
       "    <tr>\n",
       "      <th>15745</th>\n",
       "      <td>1</td>\n",
       "      <td>3</td>\n",
       "      <td>Fort Cochin | Dutch Palace | Jewish Synagogue...</td>\n",
       "      <td>245.0</td>\n",
       "      <td>7.0</td>\n",
       "      <td>3.932804</td>\n",
       "      <td>27.452412</td>\n",
       "      <td>5</td>\n",
       "      <td>08</td>\n",
       "      <td>2021</td>\n",
       "      <td>...</td>\n",
       "      <td>0</td>\n",
       "      <td>0</td>\n",
       "      <td>0</td>\n",
       "      <td>0</td>\n",
       "      <td>0</td>\n",
       "      <td>0</td>\n",
       "      <td>0</td>\n",
       "      <td>0</td>\n",
       "      <td>0</td>\n",
       "      <td>0</td>\n",
       "    </tr>\n",
       "    <tr>\n",
       "      <th>15746</th>\n",
       "      <td>2</td>\n",
       "      <td>3</td>\n",
       "      <td>Not Available</td>\n",
       "      <td>352.0</td>\n",
       "      <td>5.0</td>\n",
       "      <td>3.557318</td>\n",
       "      <td>17.291771</td>\n",
       "      <td>2</td>\n",
       "      <td>05</td>\n",
       "      <td>2021</td>\n",
       "      <td>...</td>\n",
       "      <td>0</td>\n",
       "      <td>0</td>\n",
       "      <td>0</td>\n",
       "      <td>0</td>\n",
       "      <td>0</td>\n",
       "      <td>0</td>\n",
       "      <td>0</td>\n",
       "      <td>0</td>\n",
       "      <td>0</td>\n",
       "      <td>0</td>\n",
       "    </tr>\n",
       "    <tr>\n",
       "      <th>15747</th>\n",
       "      <td>0</td>\n",
       "      <td>4</td>\n",
       "      <td>MMT - Candid Photographer in Goa</td>\n",
       "      <td>223.0</td>\n",
       "      <td>2.0</td>\n",
       "      <td>4.139583</td>\n",
       "      <td>8.279167</td>\n",
       "      <td>1</td>\n",
       "      <td>04</td>\n",
       "      <td>2021</td>\n",
       "      <td>...</td>\n",
       "      <td>0</td>\n",
       "      <td>0</td>\n",
       "      <td>0</td>\n",
       "      <td>0</td>\n",
       "      <td>0</td>\n",
       "      <td>0</td>\n",
       "      <td>0</td>\n",
       "      <td>0</td>\n",
       "      <td>0</td>\n",
       "      <td>0</td>\n",
       "    </tr>\n",
       "    <tr>\n",
       "      <th>15748</th>\n",
       "      <td>2</td>\n",
       "      <td>3</td>\n",
       "      <td>Half Day Temples City Tour and Shopping at Je...</td>\n",
       "      <td>385.0</td>\n",
       "      <td>7.0</td>\n",
       "      <td>3.661406</td>\n",
       "      <td>26.195707</td>\n",
       "      <td>3</td>\n",
       "      <td>07</td>\n",
       "      <td>2021</td>\n",
       "      <td>...</td>\n",
       "      <td>0</td>\n",
       "      <td>0</td>\n",
       "      <td>0</td>\n",
       "      <td>0</td>\n",
       "      <td>0</td>\n",
       "      <td>0</td>\n",
       "      <td>0</td>\n",
       "      <td>0</td>\n",
       "      <td>0</td>\n",
       "      <td>0</td>\n",
       "    </tr>\n",
       "    <tr>\n",
       "      <th>15749</th>\n",
       "      <td>1</td>\n",
       "      <td>3</td>\n",
       "      <td>Kufri | Himalayan Zoo | Naldhera | Viceregal ...</td>\n",
       "      <td>257.0</td>\n",
       "      <td>7.0</td>\n",
       "      <td>4.146226</td>\n",
       "      <td>29.446410</td>\n",
       "      <td>3</td>\n",
       "      <td>12</td>\n",
       "      <td>2021</td>\n",
       "      <td>...</td>\n",
       "      <td>0</td>\n",
       "      <td>0</td>\n",
       "      <td>0</td>\n",
       "      <td>0</td>\n",
       "      <td>0</td>\n",
       "      <td>0</td>\n",
       "      <td>0</td>\n",
       "      <td>0</td>\n",
       "      <td>0</td>\n",
       "      <td>0</td>\n",
       "    </tr>\n",
       "  </tbody>\n",
       "</table>\n",
       "<p>15750 rows × 1348 columns</p>\n",
       "</div>"
      ],
      "text/plain": [
       "       Flight Stops  Meals                         Sightseeing Places Covered  \\\n",
       "0                 1      3   Singhik View Point | Chungthang | Yumthang Va...   \n",
       "1                 2      2                                      Har Ki Pauri    \n",
       "2                 0      5   Hanwant Mahal | Candlelight Dinner in Jodhpur...   \n",
       "3                 0      5   Simtokha Dzong | Memorial Chorten | Buddha Do...   \n",
       "4                 1      3   Changu Lake - Excursion | Baba Mandir | Tashi...   \n",
       "...             ...    ...                                                ...   \n",
       "15745             1      3   Fort Cochin | Dutch Palace | Jewish Synagogue...   \n",
       "15746             2      3                                      Not Available   \n",
       "15747             0      4                  MMT - Candid Photographer in Goa    \n",
       "15748             2      3   Half Day Temples City Tour and Shopping at Je...   \n",
       "15749             1      3   Kufri | Himalayan Zoo | Naldhera | Viceregal ...   \n",
       "\n",
       "       PPPrice  total_noches  hotel_qual_prom  noches_pond_hotel  dest_numb  \\\n",
       "0        284.0           4.0         4.044395          15.928740          3   \n",
       "1        129.0           2.0         4.052135           8.104271          1   \n",
       "2        311.0           4.0         4.464060          17.856241          2   \n",
       "3        517.0           5.0         4.500000          22.500000          2   \n",
       "4        336.0           5.0         4.239318          21.257646          3   \n",
       "...        ...           ...              ...                ...        ...   \n",
       "15745    245.0           7.0         3.932804          27.452412          5   \n",
       "15746    352.0           5.0         3.557318          17.291771          2   \n",
       "15747    223.0           2.0         4.139583           8.279167          1   \n",
       "15748    385.0           7.0         3.661406          26.195707          3   \n",
       "15749    257.0           7.0         4.146226          29.446410          3   \n",
       "\n",
       "      mes   ano  ...   Wine Tasting Tour with Dinner/Lunch (With Transfers)   \\\n",
       "0      01  2022  ...                                                  0        \n",
       "1      11  2021  ...                                                  0        \n",
       "2      08  2021  ...                                                  0        \n",
       "3      02  2021  ...                                                  0        \n",
       "4      06  2021  ...                                                  0        \n",
       "...    ..   ...  ...                                                ...        \n",
       "15745  08  2021  ...                                                  0        \n",
       "15746  05  2021  ...                                                  0        \n",
       "15747  04  2021  ...                                                  0        \n",
       "15748  07  2021  ...                                                  0        \n",
       "15749  12  2021  ...                                                  0        \n",
       "\n",
       "        Saputara Lake    Dandi Beach    Parnera hill temple    Devka Beach   \\\n",
       "0                    0              0                      0              0   \n",
       "1                    0              0                      0              0   \n",
       "2                    0              0                      0              0   \n",
       "3                    0              0                      0              0   \n",
       "4                    0              0                      0              0   \n",
       "...                ...            ...                    ...            ...   \n",
       "15745                0              0                      0              0   \n",
       "15746                0              0                      0              0   \n",
       "15747                0              0                      0              0   \n",
       "15748                0              0                      0              0   \n",
       "15749                0              0                      0              0   \n",
       "\n",
       "        Gwalior fort    Vishnu temple    Ram Raja Temple   \\\n",
       "0                   0                0                  0   \n",
       "1                   0                0                  0   \n",
       "2                   0                0                  0   \n",
       "3                   0                0                  0   \n",
       "4                   0                0                  0   \n",
       "...               ...              ...                ...   \n",
       "15745               0                0                  0   \n",
       "15746               0                0                  0   \n",
       "15747               0                0                  0   \n",
       "15748               0                0                  0   \n",
       "15749               0                0                  0   \n",
       "\n",
       "        Chaturbhuj Temple   \\\n",
       "0                        0   \n",
       "1                        0   \n",
       "2                        0   \n",
       "3                        0   \n",
       "4                        0   \n",
       "...                    ...   \n",
       "15745                    0   \n",
       "15746                    0   \n",
       "15747                    0   \n",
       "15748                    0   \n",
       "15749                    0   \n",
       "\n",
       "        Private Transfer - Changi Airport to Any Hotel, Harbour Front or Bus Station in Singapore   \n",
       "0                                                      0                                            \n",
       "1                                                      0                                            \n",
       "2                                                      0                                            \n",
       "3                                                      0                                            \n",
       "4                                                      0                                            \n",
       "...                                                  ...                                            \n",
       "15745                                                  0                                            \n",
       "15746                                                  0                                            \n",
       "15747                                                  0                                            \n",
       "15748                                                  0                                            \n",
       "15749                                                  0                                            \n",
       "\n",
       "[15750 rows x 1348 columns]"
      ]
     },
     "execution_count": 102,
     "metadata": {},
     "output_type": "execute_result"
    }
   ],
   "source": [
    "datos_train=datos_train.drop(['Unnamed: 0','Itinerary','Destination',\n",
    "                            'Package Name','Places Covered',\n",
    "                            'Travel Date','Hotel Details','Start City',\n",
    "                            'Airline',\n",
    "                            'Package Type','Cancellation Rules','Quarter','paquete',\n",
    "                              ],axis=1)\n",
    "datos_train"
   ]
  },
  {
   "cell_type": "code",
   "execution_count": 103,
   "id": "1dd13347",
   "metadata": {},
   "outputs": [
    {
     "data": {
      "text/html": [
       "<div>\n",
       "<style scoped>\n",
       "    .dataframe tbody tr th:only-of-type {\n",
       "        vertical-align: middle;\n",
       "    }\n",
       "\n",
       "    .dataframe tbody tr th {\n",
       "        vertical-align: top;\n",
       "    }\n",
       "\n",
       "    .dataframe thead th {\n",
       "        text-align: right;\n",
       "    }\n",
       "</style>\n",
       "<table border=\"1\" class=\"dataframe\">\n",
       "  <thead>\n",
       "    <tr style=\"text-align: right;\">\n",
       "      <th></th>\n",
       "      <th>Flight Stops</th>\n",
       "      <th>PPPrice</th>\n",
       "      <th>total_noches</th>\n",
       "      <th>noches_pond_hotel</th>\n",
       "      <th>dest_numb</th>\n",
       "      <th>Premium</th>\n",
       "      <th>Standard</th>\n",
       "      <th>Rule 1</th>\n",
       "      <th>2022</th>\n",
       "      <th>Q4</th>\n",
       "      <th>...</th>\n",
       "      <th>Wine Tasting Tour with Dinner/Lunch (With Transfers)</th>\n",
       "      <th>Saputara Lake</th>\n",
       "      <th>Dandi Beach</th>\n",
       "      <th>Parnera hill temple</th>\n",
       "      <th>Devka Beach</th>\n",
       "      <th>Gwalior fort</th>\n",
       "      <th>Vishnu temple</th>\n",
       "      <th>Ram Raja Temple</th>\n",
       "      <th>Chaturbhuj Temple</th>\n",
       "      <th>Private Transfer - Changi Airport to Any Hotel, Harbour Front or Bus Station in Singapore</th>\n",
       "    </tr>\n",
       "  </thead>\n",
       "  <tbody>\n",
       "    <tr>\n",
       "      <th>0</th>\n",
       "      <td>1</td>\n",
       "      <td>284.0</td>\n",
       "      <td>4.0</td>\n",
       "      <td>15.928740</td>\n",
       "      <td>3</td>\n",
       "      <td>0</td>\n",
       "      <td>1</td>\n",
       "      <td>1</td>\n",
       "      <td>1</td>\n",
       "      <td>0</td>\n",
       "      <td>...</td>\n",
       "      <td>0</td>\n",
       "      <td>0</td>\n",
       "      <td>0</td>\n",
       "      <td>0</td>\n",
       "      <td>0</td>\n",
       "      <td>0</td>\n",
       "      <td>0</td>\n",
       "      <td>0</td>\n",
       "      <td>0</td>\n",
       "      <td>0</td>\n",
       "    </tr>\n",
       "    <tr>\n",
       "      <th>1</th>\n",
       "      <td>2</td>\n",
       "      <td>129.0</td>\n",
       "      <td>2.0</td>\n",
       "      <td>8.104271</td>\n",
       "      <td>1</td>\n",
       "      <td>0</td>\n",
       "      <td>0</td>\n",
       "      <td>1</td>\n",
       "      <td>0</td>\n",
       "      <td>1</td>\n",
       "      <td>...</td>\n",
       "      <td>0</td>\n",
       "      <td>0</td>\n",
       "      <td>0</td>\n",
       "      <td>0</td>\n",
       "      <td>0</td>\n",
       "      <td>0</td>\n",
       "      <td>0</td>\n",
       "      <td>0</td>\n",
       "      <td>0</td>\n",
       "      <td>0</td>\n",
       "    </tr>\n",
       "    <tr>\n",
       "      <th>2</th>\n",
       "      <td>0</td>\n",
       "      <td>311.0</td>\n",
       "      <td>4.0</td>\n",
       "      <td>17.856241</td>\n",
       "      <td>2</td>\n",
       "      <td>1</td>\n",
       "      <td>0</td>\n",
       "      <td>1</td>\n",
       "      <td>0</td>\n",
       "      <td>0</td>\n",
       "      <td>...</td>\n",
       "      <td>0</td>\n",
       "      <td>0</td>\n",
       "      <td>0</td>\n",
       "      <td>0</td>\n",
       "      <td>0</td>\n",
       "      <td>0</td>\n",
       "      <td>0</td>\n",
       "      <td>0</td>\n",
       "      <td>0</td>\n",
       "      <td>0</td>\n",
       "    </tr>\n",
       "    <tr>\n",
       "      <th>3</th>\n",
       "      <td>0</td>\n",
       "      <td>517.0</td>\n",
       "      <td>5.0</td>\n",
       "      <td>22.500000</td>\n",
       "      <td>2</td>\n",
       "      <td>1</td>\n",
       "      <td>0</td>\n",
       "      <td>1</td>\n",
       "      <td>0</td>\n",
       "      <td>0</td>\n",
       "      <td>...</td>\n",
       "      <td>0</td>\n",
       "      <td>0</td>\n",
       "      <td>0</td>\n",
       "      <td>0</td>\n",
       "      <td>0</td>\n",
       "      <td>0</td>\n",
       "      <td>0</td>\n",
       "      <td>0</td>\n",
       "      <td>0</td>\n",
       "      <td>0</td>\n",
       "    </tr>\n",
       "    <tr>\n",
       "      <th>4</th>\n",
       "      <td>1</td>\n",
       "      <td>336.0</td>\n",
       "      <td>5.0</td>\n",
       "      <td>21.257646</td>\n",
       "      <td>3</td>\n",
       "      <td>0</td>\n",
       "      <td>1</td>\n",
       "      <td>1</td>\n",
       "      <td>0</td>\n",
       "      <td>0</td>\n",
       "      <td>...</td>\n",
       "      <td>0</td>\n",
       "      <td>0</td>\n",
       "      <td>0</td>\n",
       "      <td>0</td>\n",
       "      <td>0</td>\n",
       "      <td>0</td>\n",
       "      <td>0</td>\n",
       "      <td>0</td>\n",
       "      <td>0</td>\n",
       "      <td>0</td>\n",
       "    </tr>\n",
       "    <tr>\n",
       "      <th>...</th>\n",
       "      <td>...</td>\n",
       "      <td>...</td>\n",
       "      <td>...</td>\n",
       "      <td>...</td>\n",
       "      <td>...</td>\n",
       "      <td>...</td>\n",
       "      <td>...</td>\n",
       "      <td>...</td>\n",
       "      <td>...</td>\n",
       "      <td>...</td>\n",
       "      <td>...</td>\n",
       "      <td>...</td>\n",
       "      <td>...</td>\n",
       "      <td>...</td>\n",
       "      <td>...</td>\n",
       "      <td>...</td>\n",
       "      <td>...</td>\n",
       "      <td>...</td>\n",
       "      <td>...</td>\n",
       "      <td>...</td>\n",
       "      <td>...</td>\n",
       "    </tr>\n",
       "    <tr>\n",
       "      <th>15745</th>\n",
       "      <td>1</td>\n",
       "      <td>245.0</td>\n",
       "      <td>7.0</td>\n",
       "      <td>27.452412</td>\n",
       "      <td>5</td>\n",
       "      <td>0</td>\n",
       "      <td>1</td>\n",
       "      <td>1</td>\n",
       "      <td>0</td>\n",
       "      <td>0</td>\n",
       "      <td>...</td>\n",
       "      <td>0</td>\n",
       "      <td>0</td>\n",
       "      <td>0</td>\n",
       "      <td>0</td>\n",
       "      <td>0</td>\n",
       "      <td>0</td>\n",
       "      <td>0</td>\n",
       "      <td>0</td>\n",
       "      <td>0</td>\n",
       "      <td>0</td>\n",
       "    </tr>\n",
       "    <tr>\n",
       "      <th>15746</th>\n",
       "      <td>2</td>\n",
       "      <td>352.0</td>\n",
       "      <td>5.0</td>\n",
       "      <td>17.291771</td>\n",
       "      <td>2</td>\n",
       "      <td>0</td>\n",
       "      <td>1</td>\n",
       "      <td>1</td>\n",
       "      <td>0</td>\n",
       "      <td>0</td>\n",
       "      <td>...</td>\n",
       "      <td>0</td>\n",
       "      <td>0</td>\n",
       "      <td>0</td>\n",
       "      <td>0</td>\n",
       "      <td>0</td>\n",
       "      <td>0</td>\n",
       "      <td>0</td>\n",
       "      <td>0</td>\n",
       "      <td>0</td>\n",
       "      <td>0</td>\n",
       "    </tr>\n",
       "    <tr>\n",
       "      <th>15747</th>\n",
       "      <td>0</td>\n",
       "      <td>223.0</td>\n",
       "      <td>2.0</td>\n",
       "      <td>8.279167</td>\n",
       "      <td>1</td>\n",
       "      <td>1</td>\n",
       "      <td>0</td>\n",
       "      <td>0</td>\n",
       "      <td>0</td>\n",
       "      <td>0</td>\n",
       "      <td>...</td>\n",
       "      <td>0</td>\n",
       "      <td>0</td>\n",
       "      <td>0</td>\n",
       "      <td>0</td>\n",
       "      <td>0</td>\n",
       "      <td>0</td>\n",
       "      <td>0</td>\n",
       "      <td>0</td>\n",
       "      <td>0</td>\n",
       "      <td>0</td>\n",
       "    </tr>\n",
       "    <tr>\n",
       "      <th>15748</th>\n",
       "      <td>2</td>\n",
       "      <td>385.0</td>\n",
       "      <td>7.0</td>\n",
       "      <td>26.195707</td>\n",
       "      <td>3</td>\n",
       "      <td>0</td>\n",
       "      <td>1</td>\n",
       "      <td>1</td>\n",
       "      <td>0</td>\n",
       "      <td>0</td>\n",
       "      <td>...</td>\n",
       "      <td>0</td>\n",
       "      <td>0</td>\n",
       "      <td>0</td>\n",
       "      <td>0</td>\n",
       "      <td>0</td>\n",
       "      <td>0</td>\n",
       "      <td>0</td>\n",
       "      <td>0</td>\n",
       "      <td>0</td>\n",
       "      <td>0</td>\n",
       "    </tr>\n",
       "    <tr>\n",
       "      <th>15749</th>\n",
       "      <td>1</td>\n",
       "      <td>257.0</td>\n",
       "      <td>7.0</td>\n",
       "      <td>29.446410</td>\n",
       "      <td>3</td>\n",
       "      <td>0</td>\n",
       "      <td>1</td>\n",
       "      <td>1</td>\n",
       "      <td>0</td>\n",
       "      <td>1</td>\n",
       "      <td>...</td>\n",
       "      <td>0</td>\n",
       "      <td>0</td>\n",
       "      <td>0</td>\n",
       "      <td>0</td>\n",
       "      <td>0</td>\n",
       "      <td>0</td>\n",
       "      <td>0</td>\n",
       "      <td>0</td>\n",
       "      <td>0</td>\n",
       "      <td>0</td>\n",
       "    </tr>\n",
       "  </tbody>\n",
       "</table>\n",
       "<p>15750 rows × 1331 columns</p>\n",
       "</div>"
      ],
      "text/plain": [
       "       Flight Stops  PPPrice  total_noches  noches_pond_hotel  dest_numb  \\\n",
       "0                 1    284.0           4.0          15.928740          3   \n",
       "1                 2    129.0           2.0           8.104271          1   \n",
       "2                 0    311.0           4.0          17.856241          2   \n",
       "3                 0    517.0           5.0          22.500000          2   \n",
       "4                 1    336.0           5.0          21.257646          3   \n",
       "...             ...      ...           ...                ...        ...   \n",
       "15745             1    245.0           7.0          27.452412          5   \n",
       "15746             2    352.0           5.0          17.291771          2   \n",
       "15747             0    223.0           2.0           8.279167          1   \n",
       "15748             2    385.0           7.0          26.195707          3   \n",
       "15749             1    257.0           7.0          29.446410          3   \n",
       "\n",
       "       Premium  Standard  Rule 1  2022  Q4  ...  \\\n",
       "0            0         1       1     1   0  ...   \n",
       "1            0         0       1     0   1  ...   \n",
       "2            1         0       1     0   0  ...   \n",
       "3            1         0       1     0   0  ...   \n",
       "4            0         1       1     0   0  ...   \n",
       "...        ...       ...     ...   ...  ..  ...   \n",
       "15745        0         1       1     0   0  ...   \n",
       "15746        0         1       1     0   0  ...   \n",
       "15747        1         0       0     0   0  ...   \n",
       "15748        0         1       1     0   0  ...   \n",
       "15749        0         1       1     0   1  ...   \n",
       "\n",
       "        Wine Tasting Tour with Dinner/Lunch (With Transfers)   \\\n",
       "0                                                      0        \n",
       "1                                                      0        \n",
       "2                                                      0        \n",
       "3                                                      0        \n",
       "4                                                      0        \n",
       "...                                                  ...        \n",
       "15745                                                  0        \n",
       "15746                                                  0        \n",
       "15747                                                  0        \n",
       "15748                                                  0        \n",
       "15749                                                  0        \n",
       "\n",
       "        Saputara Lake    Dandi Beach    Parnera hill temple    Devka Beach   \\\n",
       "0                    0              0                      0              0   \n",
       "1                    0              0                      0              0   \n",
       "2                    0              0                      0              0   \n",
       "3                    0              0                      0              0   \n",
       "4                    0              0                      0              0   \n",
       "...                ...            ...                    ...            ...   \n",
       "15745                0              0                      0              0   \n",
       "15746                0              0                      0              0   \n",
       "15747                0              0                      0              0   \n",
       "15748                0              0                      0              0   \n",
       "15749                0              0                      0              0   \n",
       "\n",
       "        Gwalior fort    Vishnu temple    Ram Raja Temple   \\\n",
       "0                   0                0                  0   \n",
       "1                   0                0                  0   \n",
       "2                   0                0                  0   \n",
       "3                   0                0                  0   \n",
       "4                   0                0                  0   \n",
       "...               ...              ...                ...   \n",
       "15745               0                0                  0   \n",
       "15746               0                0                  0   \n",
       "15747               0                0                  0   \n",
       "15748               0                0                  0   \n",
       "15749               0                0                  0   \n",
       "\n",
       "        Chaturbhuj Temple   \\\n",
       "0                        0   \n",
       "1                        0   \n",
       "2                        0   \n",
       "3                        0   \n",
       "4                        0   \n",
       "...                    ...   \n",
       "15745                    0   \n",
       "15746                    0   \n",
       "15747                    0   \n",
       "15748                    0   \n",
       "15749                    0   \n",
       "\n",
       "        Private Transfer - Changi Airport to Any Hotel, Harbour Front or Bus Station in Singapore   \n",
       "0                                                      0                                            \n",
       "1                                                      0                                            \n",
       "2                                                      0                                            \n",
       "3                                                      0                                            \n",
       "4                                                      0                                            \n",
       "...                                                  ...                                            \n",
       "15745                                                  0                                            \n",
       "15746                                                  0                                            \n",
       "15747                                                  0                                            \n",
       "15748                                                  0                                            \n",
       "15749                                                  0                                            \n",
       "\n",
       "[15750 rows x 1331 columns]"
      ]
     },
     "execution_count": 103,
     "metadata": {},
     "output_type": "execute_result"
    }
   ],
   "source": [
    "datos=datos_train.drop(['Meals','Sightseeing Places Covered','ano','mes','hotel_qual_prom','Rule 2','Rule 3',\n",
    "                           'Rule 4','Rule 5','Rule 6','Rule 7',\n",
    "                           'Rule 8','2021','Q1','Q2','Q3',#' Gwalior fort ',\n",
    "                           'Budget'],axis=1)\n",
    "datos"
   ]
  },
  {
   "cell_type": "code",
   "execution_count": 104,
   "id": "ec2c07b7-37ab-4123-9544-61c8e8751446",
   "metadata": {},
   "outputs": [],
   "source": [
    "datos['dest_num_square']=datos['dest_numb']**2"
   ]
  },
  {
   "cell_type": "code",
   "execution_count": 105,
   "id": "1331288d-d7b4-4fd1-9ca4-c631b52d30a3",
   "metadata": {},
   "outputs": [],
   "source": [
    "datos['total_noches_sqr']=(datos['total_noches'])**(1/2)"
   ]
  },
  {
   "cell_type": "code",
   "execution_count": 106,
   "id": "6d7a0fd3-14cf-4bac-b4c9-c347d91c7a6d",
   "metadata": {},
   "outputs": [],
   "source": [
    "datos['noches_pond_hotel_log']=np.log(datos['noches_pond_hotel'])"
   ]
  },
  {
   "cell_type": "code",
   "execution_count": 107,
   "id": "d7e91e99",
   "metadata": {},
   "outputs": [],
   "source": [
    "y = datos['PPPrice']\n",
    "X = datos.drop(['PPPrice',' Gwalior fort '], axis=1)\n",
    "X_train, X_val, y_train, y_val = train_test_split(X,y,test_size=0.2, random_state=44)"
   ]
  },
  {
   "cell_type": "markdown",
   "id": "9b1dc159",
   "metadata": {},
   "source": [
    "## Prueba de modelos"
   ]
  },
  {
   "cell_type": "markdown",
   "id": "73cabc75",
   "metadata": {},
   "source": [
    "### OLS"
   ]
  },
  {
   "cell_type": "code",
   "execution_count": 108,
   "id": "784b6239-a39b-43f1-b738-64061e7a1fba",
   "metadata": {},
   "outputs": [
    {
     "data": {
      "text/plain": [
       "13.975516205284718"
      ]
     },
     "execution_count": 108,
     "metadata": {},
     "output_type": "execute_result"
    }
   ],
   "source": [
    "XX =  datos.drop(['PPPrice','Q4'], axis=1)#,Sightseeing_train.columns \n",
    "listas = list(set(list(Sightseeing_train.columns)) )\n",
    "XX = XX.drop(listas, axis = 1)\n",
    "XX_train, XX_val, yy_train, yy_val = train_test_split(XX,y,test_size=0.2, random_state=44)\n",
    "reg = LinearRegression().fit(XX_train, yy_train)\n",
    "yy_pred = reg.predict(XX_val)\n",
    "mape(yy_val,yy_pred)"
   ]
  },
  {
   "cell_type": "code",
   "execution_count": 109,
   "id": "7e7ac113",
   "metadata": {},
   "outputs": [
    {
     "name": "stdout",
     "output_type": "stream",
     "text": [
      "excess kurtosis of normal distribution (should be 0): 18.16139464517143\n",
      "skewness of normal distribution (should be 0): 2.270804720936949\n"
     ]
    },
    {
     "data": {
      "image/png": "[encoded data removed]",
      "text/plain": [
       "<Figure size 360x360 with 1 Axes>"
      ]
     },
     "metadata": {
      "needs_background": "light"
     },
     "output_type": "display_data"
    }
   ],
   "source": [
    "residuos = yy_train - reg.predict(XX_train)\n",
    "sns.displot(residuos)\n",
    "print( 'excess kurtosis of normal distribution (should be 0): {}'.format( kurtosis(residuos) ))\n",
    "print( 'skewness of normal distribution (should be 0): {}'.format( skew(residuos) ))"
   ]
  },
  {
   "cell_type": "code",
   "execution_count": null,
   "id": "177f9c48-92e1-474f-9d67-3a876a6f0e00",
   "metadata": {},
   "outputs": [],
   "source": [
    "shapiro_test = stats.shapiro(residuos)\n",
    "shapiro_test"
   ]
  },
  {
   "cell_type": "markdown",
   "id": "8b76a4fb",
   "metadata": {},
   "source": [
    "#### box.cox-ols\n",
    "\n"
   ]
  },
  {
   "cell_type": "code",
   "execution_count": 111,
   "id": "3ee47f4d",
   "metadata": {},
   "outputs": [
    {
     "data": {
      "text/plain": [
       "11.934494370571922"
      ]
     },
     "execution_count": 111,
     "metadata": {},
     "output_type": "execute_result"
    }
   ],
   "source": [
    "l = -0.1\n",
    "reg_cox = LinearRegression().fit(X_train, box_cox(y_train,l))\n",
    "y_pred = reg_cox.predict(X_val)\n",
    "mape(y_val,inv_box_cox(y_pred,l))"
   ]
  },
  {
   "cell_type": "code",
   "execution_count": 112,
   "id": "32606a37-fbea-4db4-9ffd-e2fe032c382e",
   "metadata": {},
   "outputs": [
    {
     "name": "stdout",
     "output_type": "stream",
     "text": [
      "excess kurtosis of normal distribution (should be 0): 3.5849931836391837\n",
      "skewness of normal distribution (should be 0): 0.8078665973055486\n"
     ]
    },
    {
     "data": {
      "image/png": "[encoded data removed]",
      "text/plain": [
       "<Figure size 360x360 with 1 Axes>"
      ]
     },
     "metadata": {
      "needs_background": "light"
     },
     "output_type": "display_data"
    }
   ],
   "source": [
    "residuos = box_cox(y_train,l) - reg_cox.predict(X_train)\n",
    "sns.displot(residuos)\n",
    "print( 'excess kurtosis of normal distribution (should be 0): {}'.format( kurtosis(residuos) ))\n",
    "print( 'skewness of normal distribution (should be 0): {}'.format( skew(residuos) ))"
   ]
  },
  {
   "cell_type": "markdown",
   "id": "de637199",
   "metadata": {},
   "source": [
    "### LASSO"
   ]
  },
  {
   "cell_type": "code",
   "execution_count": 68,
   "id": "0f54ea01",
   "metadata": {},
   "outputs": [
    {
     "data": {
      "text/plain": [
       "16.54483817265279"
      ]
     },
     "execution_count": 68,
     "metadata": {},
     "output_type": "execute_result"
    }
   ],
   "source": [
    "from sklearn.linear_model import Lasso\n",
    "model = Lasso(alpha= 1)\n",
    "model.fit(X_train, y_train)\n",
    "y_pred = model.predict(X_val)\n",
    "mape(y_val,y_pred)"
   ]
  },
  {
   "cell_type": "code",
   "execution_count": 113,
   "id": "5bd76e54-291c-4cd8-8505-4a0ff633aa64",
   "metadata": {},
   "outputs": [
    {
     "name": "stdout",
     "output_type": "stream",
     "text": [
      "excess kurtosis of normal distribution (should be 0): 15.84776494539123\n",
      "skewness of normal distribution (should be 0): 2.1634124297475\n"
     ]
    },
    {
     "data": {
      "image/png": "[encoded data removed]",
      "text/plain": [
       "<Figure size 360x360 with 1 Axes>"
      ]
     },
     "metadata": {
      "needs_background": "light"
     },
     "output_type": "display_data"
    }
   ],
   "source": [
    "residuos = y_train - model.predict(X_train)\n",
    "sns.displot(residuos)\n",
    "print( 'excess kurtosis of normal distribution (should be 0): {}'.format( kurtosis(residuos) ))\n",
    "print( 'skewness of normal distribution (should be 0): {}'.format( skew(residuos) ))"
   ]
  },
  {
   "cell_type": "markdown",
   "id": "899df711",
   "metadata": {},
   "source": [
    "#### box-cox-lasso"
   ]
  },
  {
   "cell_type": "code",
   "execution_count": 114,
   "id": "f32dab8c",
   "metadata": {},
   "outputs": [
    {
     "data": {
      "text/plain": [
       "11.772313186451017"
      ]
     },
     "execution_count": 114,
     "metadata": {},
     "output_type": "execute_result"
    }
   ],
   "source": [
    "l = -0.1\n",
    "model_cox = Lasso(alpha=0.01)\n",
    "model.fit(X_train, box_cox(y_train,l))\n",
    "y_pred = model.predict(X_val)\n",
    "mape(y_val,inv_box_cox(y_pred,l))"
   ]
  },
  {
   "cell_type": "code",
   "execution_count": 115,
   "id": "758ee1cd-8000-4672-a936-0cb0a92e0077",
   "metadata": {},
   "outputs": [
    {
     "name": "stdout",
     "output_type": "stream",
     "text": [
      "excess kurtosis of normal distribution (should be 0): 3.5495519625844345\n",
      "skewness of normal distribution (should be 0): 0.8025557469981238\n"
     ]
    },
    {
     "data": {
      "image/png": "[encoded data removed]",
      "text/plain": [
       "<Figure size 360x360 with 1 Axes>"
      ]
     },
     "metadata": {
      "needs_background": "light"
     },
     "output_type": "display_data"
    }
   ],
   "source": [
    "residuos = box_cox(y_train,l) - model.predict(X_train)\n",
    "sns.displot(residuos)\n",
    "print( 'excess kurtosis of normal distribution (should be 0): {}'.format( kurtosis(residuos) ))\n",
    "print( 'skewness of normal distribution (should be 0): {}'.format( skew(residuos) ))"
   ]
  },
  {
   "cell_type": "markdown",
   "id": "f93ae1d3",
   "metadata": {},
   "source": [
    "### Ridge"
   ]
  },
  {
   "cell_type": "code",
   "execution_count": 116,
   "id": "e2335529",
   "metadata": {},
   "outputs": [
    {
     "data": {
      "text/plain": [
       "12.759134971095335"
      ]
     },
     "execution_count": 116,
     "metadata": {},
     "output_type": "execute_result"
    }
   ],
   "source": [
    "from sklearn.linear_model import Ridge\n",
    "model1 = Ridge(alpha=1)\n",
    "model.fit(X_train, y_train)\n",
    "y_pred = model.predict(X_val)\n",
    "mape(y_val,y_pred)"
   ]
  },
  {
   "cell_type": "code",
   "execution_count": 117,
   "id": "00830a70-47bb-4740-a30a-2493c25f806a",
   "metadata": {},
   "outputs": [
    {
     "name": "stdout",
     "output_type": "stream",
     "text": [
      "excess kurtosis of normal distribution (should be 0): 16.505259054917165\n",
      "skewness of normal distribution (should be 0): 2.2837489121229733\n"
     ]
    },
    {
     "data": {
      "image/png": "[encoded data removed]",
      "text/plain": [
       "<Figure size 360x360 with 1 Axes>"
      ]
     },
     "metadata": {
      "needs_background": "light"
     },
     "output_type": "display_data"
    }
   ],
   "source": [
    "residuos = y_train - model.predict(X_train)\n",
    "sns.displot(residuos)\n",
    "print( 'excess kurtosis of normal distribution (should be 0): {}'.format( kurtosis(residuos) ))\n",
    "print( 'skewness of normal distribution (should be 0): {}'.format( skew(residuos) ))"
   ]
  },
  {
   "cell_type": "markdown",
   "id": "03877aa1",
   "metadata": {},
   "source": [
    "#### box-cox - ridge"
   ]
  },
  {
   "cell_type": "code",
   "execution_count": 118,
   "id": "47a06f40",
   "metadata": {},
   "outputs": [
    {
     "data": {
      "text/plain": [
       "12.194139468345897"
      ]
     },
     "execution_count": 118,
     "metadata": {},
     "output_type": "execute_result"
    }
   ],
   "source": [
    "l = -0.1\n",
    "model = Ridge(alpha=10)\n",
    "model.fit(X_train, box_cox(y_train,l))\n",
    "y_pred = model.predict(X_val)\n",
    "mape(y_val,inv_box_cox(y_pred,l))\n"
   ]
  },
  {
   "cell_type": "code",
   "execution_count": 119,
   "id": "ac8eb817-577e-4722-9c6f-102e5fa259ec",
   "metadata": {},
   "outputs": [
    {
     "name": "stdout",
     "output_type": "stream",
     "text": [
      "excess kurtosis of normal distribution (should be 0): 3.2326782769178184\n",
      "skewness of normal distribution (should be 0): 0.7646348850414239\n"
     ]
    },
    {
     "data": {
      "image/png": "[encoded data removed]",
      "text/plain": [
       "<Figure size 360x360 with 1 Axes>"
      ]
     },
     "metadata": {
      "needs_background": "light"
     },
     "output_type": "display_data"
    }
   ],
   "source": [
    "residuos = box_cox(y_train,l) - model.predict(X_train)\n",
    "sns.displot(residuos)\n",
    "print( 'excess kurtosis of normal distribution (should be 0): {}'.format( kurtosis(residuos) ))\n",
    "print( 'skewness of normal distribution (should be 0): {}'.format( skew(residuos) ))"
   ]
  },
  {
   "cell_type": "markdown",
   "id": "85f236ac",
   "metadata": {},
   "source": [
    "# Validación Cruzada"
   ]
  },
  {
   "cell_type": "code",
   "execution_count": 120,
   "id": "127349cf",
   "metadata": {},
   "outputs": [],
   "source": [
    "import sklearn\n",
    "from sklearn.model_selection import cross_validate"
   ]
  },
  {
   "cell_type": "code",
   "execution_count": 121,
   "id": "5d676426",
   "metadata": {},
   "outputs": [],
   "source": [
    "scores_RL = cross_validate(LinearRegression(), X, y,scoring='neg_mean_absolute_percentage_error', cv=32)\n",
    "scores_Las = cross_validate(Lasso(alpha=1.0), X, y,scoring='neg_mean_absolute_percentage_error', cv=32)\n",
    "scores_Ri = cross_validate(Ridge(alpha=1.0), X, y,scoring='neg_mean_absolute_percentage_error', cv=32)"
   ]
  },
  {
   "cell_type": "code",
   "execution_count": 122,
   "id": "8fcff3aa",
   "metadata": {},
   "outputs": [],
   "source": [
    "scores_reg_lin = scores_RL['test_score']*(-100)\n",
    "scores_reg_lin = scores_reg_lin[scores_reg_lin < 40 ] \n",
    "scores_reg_lass = scores_Las['test_score']*(-100)\n",
    "scores_reg_lass = scores_reg_lass[scores_reg_lass < 40 ] \n",
    "scores_reg_ridge = scores_Ri['test_score']*(-100)\n",
    "scores_reg_ridge = scores_reg_ridge[scores_reg_ridge < 40 ] "
   ]
  },
  {
   "cell_type": "code",
   "execution_count": 123,
   "id": "5215b8c1-1917-4002-9cf8-44a20cae4885",
   "metadata": {},
   "outputs": [
    {
     "name": "stdout",
     "output_type": "stream",
     "text": [
      "Los resultados para cada modelo como rendiento promedio en MAPE son; Regresion Lineal:  12.973495223067312  Lasso:  16.661769076278915  Ridge:  13.038440458560201\n"
     ]
    }
   ],
   "source": [
    "print('Los resultados para cada modelo como rendiento promedio en MAPE son; Regresion Lineal: ', scores_reg_lin.mean(), ' Lasso: ',scores_reg_lass.mean(), ' Ridge: ',scores_reg_ridge.mean())"
   ]
  },
  {
   "cell_type": "markdown",
   "id": "3cb3add8-1579-4f61-b3af-0faeb439280f",
   "metadata": {},
   "source": [
    "## Validacion de parametros "
   ]
  },
  {
   "cell_type": "markdown",
   "id": "22155c9b-f3ff-4b60-8562-d9f99c30f01e",
   "metadata": {},
   "source": [
    "Haciendo uso del modelo OLS que dio el mejor rendimiento en la validacion cruzada procedemos a hallar el mejor parametro para box cox"
   ]
  },
  {
   "cell_type": "code",
   "execution_count": 124,
   "id": "c3cb33e9-de3e-4b40-b43f-3ca7542972a0",
   "metadata": {},
   "outputs": [],
   "source": [
    "from sklearn.model_selection import KFold"
   ]
  },
  {
   "cell_type": "code",
   "execution_count": 125,
   "id": "0b238e8f-badc-48f3-a324-80e46a7e94f0",
   "metadata": {},
   "outputs": [],
   "source": [
    "X_=np.array(X)\n",
    "y_=np.array(y)"
   ]
  },
  {
   "cell_type": "code",
   "execution_count": 126,
   "id": "b72193b3-0776-49de-abf7-d3698848771e",
   "metadata": {
    "tags": []
   },
   "outputs": [],
   "source": [
    "rendimiento=[]\n",
    "params=np.linspace(0.1, 1.0, num=10)\n",
    "for l in params:\n",
    "    rend=[]\n",
    "    kf = KFold(n_splits=10)\n",
    "    kf.get_n_splits(X_)\n",
    "    for train_index, val_index in kf.split(X_):\n",
    "        X_train, X_val = X_[train_index], X_[val_index]\n",
    "        y_train, y_val = y_[train_index], y_[val_index]\n",
    "        model = Lasso(alpha= l)\n",
    "        model.fit(X_train, y_train)\n",
    "        y_pred = model.predict(X_val)\n",
    "        rend.append(mape(y_val,y_pred))\n",
    "    rendimiento.append((l,np.mean(rend)))"
   ]
  },
  {
   "cell_type": "code",
   "execution_count": 127,
   "id": "05e689d3-08a4-4bf0-bec2-f5c9308afdf7",
   "metadata": {
    "tags": []
   },
   "outputs": [
    {
     "data": {
      "text/plain": [
       "[(0.1, 14.36875986480285),\n",
       " (0.2, 14.898852188331835),\n",
       " (0.30000000000000004, 15.28958240893914),\n",
       " (0.4, 15.5976040241894),\n",
       " (0.5, 15.84703342331809),\n",
       " (0.6, 16.078468115111285),\n",
       " (0.7000000000000001, 16.28094134291772),\n",
       " (0.8, 16.42657128744178),\n",
       " (0.9, 16.543390547047096),\n",
       " (1.0, 16.661204071380304)]"
      ]
     },
     "execution_count": 127,
     "metadata": {},
     "output_type": "execute_result"
    }
   ],
   "source": [
    "rendimiento"
   ]
  },
  {
   "cell_type": "code",
   "execution_count": 128,
   "id": "84cb3f75-6fd3-4b27-b7a2-b6175fe2845b",
   "metadata": {},
   "outputs": [],
   "source": [
    "rendimiento=[]\n",
    "params=np.linspace(0.1, 10.0, num=10)\n",
    "for l in params:\n",
    "    rend=[]\n",
    "    kf = KFold(n_splits=10)\n",
    "    kf.get_n_splits(X_)\n",
    "    for train_index, val_index in kf.split(X_):\n",
    "        X_train, X_val = X_[train_index], X_[val_index]\n",
    "        y_train, y_val = y_[train_index], y_[val_index]\n",
    "        model = Ridge(alpha= l)\n",
    "        model.fit(X_train, y_train)\n",
    "        y_pred = model.predict(X_val)\n",
    "        rend.append(mape(y_val,y_pred))\n",
    "    rendimiento.append((l,np.mean(rend)))"
   ]
  },
  {
   "cell_type": "code",
   "execution_count": 129,
   "id": "80239857-40ec-4283-9585-034e2a99c002",
   "metadata": {},
   "outputs": [
    {
     "data": {
      "text/plain": [
       "[(0.1, 13.060752018257011),\n",
       " (1.2000000000000002, 13.07479587636917),\n",
       " (2.3000000000000003, 13.129551459785333),\n",
       " (3.4000000000000004, 13.181573999559655),\n",
       " (4.5, 13.230916227537445),\n",
       " (5.6, 13.275465311997683),\n",
       " (6.7, 13.316549544858608),\n",
       " (7.800000000000001, 13.354833596322127),\n",
       " (8.9, 13.391100771516577),\n",
       " (10.0, 13.425906017809249)]"
      ]
     },
     "execution_count": 129,
     "metadata": {},
     "output_type": "execute_result"
    }
   ],
   "source": [
    "rendimiento"
   ]
  },
  {
   "cell_type": "markdown",
   "id": "e7e87297-ee42-4843-adcd-d487272ebad3",
   "metadata": {
    "tags": []
   },
   "source": [
    "# Submit"
   ]
  },
  {
   "cell_type": "code",
   "execution_count": 116,
   "id": "6bb297c9-07fd-4e41-a628-54d6c1f6fba5",
   "metadata": {},
   "outputs": [],
   "source": [
    "test=datos_test.drop(['Unnamed: 0','Itinerary','Destination',\n",
    "                            'Package Name','Places Covered',\n",
    "                            'Travel Date','Hotel Details','Start City',\n",
    "                            'Airline',\n",
    "                            'Package Type','Cancellation Rules','Quarter','paquete',\n",
    "                             'Meals','Sightseeing Places Covered','ano','mes','hotel_qual_prom','Rule 2','Rule 3',\n",
    "                           'Rule 4','Rule 5','Rule 6','Rule 7',\n",
    "                           'Rule 8','2021','Q1','Q2','Q3',' Gwalior fort ',\n",
    "                           'Budget',' Delhi to Udaipur by Bus (Departure between 5 pm - 10 pm) ' ,' Dinner at Rambagh Palace - MMT ',' Udaipur to Delhi by Bus (Departure between 5 pm - 10 pm) '],axis=1)"
   ]
  },
  {
   "cell_type": "code",
   "execution_count": 117,
   "id": "822bbcd0-e865-4bd1-a115-f2c82edf228c",
   "metadata": {},
   "outputs": [],
   "source": [
    "test['dest_num_square']=test['dest_numb']**2"
   ]
  },
  {
   "cell_type": "code",
   "execution_count": 118,
   "id": "c3525c2e-022d-4de8-9a14-aba4057062b1",
   "metadata": {},
   "outputs": [],
   "source": [
    "test['total_noches_sqr']=(test['total_noches'])**(1/2)"
   ]
  },
  {
   "cell_type": "code",
   "execution_count": 119,
   "id": "c76dd773-7f2a-4e4e-b98a-99028af3bb68",
   "metadata": {},
   "outputs": [],
   "source": [
    "test['noches_pond_hotel_log']=np.log(test['noches_pond_hotel'])"
   ]
  },
  {
   "cell_type": "code",
   "execution_count": 124,
   "id": "2be7f4b8-3dc0-4010-b5a9-401d123c3995",
   "metadata": {},
   "outputs": [],
   "source": [
    "reg = LinearRegression().fit(X, box_cox(y,-0.1))\n",
    "y_pred = reg.predict(test)\n",
    "y_pred=inv_box_cox(y_pred,-0.1)"
   ]
  },
  {
   "cell_type": "code",
   "execution_count": 125,
   "id": "349de346-03c2-4bb9-8ee3-1cbe31b2c5f8",
   "metadata": {},
   "outputs": [],
   "source": [
    "submit = pd.read_csv(\"sample_submission.csv\")"
   ]
  },
  {
   "cell_type": "code",
   "execution_count": 126,
   "id": "916ec5d9-9402-425c-b404-a988dbc801fc",
   "metadata": {},
   "outputs": [],
   "source": [
    "submit['PPPrice']=y_pred\n",
    "submit.set_index('Index',inplace = True)\n"
   ]
  },
  {
   "cell_type": "code",
   "execution_count": 127,
   "id": "dd2d9cba-6718-4776-b875-ca54d74e8ccc",
   "metadata": {},
   "outputs": [
    {
     "data": {
      "text/html": [
       "<div>\n",
       "<style scoped>\n",
       "    .dataframe tbody tr th:only-of-type {\n",
       "        vertical-align: middle;\n",
       "    }\n",
       "\n",
       "    .dataframe tbody tr th {\n",
       "        vertical-align: top;\n",
       "    }\n",
       "\n",
       "    .dataframe thead th {\n",
       "        text-align: right;\n",
       "    }\n",
       "</style>\n",
       "<table border=\"1\" class=\"dataframe\">\n",
       "  <thead>\n",
       "    <tr style=\"text-align: right;\">\n",
       "      <th></th>\n",
       "      <th>PPPrice</th>\n",
       "    </tr>\n",
       "    <tr>\n",
       "      <th>Index</th>\n",
       "      <th></th>\n",
       "    </tr>\n",
       "  </thead>\n",
       "  <tbody>\n",
       "    <tr>\n",
       "      <th>7798</th>\n",
       "      <td>249.167459</td>\n",
       "    </tr>\n",
       "    <tr>\n",
       "      <th>1788</th>\n",
       "      <td>215.742205</td>\n",
       "    </tr>\n",
       "    <tr>\n",
       "      <th>2084</th>\n",
       "      <td>285.385473</td>\n",
       "    </tr>\n",
       "    <tr>\n",
       "      <th>18361</th>\n",
       "      <td>207.336473</td>\n",
       "    </tr>\n",
       "    <tr>\n",
       "      <th>13939</th>\n",
       "      <td>425.103112</td>\n",
       "    </tr>\n",
       "    <tr>\n",
       "      <th>...</th>\n",
       "      <td>...</td>\n",
       "    </tr>\n",
       "    <tr>\n",
       "      <th>19911</th>\n",
       "      <td>436.588389</td>\n",
       "    </tr>\n",
       "    <tr>\n",
       "      <th>13668</th>\n",
       "      <td>261.024941</td>\n",
       "    </tr>\n",
       "    <tr>\n",
       "      <th>12168</th>\n",
       "      <td>206.967097</td>\n",
       "    </tr>\n",
       "    <tr>\n",
       "      <th>20634</th>\n",
       "      <td>170.969013</td>\n",
       "    </tr>\n",
       "    <tr>\n",
       "      <th>2575</th>\n",
       "      <td>303.925592</td>\n",
       "    </tr>\n",
       "  </tbody>\n",
       "</table>\n",
       "<p>5250 rows × 1 columns</p>\n",
       "</div>"
      ],
      "text/plain": [
       "          PPPrice\n",
       "Index            \n",
       "7798   249.167459\n",
       "1788   215.742205\n",
       "2084   285.385473\n",
       "18361  207.336473\n",
       "13939  425.103112\n",
       "...           ...\n",
       "19911  436.588389\n",
       "13668  261.024941\n",
       "12168  206.967097\n",
       "20634  170.969013\n",
       "2575   303.925592\n",
       "\n",
       "[5250 rows x 1 columns]"
      ]
     },
     "execution_count": 127,
     "metadata": {},
     "output_type": "execute_result"
    }
   ],
   "source": [
    "submit"
   ]
  },
  {
   "cell_type": "code",
   "execution_count": 128,
   "id": "54e625f5-b0b2-4dca-8a68-e01ffc68cb41",
   "metadata": {},
   "outputs": [],
   "source": [
    "submit.to_csv('sample_submission_total_final.csv')"
   ]
  }
 ],
 "metadata": {
  "kernelspec": {
   "display_name": "Python 3",
   "language": "python",
   "name": "python3"
  },
  "language_info": {
   "codemirror_mode": {
    "name": "ipython",
    "version": 3
   },
   "file_extension": ".py",
   "mimetype": "text/x-python",
   "name": "python",
   "nbconvert_exporter": "python",
   "pygments_lexer": "ipython3",
   "version": "3.8.5"
  }
 },
 "nbformat": 4,
 "nbformat_minor": 5
}
